{
  "nbformat": 4,
  "nbformat_minor": 0,
  "metadata": {
    "colab": {
      "name": "Untitled",
      "provenance": [],
      "collapsed_sections": [],
      "toc_visible": true,
      "authorship_tag": "ABX9TyMeroHg+hIZBalLsFrwg9v7",
      "include_colab_link": true
    },
    "kernelspec": {
      "name": "python3",
      "display_name": "Python 3"
    }
  },
  "cells": [
    {
      "cell_type": "markdown",
      "metadata": {
        "id": "view-in-github",
        "colab_type": "text"
      },
      "source": [
        "<a href=\"https://colab.research.google.com/github/rajadevineni/House_Price_Prediction/blob/master/KNN_regressor.ipynb\" target=\"_parent\"><img src=\"https://colab.research.google.com/assets/colab-badge.svg\" alt=\"Open In Colab\"/></a>"
      ]
    },
    {
      "cell_type": "code",
      "metadata": {
        "id": "ijwwyPSyOWpG",
        "colab_type": "code",
        "colab": {}
      },
      "source": [
        "import pandas as pd\n",
        "import matplotlib.pyplot as plt\n",
        "import numpy as np"
      ],
      "execution_count": 34,
      "outputs": []
    },
    {
      "cell_type": "markdown",
      "metadata": {
        "id": "cEJQcVIt8UZo",
        "colab_type": "text"
      },
      "source": [
        "# **Loading the Data**"
      ]
    },
    {
      "cell_type": "code",
      "metadata": {
        "id": "O-daqlwZPQro",
        "colab_type": "code",
        "colab": {}
      },
      "source": [
        "data =  pd.read_csv(\"data.csv\")\n",
        "make_prediction= pd.read_csv(\"make_prediction.csv\")"
      ],
      "execution_count": 2,
      "outputs": []
    },
    {
      "cell_type": "code",
      "metadata": {
        "id": "Yk33SBWkQdGW",
        "colab_type": "code",
        "colab": {
          "base_uri": "https://localhost:8080/",
          "height": 51
        },
        "outputId": "b0854b9f-35b1-4454-d606-ed34a167bb1c"
      },
      "source": [
        "print(data.shape)\n",
        "print(make_prediction.shape)"
      ],
      "execution_count": 3,
      "outputs": [
        {
          "output_type": "stream",
          "text": [
            "(3000, 18)\n",
            "(1552, 17)\n"
          ],
          "name": "stdout"
        }
      ]
    },
    {
      "cell_type": "code",
      "metadata": {
        "id": "EAI1--aAQ6xR",
        "colab_type": "code",
        "colab": {
          "base_uri": "https://localhost:8080/",
          "height": 479
        },
        "outputId": "ceb192d9-67c6-4003-b66b-defe171324e2"
      },
      "source": [
        "pd.set_option('display.max_columns', 999)\n",
        "data.head()"
      ],
      "execution_count": 57,
      "outputs": [
        {
          "output_type": "execute_result",
          "data": {
            "text/html": [
              "<div>\n",
              "<style scoped>\n",
              "    .dataframe tbody tr th:only-of-type {\n",
              "        vertical-align: middle;\n",
              "    }\n",
              "\n",
              "    .dataframe tbody tr th {\n",
              "        vertical-align: top;\n",
              "    }\n",
              "\n",
              "    .dataframe thead th {\n",
              "        text-align: right;\n",
              "    }\n",
              "</style>\n",
              "<table border=\"1\" class=\"dataframe\">\n",
              "  <thead>\n",
              "    <tr style=\"text-align: right;\">\n",
              "      <th></th>\n",
              "      <th>Id</th>\n",
              "      <th>price</th>\n",
              "      <th>bedrooms</th>\n",
              "      <th>bathrooms</th>\n",
              "      <th>sqft_living</th>\n",
              "      <th>sqft_lot</th>\n",
              "      <th>floors</th>\n",
              "      <th>waterfront</th>\n",
              "      <th>view</th>\n",
              "      <th>condition</th>\n",
              "      <th>sqft_above</th>\n",
              "      <th>sqft_basement</th>\n",
              "      <th>yr_built</th>\n",
              "      <th>yr_renovated</th>\n",
              "      <th>street</th>\n",
              "      <th>city</th>\n",
              "      <th>statezip</th>\n",
              "      <th>country</th>\n",
              "    </tr>\n",
              "  </thead>\n",
              "  <tbody>\n",
              "    <tr>\n",
              "      <th>0</th>\n",
              "      <td>1</td>\n",
              "      <td>591000.0</td>\n",
              "      <td>3</td>\n",
              "      <td>1.75</td>\n",
              "      <td>1680</td>\n",
              "      <td>2400</td>\n",
              "      <td>1.0</td>\n",
              "      <td>0</td>\n",
              "      <td>0</td>\n",
              "      <td>5</td>\n",
              "      <td>870</td>\n",
              "      <td>810</td>\n",
              "      <td>1922</td>\n",
              "      <td>1956</td>\n",
              "      <td>1600-1608 25th Ave</td>\n",
              "      <td>Seattle</td>\n",
              "      <td>WA 98122</td>\n",
              "      <td>USA</td>\n",
              "    </tr>\n",
              "    <tr>\n",
              "      <th>1</th>\n",
              "      <td>2</td>\n",
              "      <td>415000.0</td>\n",
              "      <td>4</td>\n",
              "      <td>2.25</td>\n",
              "      <td>3060</td>\n",
              "      <td>48787</td>\n",
              "      <td>2.0</td>\n",
              "      <td>0</td>\n",
              "      <td>0</td>\n",
              "      <td>3</td>\n",
              "      <td>3060</td>\n",
              "      <td>0</td>\n",
              "      <td>1992</td>\n",
              "      <td>0</td>\n",
              "      <td>31701-31799 SE 291st St</td>\n",
              "      <td>Ravensdale</td>\n",
              "      <td>WA 98051</td>\n",
              "      <td>USA</td>\n",
              "    </tr>\n",
              "    <tr>\n",
              "      <th>2</th>\n",
              "      <td>3</td>\n",
              "      <td>402000.0</td>\n",
              "      <td>3</td>\n",
              "      <td>2.50</td>\n",
              "      <td>1960</td>\n",
              "      <td>8000</td>\n",
              "      <td>1.0</td>\n",
              "      <td>0</td>\n",
              "      <td>0</td>\n",
              "      <td>4</td>\n",
              "      <td>1290</td>\n",
              "      <td>670</td>\n",
              "      <td>1977</td>\n",
              "      <td>0</td>\n",
              "      <td>12207 NE 139th Pl</td>\n",
              "      <td>Kirkland</td>\n",
              "      <td>WA 98034</td>\n",
              "      <td>USA</td>\n",
              "    </tr>\n",
              "    <tr>\n",
              "      <th>3</th>\n",
              "      <td>4</td>\n",
              "      <td>542525.0</td>\n",
              "      <td>4</td>\n",
              "      <td>2.50</td>\n",
              "      <td>2650</td>\n",
              "      <td>5600</td>\n",
              "      <td>2.0</td>\n",
              "      <td>0</td>\n",
              "      <td>0</td>\n",
              "      <td>3</td>\n",
              "      <td>2650</td>\n",
              "      <td>0</td>\n",
              "      <td>2014</td>\n",
              "      <td>0</td>\n",
              "      <td>13516 164th Ave SE</td>\n",
              "      <td>Renton</td>\n",
              "      <td>WA 98059</td>\n",
              "      <td>USA</td>\n",
              "    </tr>\n",
              "    <tr>\n",
              "      <th>4</th>\n",
              "      <td>5</td>\n",
              "      <td>515000.0</td>\n",
              "      <td>3</td>\n",
              "      <td>2.50</td>\n",
              "      <td>2010</td>\n",
              "      <td>7200</td>\n",
              "      <td>2.0</td>\n",
              "      <td>0</td>\n",
              "      <td>0</td>\n",
              "      <td>3</td>\n",
              "      <td>2010</td>\n",
              "      <td>0</td>\n",
              "      <td>1994</td>\n",
              "      <td>0</td>\n",
              "      <td>8818 NE 150th St</td>\n",
              "      <td>Kenmore</td>\n",
              "      <td>WA 98028</td>\n",
              "      <td>USA</td>\n",
              "    </tr>\n",
              "  </tbody>\n",
              "</table>\n",
              "</div>"
            ],
            "text/plain": [
              "   Id     price  bedrooms  bathrooms  sqft_living  sqft_lot  floors  \\\n",
              "0   1  591000.0         3       1.75         1680      2400     1.0   \n",
              "1   2  415000.0         4       2.25         3060     48787     2.0   \n",
              "2   3  402000.0         3       2.50         1960      8000     1.0   \n",
              "3   4  542525.0         4       2.50         2650      5600     2.0   \n",
              "4   5  515000.0         3       2.50         2010      7200     2.0   \n",
              "\n",
              "   waterfront  view  condition  sqft_above  sqft_basement  yr_built  \\\n",
              "0           0     0          5         870            810      1922   \n",
              "1           0     0          3        3060              0      1992   \n",
              "2           0     0          4        1290            670      1977   \n",
              "3           0     0          3        2650              0      2014   \n",
              "4           0     0          3        2010              0      1994   \n",
              "\n",
              "   yr_renovated                   street        city  statezip country  \n",
              "0          1956       1600-1608 25th Ave     Seattle  WA 98122     USA  \n",
              "1             0  31701-31799 SE 291st St  Ravensdale  WA 98051     USA  \n",
              "2             0        12207 NE 139th Pl    Kirkland  WA 98034     USA  \n",
              "3             0       13516 164th Ave SE      Renton  WA 98059     USA  \n",
              "4             0         8818 NE 150th St     Kenmore  WA 98028     USA  "
            ]
          },
          "metadata": {
            "tags": []
          },
          "execution_count": 57
        }
      ]
    },
    {
      "cell_type": "code",
      "metadata": {
        "id": "eJZufzT_nMeY",
        "colab_type": "code",
        "colab": {
          "base_uri": "https://localhost:8080/",
          "height": 289
        },
        "outputId": "e33eab2d-ab10-4c2f-fb19-dfc439f37e75"
      },
      "source": [
        "make_prediction.head()"
      ],
      "execution_count": 5,
      "outputs": [
        {
          "output_type": "execute_result",
          "data": {
            "text/html": [
              "<div>\n",
              "<style scoped>\n",
              "    .dataframe tbody tr th:only-of-type {\n",
              "        vertical-align: middle;\n",
              "    }\n",
              "\n",
              "    .dataframe tbody tr th {\n",
              "        vertical-align: top;\n",
              "    }\n",
              "\n",
              "    .dataframe thead th {\n",
              "        text-align: right;\n",
              "    }\n",
              "</style>\n",
              "<table border=\"1\" class=\"dataframe\">\n",
              "  <thead>\n",
              "    <tr style=\"text-align: right;\">\n",
              "      <th></th>\n",
              "      <th>Id</th>\n",
              "      <th>bedrooms</th>\n",
              "      <th>bathrooms</th>\n",
              "      <th>sqft_living</th>\n",
              "      <th>sqft_lot</th>\n",
              "      <th>floors</th>\n",
              "      <th>waterfront</th>\n",
              "      <th>view</th>\n",
              "      <th>condition</th>\n",
              "      <th>sqft_above</th>\n",
              "      <th>sqft_basement</th>\n",
              "      <th>yr_built</th>\n",
              "      <th>yr_renovated</th>\n",
              "      <th>street</th>\n",
              "      <th>city</th>\n",
              "      <th>statezip</th>\n",
              "      <th>country</th>\n",
              "    </tr>\n",
              "  </thead>\n",
              "  <tbody>\n",
              "    <tr>\n",
              "      <th>0</th>\n",
              "      <td>3000</td>\n",
              "      <td>2</td>\n",
              "      <td>1.00</td>\n",
              "      <td>1210</td>\n",
              "      <td>9400</td>\n",
              "      <td>1.0</td>\n",
              "      <td>0</td>\n",
              "      <td>0</td>\n",
              "      <td>2</td>\n",
              "      <td>1210</td>\n",
              "      <td>0</td>\n",
              "      <td>1949</td>\n",
              "      <td>0</td>\n",
              "      <td>7542 21st Ave SW</td>\n",
              "      <td>Seattle</td>\n",
              "      <td>WA 98106</td>\n",
              "      <td>USA</td>\n",
              "    </tr>\n",
              "    <tr>\n",
              "      <th>1</th>\n",
              "      <td>3001</td>\n",
              "      <td>3</td>\n",
              "      <td>1.75</td>\n",
              "      <td>1620</td>\n",
              "      <td>3975</td>\n",
              "      <td>1.0</td>\n",
              "      <td>0</td>\n",
              "      <td>0</td>\n",
              "      <td>5</td>\n",
              "      <td>940</td>\n",
              "      <td>680</td>\n",
              "      <td>1926</td>\n",
              "      <td>0</td>\n",
              "      <td>6729 Dibble Ave NW</td>\n",
              "      <td>Seattle</td>\n",
              "      <td>WA 98117</td>\n",
              "      <td>USA</td>\n",
              "    </tr>\n",
              "    <tr>\n",
              "      <th>2</th>\n",
              "      <td>3002</td>\n",
              "      <td>3</td>\n",
              "      <td>1.00</td>\n",
              "      <td>1520</td>\n",
              "      <td>213444</td>\n",
              "      <td>1.5</td>\n",
              "      <td>0</td>\n",
              "      <td>3</td>\n",
              "      <td>5</td>\n",
              "      <td>1520</td>\n",
              "      <td>0</td>\n",
              "      <td>1988</td>\n",
              "      <td>0</td>\n",
              "      <td>10500 185th Ave SE</td>\n",
              "      <td>Renton</td>\n",
              "      <td>WA 98059</td>\n",
              "      <td>USA</td>\n",
              "    </tr>\n",
              "    <tr>\n",
              "      <th>3</th>\n",
              "      <td>3003</td>\n",
              "      <td>4</td>\n",
              "      <td>2.50</td>\n",
              "      <td>2910</td>\n",
              "      <td>5776</td>\n",
              "      <td>2.0</td>\n",
              "      <td>0</td>\n",
              "      <td>2</td>\n",
              "      <td>3</td>\n",
              "      <td>2910</td>\n",
              "      <td>0</td>\n",
              "      <td>1998</td>\n",
              "      <td>2006</td>\n",
              "      <td>6907 Fairway Ave SE</td>\n",
              "      <td>Snoqualmie</td>\n",
              "      <td>WA 98065</td>\n",
              "      <td>USA</td>\n",
              "    </tr>\n",
              "    <tr>\n",
              "      <th>4</th>\n",
              "      <td>3004</td>\n",
              "      <td>4</td>\n",
              "      <td>2.50</td>\n",
              "      <td>2683</td>\n",
              "      <td>40386</td>\n",
              "      <td>2.0</td>\n",
              "      <td>0</td>\n",
              "      <td>0</td>\n",
              "      <td>4</td>\n",
              "      <td>2683</td>\n",
              "      <td>0</td>\n",
              "      <td>1987</td>\n",
              "      <td>0</td>\n",
              "      <td>10821 151st Ave NE</td>\n",
              "      <td>Redmond</td>\n",
              "      <td>WA 98052</td>\n",
              "      <td>USA</td>\n",
              "    </tr>\n",
              "  </tbody>\n",
              "</table>\n",
              "</div>"
            ],
            "text/plain": [
              "     Id  bedrooms  bathrooms  sqft_living  sqft_lot  floors  waterfront  view  \\\n",
              "0  3000         2       1.00         1210      9400     1.0           0     0   \n",
              "1  3001         3       1.75         1620      3975     1.0           0     0   \n",
              "2  3002         3       1.00         1520    213444     1.5           0     3   \n",
              "3  3003         4       2.50         2910      5776     2.0           0     2   \n",
              "4  3004         4       2.50         2683     40386     2.0           0     0   \n",
              "\n",
              "   condition  sqft_above  sqft_basement  yr_built  yr_renovated  \\\n",
              "0          2        1210              0      1949             0   \n",
              "1          5         940            680      1926             0   \n",
              "2          5        1520              0      1988             0   \n",
              "3          3        2910              0      1998          2006   \n",
              "4          4        2683              0      1987             0   \n",
              "\n",
              "                street        city  statezip country  \n",
              "0     7542 21st Ave SW     Seattle  WA 98106     USA  \n",
              "1   6729 Dibble Ave NW     Seattle  WA 98117     USA  \n",
              "2   10500 185th Ave SE      Renton  WA 98059     USA  \n",
              "3  6907 Fairway Ave SE  Snoqualmie  WA 98065     USA  \n",
              "4   10821 151st Ave NE     Redmond  WA 98052     USA  "
            ]
          },
          "metadata": {
            "tags": []
          },
          "execution_count": 5
        }
      ]
    },
    {
      "cell_type": "code",
      "metadata": {
        "id": "7rCXmuFmnQi2",
        "colab_type": "code",
        "colab": {
          "base_uri": "https://localhost:8080/",
          "height": 297
        },
        "outputId": "6c058848-bcef-46a7-e96c-f8ba2a5a8c16"
      },
      "source": [
        "data.describe()"
      ],
      "execution_count": 6,
      "outputs": [
        {
          "output_type": "execute_result",
          "data": {
            "text/html": [
              "<div>\n",
              "<style scoped>\n",
              "    .dataframe tbody tr th:only-of-type {\n",
              "        vertical-align: middle;\n",
              "    }\n",
              "\n",
              "    .dataframe tbody tr th {\n",
              "        vertical-align: top;\n",
              "    }\n",
              "\n",
              "    .dataframe thead th {\n",
              "        text-align: right;\n",
              "    }\n",
              "</style>\n",
              "<table border=\"1\" class=\"dataframe\">\n",
              "  <thead>\n",
              "    <tr style=\"text-align: right;\">\n",
              "      <th></th>\n",
              "      <th>Id</th>\n",
              "      <th>price</th>\n",
              "      <th>bedrooms</th>\n",
              "      <th>bathrooms</th>\n",
              "      <th>sqft_living</th>\n",
              "      <th>sqft_lot</th>\n",
              "      <th>floors</th>\n",
              "      <th>waterfront</th>\n",
              "      <th>view</th>\n",
              "      <th>condition</th>\n",
              "      <th>sqft_above</th>\n",
              "      <th>sqft_basement</th>\n",
              "      <th>yr_built</th>\n",
              "      <th>yr_renovated</th>\n",
              "    </tr>\n",
              "  </thead>\n",
              "  <tbody>\n",
              "    <tr>\n",
              "      <th>count</th>\n",
              "      <td>3000.000000</td>\n",
              "      <td>3.000000e+03</td>\n",
              "      <td>3000.000000</td>\n",
              "      <td>3000.000000</td>\n",
              "      <td>3000.000000</td>\n",
              "      <td>3.000000e+03</td>\n",
              "      <td>3000.000000</td>\n",
              "      <td>3000.000000</td>\n",
              "      <td>3000.000000</td>\n",
              "      <td>3000.000000</td>\n",
              "      <td>3000.000000</td>\n",
              "      <td>3000.000000</td>\n",
              "      <td>3000.000000</td>\n",
              "      <td>3000.000000</td>\n",
              "    </tr>\n",
              "    <tr>\n",
              "      <th>mean</th>\n",
              "      <td>1500.500000</td>\n",
              "      <td>5.593498e+05</td>\n",
              "      <td>3.397000</td>\n",
              "      <td>2.158250</td>\n",
              "      <td>2134.094000</td>\n",
              "      <td>1.464680e+04</td>\n",
              "      <td>1.511333</td>\n",
              "      <td>0.008333</td>\n",
              "      <td>0.242000</td>\n",
              "      <td>3.447000</td>\n",
              "      <td>1821.023333</td>\n",
              "      <td>313.070667</td>\n",
              "      <td>1971.042667</td>\n",
              "      <td>792.034333</td>\n",
              "    </tr>\n",
              "    <tr>\n",
              "      <th>std</th>\n",
              "      <td>866.169729</td>\n",
              "      <td>6.346427e+05</td>\n",
              "      <td>0.910128</td>\n",
              "      <td>0.770071</td>\n",
              "      <td>946.966058</td>\n",
              "      <td>3.634340e+04</td>\n",
              "      <td>0.541420</td>\n",
              "      <td>0.090921</td>\n",
              "      <td>0.783352</td>\n",
              "      <td>0.674297</td>\n",
              "      <td>844.532322</td>\n",
              "      <td>466.736261</td>\n",
              "      <td>29.622874</td>\n",
              "      <td>976.379493</td>\n",
              "    </tr>\n",
              "    <tr>\n",
              "      <th>min</th>\n",
              "      <td>1.000000</td>\n",
              "      <td>7.800000e+03</td>\n",
              "      <td>0.000000</td>\n",
              "      <td>0.000000</td>\n",
              "      <td>370.000000</td>\n",
              "      <td>6.380000e+02</td>\n",
              "      <td>1.000000</td>\n",
              "      <td>0.000000</td>\n",
              "      <td>0.000000</td>\n",
              "      <td>1.000000</td>\n",
              "      <td>370.000000</td>\n",
              "      <td>0.000000</td>\n",
              "      <td>1900.000000</td>\n",
              "      <td>0.000000</td>\n",
              "    </tr>\n",
              "    <tr>\n",
              "      <th>25%</th>\n",
              "      <td>750.750000</td>\n",
              "      <td>3.250000e+05</td>\n",
              "      <td>3.000000</td>\n",
              "      <td>1.750000</td>\n",
              "      <td>1460.000000</td>\n",
              "      <td>5.000000e+03</td>\n",
              "      <td>1.000000</td>\n",
              "      <td>0.000000</td>\n",
              "      <td>0.000000</td>\n",
              "      <td>3.000000</td>\n",
              "      <td>1190.000000</td>\n",
              "      <td>0.000000</td>\n",
              "      <td>1951.000000</td>\n",
              "      <td>0.000000</td>\n",
              "    </tr>\n",
              "    <tr>\n",
              "      <th>50%</th>\n",
              "      <td>1500.500000</td>\n",
              "      <td>4.642500e+05</td>\n",
              "      <td>3.000000</td>\n",
              "      <td>2.250000</td>\n",
              "      <td>1975.000000</td>\n",
              "      <td>7.651000e+03</td>\n",
              "      <td>1.500000</td>\n",
              "      <td>0.000000</td>\n",
              "      <td>0.000000</td>\n",
              "      <td>3.000000</td>\n",
              "      <td>1590.000000</td>\n",
              "      <td>0.000000</td>\n",
              "      <td>1976.000000</td>\n",
              "      <td>0.000000</td>\n",
              "    </tr>\n",
              "    <tr>\n",
              "      <th>75%</th>\n",
              "      <td>2250.250000</td>\n",
              "      <td>6.575000e+05</td>\n",
              "      <td>4.000000</td>\n",
              "      <td>2.500000</td>\n",
              "      <td>2630.000000</td>\n",
              "      <td>1.090125e+04</td>\n",
              "      <td>2.000000</td>\n",
              "      <td>0.000000</td>\n",
              "      <td>0.000000</td>\n",
              "      <td>4.000000</td>\n",
              "      <td>2303.000000</td>\n",
              "      <td>620.000000</td>\n",
              "      <td>1997.000000</td>\n",
              "      <td>1999.000000</td>\n",
              "    </tr>\n",
              "    <tr>\n",
              "      <th>max</th>\n",
              "      <td>3000.000000</td>\n",
              "      <td>2.659000e+07</td>\n",
              "      <td>9.000000</td>\n",
              "      <td>8.000000</td>\n",
              "      <td>13540.000000</td>\n",
              "      <td>1.074218e+06</td>\n",
              "      <td>3.500000</td>\n",
              "      <td>1.000000</td>\n",
              "      <td>4.000000</td>\n",
              "      <td>5.000000</td>\n",
              "      <td>9410.000000</td>\n",
              "      <td>4820.000000</td>\n",
              "      <td>2014.000000</td>\n",
              "      <td>2014.000000</td>\n",
              "    </tr>\n",
              "  </tbody>\n",
              "</table>\n",
              "</div>"
            ],
            "text/plain": [
              "                Id         price     bedrooms    bathrooms   sqft_living  \\\n",
              "count  3000.000000  3.000000e+03  3000.000000  3000.000000   3000.000000   \n",
              "mean   1500.500000  5.593498e+05     3.397000     2.158250   2134.094000   \n",
              "std     866.169729  6.346427e+05     0.910128     0.770071    946.966058   \n",
              "min       1.000000  7.800000e+03     0.000000     0.000000    370.000000   \n",
              "25%     750.750000  3.250000e+05     3.000000     1.750000   1460.000000   \n",
              "50%    1500.500000  4.642500e+05     3.000000     2.250000   1975.000000   \n",
              "75%    2250.250000  6.575000e+05     4.000000     2.500000   2630.000000   \n",
              "max    3000.000000  2.659000e+07     9.000000     8.000000  13540.000000   \n",
              "\n",
              "           sqft_lot       floors   waterfront         view    condition  \\\n",
              "count  3.000000e+03  3000.000000  3000.000000  3000.000000  3000.000000   \n",
              "mean   1.464680e+04     1.511333     0.008333     0.242000     3.447000   \n",
              "std    3.634340e+04     0.541420     0.090921     0.783352     0.674297   \n",
              "min    6.380000e+02     1.000000     0.000000     0.000000     1.000000   \n",
              "25%    5.000000e+03     1.000000     0.000000     0.000000     3.000000   \n",
              "50%    7.651000e+03     1.500000     0.000000     0.000000     3.000000   \n",
              "75%    1.090125e+04     2.000000     0.000000     0.000000     4.000000   \n",
              "max    1.074218e+06     3.500000     1.000000     4.000000     5.000000   \n",
              "\n",
              "        sqft_above  sqft_basement     yr_built  yr_renovated  \n",
              "count  3000.000000    3000.000000  3000.000000   3000.000000  \n",
              "mean   1821.023333     313.070667  1971.042667    792.034333  \n",
              "std     844.532322     466.736261    29.622874    976.379493  \n",
              "min     370.000000       0.000000  1900.000000      0.000000  \n",
              "25%    1190.000000       0.000000  1951.000000      0.000000  \n",
              "50%    1590.000000       0.000000  1976.000000      0.000000  \n",
              "75%    2303.000000     620.000000  1997.000000   1999.000000  \n",
              "max    9410.000000    4820.000000  2014.000000   2014.000000  "
            ]
          },
          "metadata": {
            "tags": []
          },
          "execution_count": 6
        }
      ]
    },
    {
      "cell_type": "markdown",
      "metadata": {
        "id": "TU1k10EBCZLb",
        "colab_type": "text"
      },
      "source": [
        "## **Creating feature set(X) and target set(Y)**\n",
        "While creating the feature set we drop the unwanted columns like ID, Street and country"
      ]
    },
    {
      "cell_type": "code",
      "metadata": {
        "id": "fSHSbw1znXj3",
        "colab_type": "code",
        "colab": {
          "base_uri": "https://localhost:8080/",
          "height": 51
        },
        "outputId": "79023995-c7af-43fd-ce2a-e16194b635aa"
      },
      "source": [
        "X = data.drop(['price','Id','street','country'], axis=1)\n",
        "y = data['price']\n",
        "print(\"shape of independent set:\",X.shape)\n",
        "print(\"shape of target set:\",y.shape)"
      ],
      "execution_count": 75,
      "outputs": [
        {
          "output_type": "stream",
          "text": [
            "shape of independent set: (3000, 14)\n",
            "shape of target set: (3000,)\n"
          ],
          "name": "stdout"
        }
      ]
    },
    {
      "cell_type": "markdown",
      "metadata": {
        "id": "jab2aXTQYeSK",
        "colab_type": "text"
      },
      "source": [
        "# **1.\tDetermine, which features, are continuous vs categorical**"
      ]
    },
    {
      "cell_type": "code",
      "metadata": {
        "id": "oFEgB6seYbPs",
        "colab_type": "code",
        "colab": {
          "base_uri": "https://localhost:8080/",
          "height": 272
        },
        "outputId": "c0478cb1-7de6-4df0-b138-50d15811ff5e"
      },
      "source": [
        "categorical_features = ['view','condition','waterfront']\n",
        "discreate_features = ['bedrooms','bathrooms','floors']\n",
        "continous_features = ['sqft_living','sqft_lot','sqft_above','sqft_basement','yr_built','yr_renovated']\n",
        "print(\"Categorical Features: \")\n",
        "for i in categorical_features:\n",
        "  print(\"\\t\",i)\n",
        "print(\"Discreate Features: \")\n",
        "for i in discreate_features:\n",
        "  print(\"\\t\",i)\n",
        "print(\"Continous Features: \")\n",
        "for i in continous_features:\n",
        "  print(\"\\t\",i)"
      ],
      "execution_count": 99,
      "outputs": [
        {
          "output_type": "stream",
          "text": [
            "Categorical Features: \n",
            "\t view\n",
            "\t condition\n",
            "\t waterfront\n",
            "Discreate Features: \n",
            "\t bedrooms\n",
            "\t bathrooms\n",
            "\t floors\n",
            "Continous Features: \n",
            "\t sqft_living\n",
            "\t sqft_lot\n",
            "\t sqft_above\n",
            "\t sqft_basement\n",
            "\t yr_built\n",
            "\t yr_renovated\n"
          ],
          "name": "stdout"
        }
      ]
    },
    {
      "cell_type": "markdown",
      "metadata": {
        "id": "NGMi7YohRmrU",
        "colab_type": "text"
      },
      "source": [
        "# **2.\tVisualize the univariate distribution of each continuous feature, and the distribution of the target**"
      ]
    },
    {
      "cell_type": "markdown",
      "metadata": {
        "id": "ZRjVzO2rc7rz",
        "colab_type": "text"
      },
      "source": [
        "### **Distribution of each continuous feature**\n",
        "**Key take aways from disctribution graphs:**\n",
        "* More than half of the data doesn't have the year of rennovation values, that can be either due to no rennovations recorded for that house or no rennovations done\n",
        "* There are outliers in variables like \"sqft_lot\" with abnormal data values"
      ]
    },
    {
      "cell_type": "code",
      "metadata": {
        "id": "-L2RT8CBRdxx",
        "colab_type": "code",
        "colab": {
          "base_uri": "https://localhost:8080/",
          "height": 879
        },
        "outputId": "cfa62a26-4e3b-40a0-f213-ef58b762f701"
      },
      "source": [
        "data[continous_features].hist(bins=50, figsize=(20,15))\n",
        "plt.show()"
      ],
      "execution_count": 107,
      "outputs": [
        {
          "output_type": "display_data",
          "data": {
            "image/png": "[encoded data removed]",
            "text/plain": [
              "<Figure size 1440x1080 with 6 Axes>"
            ]
          },
          "metadata": {
            "tags": [],
            "needs_background": "light"
          }
        }
      ]
    },
    {
      "cell_type": "markdown",
      "metadata": {
        "id": "MJqDcKdBcyVm",
        "colab_type": "text"
      },
      "source": [
        "### **Distribution of Prices**"
      ]
    },
    {
      "cell_type": "code",
      "metadata": {
        "id": "tQ5djzanaoYe",
        "colab_type": "code",
        "colab": {
          "base_uri": "https://localhost:8080/",
          "height": 281
        },
        "outputId": "c373a54f-1796-4710-8d8e-03397361001f"
      },
      "source": [
        "y.hist(bins=50)\n",
        "plt.title(\"Price Distribution\")\n",
        "plt.ticklabel_format(useOffset=False, style='plain') # removing the scientific scales on the axes\n",
        "plt.show()"
      ],
      "execution_count": 114,
      "outputs": [
        {
          "output_type": "display_data",
          "data": {
            "image/png": "[encoded data removed]",
            "text/plain": [
              "<Figure size 432x288 with 1 Axes>"
            ]
          },
          "metadata": {
            "tags": [],
            "needs_background": "light"
          }
        }
      ]
    },
    {
      "cell_type": "markdown",
      "metadata": {
        "id": "jByVvHgqmPYD",
        "colab_type": "text"
      },
      "source": [
        "## **3. Do you notice anything? Is there something that might require special treatment?**"
      ]
    },
    {
      "cell_type": "code",
      "metadata": {
        "id": "n5P2rXIVqYYg",
        "colab_type": "code",
        "colab": {}
      },
      "source": [
        ""
      ],
      "execution_count": null,
      "outputs": []
    },
    {
      "cell_type": "markdown",
      "metadata": {
        "id": "i0PytjBTQ8Jc",
        "colab_type": "text"
      },
      "source": [
        "# **4. Dependency of the target (price) on each continuous feature.**\n",
        "* Looking at the scatter plots, we can see that there are few outliers in the data with abnormal data values which was also seen in the univariate distribution graphs"
      ]
    },
    {
      "cell_type": "code",
      "metadata": {
        "id": "PXVGBxjTQ8eC",
        "colab_type": "code",
        "colab": {
          "base_uri": "https://localhost:8080/",
          "height": 729
        },
        "outputId": "c184739d-11e1-4069-aed3-da6654e95c85"
      },
      "source": [
        "fig, axs = plt.subplots(2, 3, sharey=True, tight_layout=True, figsize=(20,10))\n",
        "axs = axs.ravel()\n",
        "for i in range(6):\n",
        "    axs[i].scatter(X[continous_features[i]],y)\n",
        "    axs[i].set_title(str(continous_features[i])+ \" Dependancy\")\n",
        "    axs[i].set_xlabel(continous_features[i])\n",
        "    axs[i].set_ylabel('House Price')\n",
        "    axs[i].ticklabel_format(useOffset=False, style='plain') # removing the scientific scales on the axes"
      ],
      "execution_count": 104,
      "outputs": [
        {
          "output_type": "display_data",
          "data": {
            "image/png": "[encoded data removed]",
            "text/plain": [
              "<Figure size 1440x720 with 6 Axes>"
            ]
          },
          "metadata": {
            "tags": [],
            "needs_background": "light"
          }
        }
      ]
    },
    {
      "cell_type": "code",
      "metadata": {
        "id": "X7uK6HORdd-w",
        "colab_type": "code",
        "colab": {}
      },
      "source": [
        ""
      ],
      "execution_count": null,
      "outputs": []
    }
  ]
}