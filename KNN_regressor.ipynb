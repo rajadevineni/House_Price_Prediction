{
  "nbformat": 4,
  "nbformat_minor": 0,
  "metadata": {
    "colab": {
      "name": "Untitled",
      "provenance": [],
      "collapsed_sections": [],
      "toc_visible": true,
      "authorship_tag": "ABX9TyNIGG7qJxE+ktZUQQX1hRAV",
      "include_colab_link": true
    },
    "kernelspec": {
      "name": "python3",
      "display_name": "Python 3"
    }
  },
  "cells": [
    {
      "cell_type": "markdown",
      "metadata": {
        "id": "view-in-github",
        "colab_type": "text"
      },
      "source": [
        "<a href=\"https://colab.research.google.com/github/rajadevineni/House_Price_Prediction/blob/master/KNN_regressor.ipynb\" target=\"_parent\"><img src=\"https://colab.research.google.com/assets/colab-badge.svg\" alt=\"Open In Colab\"/></a>"
      ]
    },
    {
      "cell_type": "code",
      "metadata": {
        "id": "ijwwyPSyOWpG",
        "colab_type": "code",
        "colab": {
          "base_uri": "https://localhost:8080/",
          "height": 360
        },
        "outputId": "11778a89-b544-4972-c973-4ea25d79a706"
      },
      "source": [
        "import pandas as pd\n",
        "import matplotlib.pyplot as plt\n",
        "import numpy as np\n",
        "!pip install feature_engine\n"
      ],
      "execution_count": 3,
      "outputs": [
        {
          "output_type": "stream",
          "text": [
            "Collecting feature_engine\n",
            "  Downloading https://files.pythonhosted.org/packages/d3/36/651f586a52495f6eba6613eafb6e9238a259fd78ece78b03486042a0ff71/feature_engine-0.6.0-py2.py3-none-any.whl\n",
            "Requirement already satisfied: scikit-learn>=0.22.2 in /usr/local/lib/python3.6/dist-packages (from feature_engine) (0.22.2.post1)\n",
            "Requirement already satisfied: scipy>=1.4.1 in /usr/local/lib/python3.6/dist-packages (from feature_engine) (1.4.1)\n",
            "Requirement already satisfied: numpy>=1.18.2 in /usr/local/lib/python3.6/dist-packages (from feature_engine) (1.18.5)\n",
            "Collecting statsmodels>=0.11.1\n",
            "\u001b[?25l  Downloading https://files.pythonhosted.org/packages/00/93/1b6882f92d94e491a3e3be101fc83934551eada261281980f3957246432f/statsmodels-0.12.0-cp36-cp36m-manylinux1_x86_64.whl (9.5MB)\n",
            "\u001b[K     |████████████████████████████████| 9.5MB 5.5MB/s \n",
            "\u001b[?25hRequirement already satisfied: pandas>=1.0.3 in /usr/local/lib/python3.6/dist-packages (from feature_engine) (1.0.5)\n",
            "Requirement already satisfied: joblib>=0.11 in /usr/local/lib/python3.6/dist-packages (from scikit-learn>=0.22.2->feature_engine) (0.16.0)\n",
            "Requirement already satisfied: patsy>=0.5 in /usr/local/lib/python3.6/dist-packages (from statsmodels>=0.11.1->feature_engine) (0.5.1)\n",
            "Requirement already satisfied: python-dateutil>=2.6.1 in /usr/local/lib/python3.6/dist-packages (from pandas>=1.0.3->feature_engine) (2.8.1)\n",
            "Requirement already satisfied: pytz>=2017.2 in /usr/local/lib/python3.6/dist-packages (from pandas>=1.0.3->feature_engine) (2018.9)\n",
            "Requirement already satisfied: six in /usr/local/lib/python3.6/dist-packages (from patsy>=0.5->statsmodels>=0.11.1->feature_engine) (1.15.0)\n",
            "Installing collected packages: statsmodels, feature-engine\n",
            "  Found existing installation: statsmodels 0.10.2\n",
            "    Uninstalling statsmodels-0.10.2:\n",
            "      Successfully uninstalled statsmodels-0.10.2\n",
            "Successfully installed feature-engine-0.6.0 statsmodels-0.12.0\n"
          ],
          "name": "stdout"
        }
      ]
    },
    {
      "cell_type": "markdown",
      "metadata": {
        "id": "cEJQcVIt8UZo",
        "colab_type": "text"
      },
      "source": [
        "# **Loading the Data**"
      ]
    },
    {
      "cell_type": "code",
      "metadata": {
        "id": "O-daqlwZPQro",
        "colab_type": "code",
        "colab": {}
      },
      "source": [
        "data =  pd.read_csv(\"data.csv\")\n",
        "make_prediction= pd.read_csv(\"make_prediction.csv\")"
      ],
      "execution_count": 8,
      "outputs": []
    },
    {
      "cell_type": "code",
      "metadata": {
        "id": "Yk33SBWkQdGW",
        "colab_type": "code",
        "colab": {
          "base_uri": "https://localhost:8080/",
          "height": 51
        },
        "outputId": "b33dbcce-64b1-488b-b7cf-95f15da87def"
      },
      "source": [
        "print(data.shape)\n",
        "print(make_prediction.shape)"
      ],
      "execution_count": 9,
      "outputs": [
        {
          "output_type": "stream",
          "text": [
            "(3000, 18)\n",
            "(1552, 17)\n"
          ],
          "name": "stdout"
        }
      ]
    },
    {
      "cell_type": "code",
      "metadata": {
        "id": "EAI1--aAQ6xR",
        "colab_type": "code",
        "colab": {
          "base_uri": "https://localhost:8080/",
          "height": 479
        },
        "outputId": "817618d1-7df2-45cf-cf5e-80c92f1f5098"
      },
      "source": [
        "pd.set_option('display.max_columns', 999)\n",
        "data.head()"
      ],
      "execution_count": 10,
      "outputs": [
        {
          "output_type": "execute_result",
          "data": {
            "text/html": [
              "<div>\n",
              "<style scoped>\n",
              "    .dataframe tbody tr th:only-of-type {\n",
              "        vertical-align: middle;\n",
              "    }\n",
              "\n",
              "    .dataframe tbody tr th {\n",
              "        vertical-align: top;\n",
              "    }\n",
              "\n",
              "    .dataframe thead th {\n",
              "        text-align: right;\n",
              "    }\n",
              "</style>\n",
              "<table border=\"1\" class=\"dataframe\">\n",
              "  <thead>\n",
              "    <tr style=\"text-align: right;\">\n",
              "      <th></th>\n",
              "      <th>Id</th>\n",
              "      <th>price</th>\n",
              "      <th>bedrooms</th>\n",
              "      <th>bathrooms</th>\n",
              "      <th>sqft_living</th>\n",
              "      <th>sqft_lot</th>\n",
              "      <th>floors</th>\n",
              "      <th>waterfront</th>\n",
              "      <th>view</th>\n",
              "      <th>condition</th>\n",
              "      <th>sqft_above</th>\n",
              "      <th>sqft_basement</th>\n",
              "      <th>yr_built</th>\n",
              "      <th>yr_renovated</th>\n",
              "      <th>street</th>\n",
              "      <th>city</th>\n",
              "      <th>statezip</th>\n",
              "      <th>country</th>\n",
              "    </tr>\n",
              "  </thead>\n",
              "  <tbody>\n",
              "    <tr>\n",
              "      <th>0</th>\n",
              "      <td>1</td>\n",
              "      <td>591000.0</td>\n",
              "      <td>3</td>\n",
              "      <td>1.75</td>\n",
              "      <td>1680</td>\n",
              "      <td>2400</td>\n",
              "      <td>1.0</td>\n",
              "      <td>0</td>\n",
              "      <td>0</td>\n",
              "      <td>5</td>\n",
              "      <td>870</td>\n",
              "      <td>810</td>\n",
              "      <td>1922</td>\n",
              "      <td>1956</td>\n",
              "      <td>1600-1608 25th Ave</td>\n",
              "      <td>Seattle</td>\n",
              "      <td>WA 98122</td>\n",
              "      <td>USA</td>\n",
              "    </tr>\n",
              "    <tr>\n",
              "      <th>1</th>\n",
              "      <td>2</td>\n",
              "      <td>415000.0</td>\n",
              "      <td>4</td>\n",
              "      <td>2.25</td>\n",
              "      <td>3060</td>\n",
              "      <td>48787</td>\n",
              "      <td>2.0</td>\n",
              "      <td>0</td>\n",
              "      <td>0</td>\n",
              "      <td>3</td>\n",
              "      <td>3060</td>\n",
              "      <td>0</td>\n",
              "      <td>1992</td>\n",
              "      <td>0</td>\n",
              "      <td>31701-31799 SE 291st St</td>\n",
              "      <td>Ravensdale</td>\n",
              "      <td>WA 98051</td>\n",
              "      <td>USA</td>\n",
              "    </tr>\n",
              "    <tr>\n",
              "      <th>2</th>\n",
              "      <td>3</td>\n",
              "      <td>402000.0</td>\n",
              "      <td>3</td>\n",
              "      <td>2.50</td>\n",
              "      <td>1960</td>\n",
              "      <td>8000</td>\n",
              "      <td>1.0</td>\n",
              "      <td>0</td>\n",
              "      <td>0</td>\n",
              "      <td>4</td>\n",
              "      <td>1290</td>\n",
              "      <td>670</td>\n",
              "      <td>1977</td>\n",
              "      <td>0</td>\n",
              "      <td>12207 NE 139th Pl</td>\n",
              "      <td>Kirkland</td>\n",
              "      <td>WA 98034</td>\n",
              "      <td>USA</td>\n",
              "    </tr>\n",
              "    <tr>\n",
              "      <th>3</th>\n",
              "      <td>4</td>\n",
              "      <td>542525.0</td>\n",
              "      <td>4</td>\n",
              "      <td>2.50</td>\n",
              "      <td>2650</td>\n",
              "      <td>5600</td>\n",
              "      <td>2.0</td>\n",
              "      <td>0</td>\n",
              "      <td>0</td>\n",
              "      <td>3</td>\n",
              "      <td>2650</td>\n",
              "      <td>0</td>\n",
              "      <td>2014</td>\n",
              "      <td>0</td>\n",
              "      <td>13516 164th Ave SE</td>\n",
              "      <td>Renton</td>\n",
              "      <td>WA 98059</td>\n",
              "      <td>USA</td>\n",
              "    </tr>\n",
              "    <tr>\n",
              "      <th>4</th>\n",
              "      <td>5</td>\n",
              "      <td>515000.0</td>\n",
              "      <td>3</td>\n",
              "      <td>2.50</td>\n",
              "      <td>2010</td>\n",
              "      <td>7200</td>\n",
              "      <td>2.0</td>\n",
              "      <td>0</td>\n",
              "      <td>0</td>\n",
              "      <td>3</td>\n",
              "      <td>2010</td>\n",
              "      <td>0</td>\n",
              "      <td>1994</td>\n",
              "      <td>0</td>\n",
              "      <td>8818 NE 150th St</td>\n",
              "      <td>Kenmore</td>\n",
              "      <td>WA 98028</td>\n",
              "      <td>USA</td>\n",
              "    </tr>\n",
              "  </tbody>\n",
              "</table>\n",
              "</div>"
            ],
            "text/plain": [
              "   Id     price  bedrooms  bathrooms  sqft_living  sqft_lot  floors  \\\n",
              "0   1  591000.0         3       1.75         1680      2400     1.0   \n",
              "1   2  415000.0         4       2.25         3060     48787     2.0   \n",
              "2   3  402000.0         3       2.50         1960      8000     1.0   \n",
              "3   4  542525.0         4       2.50         2650      5600     2.0   \n",
              "4   5  515000.0         3       2.50         2010      7200     2.0   \n",
              "\n",
              "   waterfront  view  condition  sqft_above  sqft_basement  yr_built  \\\n",
              "0           0     0          5         870            810      1922   \n",
              "1           0     0          3        3060              0      1992   \n",
              "2           0     0          4        1290            670      1977   \n",
              "3           0     0          3        2650              0      2014   \n",
              "4           0     0          3        2010              0      1994   \n",
              "\n",
              "   yr_renovated                   street        city  statezip country  \n",
              "0          1956       1600-1608 25th Ave     Seattle  WA 98122     USA  \n",
              "1             0  31701-31799 SE 291st St  Ravensdale  WA 98051     USA  \n",
              "2             0        12207 NE 139th Pl    Kirkland  WA 98034     USA  \n",
              "3             0       13516 164th Ave SE      Renton  WA 98059     USA  \n",
              "4             0         8818 NE 150th St     Kenmore  WA 98028     USA  "
            ]
          },
          "metadata": {
            "tags": []
          },
          "execution_count": 10
        }
      ]
    },
    {
      "cell_type": "code",
      "metadata": {
        "id": "eJZufzT_nMeY",
        "colab_type": "code",
        "colab": {
          "base_uri": "https://localhost:8080/",
          "height": 289
        },
        "outputId": "828e523d-0813-4c1e-c154-6192d8bdff69"
      },
      "source": [
        "make_prediction.head()"
      ],
      "execution_count": 11,
      "outputs": [
        {
          "output_type": "execute_result",
          "data": {
            "text/html": [
              "<div>\n",
              "<style scoped>\n",
              "    .dataframe tbody tr th:only-of-type {\n",
              "        vertical-align: middle;\n",
              "    }\n",
              "\n",
              "    .dataframe tbody tr th {\n",
              "        vertical-align: top;\n",
              "    }\n",
              "\n",
              "    .dataframe thead th {\n",
              "        text-align: right;\n",
              "    }\n",
              "</style>\n",
              "<table border=\"1\" class=\"dataframe\">\n",
              "  <thead>\n",
              "    <tr style=\"text-align: right;\">\n",
              "      <th></th>\n",
              "      <th>Id</th>\n",
              "      <th>bedrooms</th>\n",
              "      <th>bathrooms</th>\n",
              "      <th>sqft_living</th>\n",
              "      <th>sqft_lot</th>\n",
              "      <th>floors</th>\n",
              "      <th>waterfront</th>\n",
              "      <th>view</th>\n",
              "      <th>condition</th>\n",
              "      <th>sqft_above</th>\n",
              "      <th>sqft_basement</th>\n",
              "      <th>yr_built</th>\n",
              "      <th>yr_renovated</th>\n",
              "      <th>street</th>\n",
              "      <th>city</th>\n",
              "      <th>statezip</th>\n",
              "      <th>country</th>\n",
              "    </tr>\n",
              "  </thead>\n",
              "  <tbody>\n",
              "    <tr>\n",
              "      <th>0</th>\n",
              "      <td>3000</td>\n",
              "      <td>2</td>\n",
              "      <td>1.00</td>\n",
              "      <td>1210</td>\n",
              "      <td>9400</td>\n",
              "      <td>1.0</td>\n",
              "      <td>0</td>\n",
              "      <td>0</td>\n",
              "      <td>2</td>\n",
              "      <td>1210</td>\n",
              "      <td>0</td>\n",
              "      <td>1949</td>\n",
              "      <td>0</td>\n",
              "      <td>7542 21st Ave SW</td>\n",
              "      <td>Seattle</td>\n",
              "      <td>WA 98106</td>\n",
              "      <td>USA</td>\n",
              "    </tr>\n",
              "    <tr>\n",
              "      <th>1</th>\n",
              "      <td>3001</td>\n",
              "      <td>3</td>\n",
              "      <td>1.75</td>\n",
              "      <td>1620</td>\n",
              "      <td>3975</td>\n",
              "      <td>1.0</td>\n",
              "      <td>0</td>\n",
              "      <td>0</td>\n",
              "      <td>5</td>\n",
              "      <td>940</td>\n",
              "      <td>680</td>\n",
              "      <td>1926</td>\n",
              "      <td>0</td>\n",
              "      <td>6729 Dibble Ave NW</td>\n",
              "      <td>Seattle</td>\n",
              "      <td>WA 98117</td>\n",
              "      <td>USA</td>\n",
              "    </tr>\n",
              "    <tr>\n",
              "      <th>2</th>\n",
              "      <td>3002</td>\n",
              "      <td>3</td>\n",
              "      <td>1.00</td>\n",
              "      <td>1520</td>\n",
              "      <td>213444</td>\n",
              "      <td>1.5</td>\n",
              "      <td>0</td>\n",
              "      <td>3</td>\n",
              "      <td>5</td>\n",
              "      <td>1520</td>\n",
              "      <td>0</td>\n",
              "      <td>1988</td>\n",
              "      <td>0</td>\n",
              "      <td>10500 185th Ave SE</td>\n",
              "      <td>Renton</td>\n",
              "      <td>WA 98059</td>\n",
              "      <td>USA</td>\n",
              "    </tr>\n",
              "    <tr>\n",
              "      <th>3</th>\n",
              "      <td>3003</td>\n",
              "      <td>4</td>\n",
              "      <td>2.50</td>\n",
              "      <td>2910</td>\n",
              "      <td>5776</td>\n",
              "      <td>2.0</td>\n",
              "      <td>0</td>\n",
              "      <td>2</td>\n",
              "      <td>3</td>\n",
              "      <td>2910</td>\n",
              "      <td>0</td>\n",
              "      <td>1998</td>\n",
              "      <td>2006</td>\n",
              "      <td>6907 Fairway Ave SE</td>\n",
              "      <td>Snoqualmie</td>\n",
              "      <td>WA 98065</td>\n",
              "      <td>USA</td>\n",
              "    </tr>\n",
              "    <tr>\n",
              "      <th>4</th>\n",
              "      <td>3004</td>\n",
              "      <td>4</td>\n",
              "      <td>2.50</td>\n",
              "      <td>2683</td>\n",
              "      <td>40386</td>\n",
              "      <td>2.0</td>\n",
              "      <td>0</td>\n",
              "      <td>0</td>\n",
              "      <td>4</td>\n",
              "      <td>2683</td>\n",
              "      <td>0</td>\n",
              "      <td>1987</td>\n",
              "      <td>0</td>\n",
              "      <td>10821 151st Ave NE</td>\n",
              "      <td>Redmond</td>\n",
              "      <td>WA 98052</td>\n",
              "      <td>USA</td>\n",
              "    </tr>\n",
              "  </tbody>\n",
              "</table>\n",
              "</div>"
            ],
            "text/plain": [
              "     Id  bedrooms  bathrooms  sqft_living  sqft_lot  floors  waterfront  view  \\\n",
              "0  3000         2       1.00         1210      9400     1.0           0     0   \n",
              "1  3001         3       1.75         1620      3975     1.0           0     0   \n",
              "2  3002         3       1.00         1520    213444     1.5           0     3   \n",
              "3  3003         4       2.50         2910      5776     2.0           0     2   \n",
              "4  3004         4       2.50         2683     40386     2.0           0     0   \n",
              "\n",
              "   condition  sqft_above  sqft_basement  yr_built  yr_renovated  \\\n",
              "0          2        1210              0      1949             0   \n",
              "1          5         940            680      1926             0   \n",
              "2          5        1520              0      1988             0   \n",
              "3          3        2910              0      1998          2006   \n",
              "4          4        2683              0      1987             0   \n",
              "\n",
              "                street        city  statezip country  \n",
              "0     7542 21st Ave SW     Seattle  WA 98106     USA  \n",
              "1   6729 Dibble Ave NW     Seattle  WA 98117     USA  \n",
              "2   10500 185th Ave SE      Renton  WA 98059     USA  \n",
              "3  6907 Fairway Ave SE  Snoqualmie  WA 98065     USA  \n",
              "4   10821 151st Ave NE     Redmond  WA 98052     USA  "
            ]
          },
          "metadata": {
            "tags": []
          },
          "execution_count": 11
        }
      ]
    },
    {
      "cell_type": "markdown",
      "metadata": {
        "id": "DBvlh10ZHk6O",
        "colab_type": "text"
      },
      "source": [
        "## **Basic Statistics of the data**"
      ]
    },
    {
      "cell_type": "code",
      "metadata": {
        "id": "RJcZJc4JRN3W",
        "colab_type": "code",
        "colab": {
          "base_uri": "https://localhost:8080/",
          "height": 297
        },
        "outputId": "7daece99-8c90-44cc-d4ac-6248aef2e606"
      },
      "source": [
        "data.describe()"
      ],
      "execution_count": 12,
      "outputs": [
        {
          "output_type": "execute_result",
          "data": {
            "text/html": [
              "<div>\n",
              "<style scoped>\n",
              "    .dataframe tbody tr th:only-of-type {\n",
              "        vertical-align: middle;\n",
              "    }\n",
              "\n",
              "    .dataframe tbody tr th {\n",
              "        vertical-align: top;\n",
              "    }\n",
              "\n",
              "    .dataframe thead th {\n",
              "        text-align: right;\n",
              "    }\n",
              "</style>\n",
              "<table border=\"1\" class=\"dataframe\">\n",
              "  <thead>\n",
              "    <tr style=\"text-align: right;\">\n",
              "      <th></th>\n",
              "      <th>Id</th>\n",
              "      <th>price</th>\n",
              "      <th>bedrooms</th>\n",
              "      <th>bathrooms</th>\n",
              "      <th>sqft_living</th>\n",
              "      <th>sqft_lot</th>\n",
              "      <th>floors</th>\n",
              "      <th>waterfront</th>\n",
              "      <th>view</th>\n",
              "      <th>condition</th>\n",
              "      <th>sqft_above</th>\n",
              "      <th>sqft_basement</th>\n",
              "      <th>yr_built</th>\n",
              "      <th>yr_renovated</th>\n",
              "    </tr>\n",
              "  </thead>\n",
              "  <tbody>\n",
              "    <tr>\n",
              "      <th>count</th>\n",
              "      <td>3000.000000</td>\n",
              "      <td>3.000000e+03</td>\n",
              "      <td>3000.000000</td>\n",
              "      <td>3000.000000</td>\n",
              "      <td>3000.000000</td>\n",
              "      <td>3.000000e+03</td>\n",
              "      <td>3000.000000</td>\n",
              "      <td>3000.000000</td>\n",
              "      <td>3000.000000</td>\n",
              "      <td>3000.000000</td>\n",
              "      <td>3000.000000</td>\n",
              "      <td>3000.000000</td>\n",
              "      <td>3000.000000</td>\n",
              "      <td>3000.000000</td>\n",
              "    </tr>\n",
              "    <tr>\n",
              "      <th>mean</th>\n",
              "      <td>1500.500000</td>\n",
              "      <td>5.593498e+05</td>\n",
              "      <td>3.397000</td>\n",
              "      <td>2.158250</td>\n",
              "      <td>2134.094000</td>\n",
              "      <td>1.464680e+04</td>\n",
              "      <td>1.511333</td>\n",
              "      <td>0.008333</td>\n",
              "      <td>0.242000</td>\n",
              "      <td>3.447000</td>\n",
              "      <td>1821.023333</td>\n",
              "      <td>313.070667</td>\n",
              "      <td>1971.042667</td>\n",
              "      <td>792.034333</td>\n",
              "    </tr>\n",
              "    <tr>\n",
              "      <th>std</th>\n",
              "      <td>866.169729</td>\n",
              "      <td>6.346427e+05</td>\n",
              "      <td>0.910128</td>\n",
              "      <td>0.770071</td>\n",
              "      <td>946.966058</td>\n",
              "      <td>3.634340e+04</td>\n",
              "      <td>0.541420</td>\n",
              "      <td>0.090921</td>\n",
              "      <td>0.783352</td>\n",
              "      <td>0.674297</td>\n",
              "      <td>844.532322</td>\n",
              "      <td>466.736261</td>\n",
              "      <td>29.622874</td>\n",
              "      <td>976.379493</td>\n",
              "    </tr>\n",
              "    <tr>\n",
              "      <th>min</th>\n",
              "      <td>1.000000</td>\n",
              "      <td>7.800000e+03</td>\n",
              "      <td>0.000000</td>\n",
              "      <td>0.000000</td>\n",
              "      <td>370.000000</td>\n",
              "      <td>6.380000e+02</td>\n",
              "      <td>1.000000</td>\n",
              "      <td>0.000000</td>\n",
              "      <td>0.000000</td>\n",
              "      <td>1.000000</td>\n",
              "      <td>370.000000</td>\n",
              "      <td>0.000000</td>\n",
              "      <td>1900.000000</td>\n",
              "      <td>0.000000</td>\n",
              "    </tr>\n",
              "    <tr>\n",
              "      <th>25%</th>\n",
              "      <td>750.750000</td>\n",
              "      <td>3.250000e+05</td>\n",
              "      <td>3.000000</td>\n",
              "      <td>1.750000</td>\n",
              "      <td>1460.000000</td>\n",
              "      <td>5.000000e+03</td>\n",
              "      <td>1.000000</td>\n",
              "      <td>0.000000</td>\n",
              "      <td>0.000000</td>\n",
              "      <td>3.000000</td>\n",
              "      <td>1190.000000</td>\n",
              "      <td>0.000000</td>\n",
              "      <td>1951.000000</td>\n",
              "      <td>0.000000</td>\n",
              "    </tr>\n",
              "    <tr>\n",
              "      <th>50%</th>\n",
              "      <td>1500.500000</td>\n",
              "      <td>4.642500e+05</td>\n",
              "      <td>3.000000</td>\n",
              "      <td>2.250000</td>\n",
              "      <td>1975.000000</td>\n",
              "      <td>7.651000e+03</td>\n",
              "      <td>1.500000</td>\n",
              "      <td>0.000000</td>\n",
              "      <td>0.000000</td>\n",
              "      <td>3.000000</td>\n",
              "      <td>1590.000000</td>\n",
              "      <td>0.000000</td>\n",
              "      <td>1976.000000</td>\n",
              "      <td>0.000000</td>\n",
              "    </tr>\n",
              "    <tr>\n",
              "      <th>75%</th>\n",
              "      <td>2250.250000</td>\n",
              "      <td>6.575000e+05</td>\n",
              "      <td>4.000000</td>\n",
              "      <td>2.500000</td>\n",
              "      <td>2630.000000</td>\n",
              "      <td>1.090125e+04</td>\n",
              "      <td>2.000000</td>\n",
              "      <td>0.000000</td>\n",
              "      <td>0.000000</td>\n",
              "      <td>4.000000</td>\n",
              "      <td>2303.000000</td>\n",
              "      <td>620.000000</td>\n",
              "      <td>1997.000000</td>\n",
              "      <td>1999.000000</td>\n",
              "    </tr>\n",
              "    <tr>\n",
              "      <th>max</th>\n",
              "      <td>3000.000000</td>\n",
              "      <td>2.659000e+07</td>\n",
              "      <td>9.000000</td>\n",
              "      <td>8.000000</td>\n",
              "      <td>13540.000000</td>\n",
              "      <td>1.074218e+06</td>\n",
              "      <td>3.500000</td>\n",
              "      <td>1.000000</td>\n",
              "      <td>4.000000</td>\n",
              "      <td>5.000000</td>\n",
              "      <td>9410.000000</td>\n",
              "      <td>4820.000000</td>\n",
              "      <td>2014.000000</td>\n",
              "      <td>2014.000000</td>\n",
              "    </tr>\n",
              "  </tbody>\n",
              "</table>\n",
              "</div>"
            ],
            "text/plain": [
              "                Id         price     bedrooms    bathrooms   sqft_living  \\\n",
              "count  3000.000000  3.000000e+03  3000.000000  3000.000000   3000.000000   \n",
              "mean   1500.500000  5.593498e+05     3.397000     2.158250   2134.094000   \n",
              "std     866.169729  6.346427e+05     0.910128     0.770071    946.966058   \n",
              "min       1.000000  7.800000e+03     0.000000     0.000000    370.000000   \n",
              "25%     750.750000  3.250000e+05     3.000000     1.750000   1460.000000   \n",
              "50%    1500.500000  4.642500e+05     3.000000     2.250000   1975.000000   \n",
              "75%    2250.250000  6.575000e+05     4.000000     2.500000   2630.000000   \n",
              "max    3000.000000  2.659000e+07     9.000000     8.000000  13540.000000   \n",
              "\n",
              "           sqft_lot       floors   waterfront         view    condition  \\\n",
              "count  3.000000e+03  3000.000000  3000.000000  3000.000000  3000.000000   \n",
              "mean   1.464680e+04     1.511333     0.008333     0.242000     3.447000   \n",
              "std    3.634340e+04     0.541420     0.090921     0.783352     0.674297   \n",
              "min    6.380000e+02     1.000000     0.000000     0.000000     1.000000   \n",
              "25%    5.000000e+03     1.000000     0.000000     0.000000     3.000000   \n",
              "50%    7.651000e+03     1.500000     0.000000     0.000000     3.000000   \n",
              "75%    1.090125e+04     2.000000     0.000000     0.000000     4.000000   \n",
              "max    1.074218e+06     3.500000     1.000000     4.000000     5.000000   \n",
              "\n",
              "        sqft_above  sqft_basement     yr_built  yr_renovated  \n",
              "count  3000.000000    3000.000000  3000.000000   3000.000000  \n",
              "mean   1821.023333     313.070667  1971.042667    792.034333  \n",
              "std     844.532322     466.736261    29.622874    976.379493  \n",
              "min     370.000000       0.000000  1900.000000      0.000000  \n",
              "25%    1190.000000       0.000000  1951.000000      0.000000  \n",
              "50%    1590.000000       0.000000  1976.000000      0.000000  \n",
              "75%    2303.000000     620.000000  1997.000000   1999.000000  \n",
              "max    9410.000000    4820.000000  2014.000000   2014.000000  "
            ]
          },
          "metadata": {
            "tags": []
          },
          "execution_count": 12
        }
      ]
    },
    {
      "cell_type": "code",
      "metadata": {
        "id": "7rCXmuFmnQi2",
        "colab_type": "code",
        "colab": {
          "base_uri": "https://localhost:8080/",
          "height": 676
        },
        "outputId": "8eda9f44-c4ac-4580-9256-975447fef1e4"
      },
      "source": [
        "#code snippet reference from course work.\n",
        "import seaborn as sns\n",
        "correlation_matrix = data.corr().round(2)\n",
        "figure = plt.figure(figsize=(10, 10))\n",
        "sns.heatmap(data=correlation_matrix, annot=True)"
      ],
      "execution_count": 20,
      "outputs": [
        {
          "output_type": "execute_result",
          "data": {
            "text/plain": [
              "<matplotlib.axes._subplots.AxesSubplot at 0x7ff9dc3e4828>"
            ]
          },
          "metadata": {
            "tags": []
          },
          "execution_count": 20
        },
        {
          "output_type": "display_data",
          "data": {
            "image/png": "[encoded data removed]",
            "text/plain": [
              "<Figure size 720x720 with 2 Axes>"
            ]
          },
          "metadata": {
            "tags": [],
            "needs_background": "light"
          }
        }
      ]
    },
    {
      "cell_type": "markdown",
      "metadata": {
        "id": "GlS5R5QkHfMF",
        "colab_type": "text"
      },
      "source": [
        "## **Correlation matrix**"
      ]
    },
    {
      "cell_type": "code",
      "metadata": {
        "id": "ys_nAUSoHSt1",
        "colab_type": "code",
        "colab": {
          "base_uri": "https://localhost:8080/",
          "height": 483
        },
        "outputId": "49a432f6-cea0-44cb-d407-b714b4489266"
      },
      "source": [
        "data.corr(method='pearson', min_periods=1)"
      ],
      "execution_count": 21,
      "outputs": [
        {
          "output_type": "execute_result",
          "data": {
            "text/html": [
              "<div>\n",
              "<style scoped>\n",
              "    .dataframe tbody tr th:only-of-type {\n",
              "        vertical-align: middle;\n",
              "    }\n",
              "\n",
              "    .dataframe tbody tr th {\n",
              "        vertical-align: top;\n",
              "    }\n",
              "\n",
              "    .dataframe thead th {\n",
              "        text-align: right;\n",
              "    }\n",
              "</style>\n",
              "<table border=\"1\" class=\"dataframe\">\n",
              "  <thead>\n",
              "    <tr style=\"text-align: right;\">\n",
              "      <th></th>\n",
              "      <th>Id</th>\n",
              "      <th>price</th>\n",
              "      <th>bedrooms</th>\n",
              "      <th>bathrooms</th>\n",
              "      <th>sqft_living</th>\n",
              "      <th>sqft_lot</th>\n",
              "      <th>floors</th>\n",
              "      <th>waterfront</th>\n",
              "      <th>view</th>\n",
              "      <th>condition</th>\n",
              "      <th>sqft_above</th>\n",
              "      <th>sqft_basement</th>\n",
              "      <th>yr_built</th>\n",
              "      <th>yr_renovated</th>\n",
              "    </tr>\n",
              "  </thead>\n",
              "  <tbody>\n",
              "    <tr>\n",
              "      <th>Id</th>\n",
              "      <td>1.000000</td>\n",
              "      <td>0.000575</td>\n",
              "      <td>-0.009741</td>\n",
              "      <td>-0.031625</td>\n",
              "      <td>-0.039132</td>\n",
              "      <td>-0.002971</td>\n",
              "      <td>-0.027469</td>\n",
              "      <td>0.007141</td>\n",
              "      <td>-0.009527</td>\n",
              "      <td>0.000106</td>\n",
              "      <td>-0.024031</td>\n",
              "      <td>-0.035911</td>\n",
              "      <td>-0.026429</td>\n",
              "      <td>0.019754</td>\n",
              "    </tr>\n",
              "    <tr>\n",
              "      <th>price</th>\n",
              "      <td>0.000575</td>\n",
              "      <td>1.000000</td>\n",
              "      <td>0.182017</td>\n",
              "      <td>0.302978</td>\n",
              "      <td>0.375156</td>\n",
              "      <td>0.039913</td>\n",
              "      <td>0.130024</td>\n",
              "      <td>0.137875</td>\n",
              "      <td>0.220784</td>\n",
              "      <td>0.037116</td>\n",
              "      <td>0.314669</td>\n",
              "      <td>0.191783</td>\n",
              "      <td>0.023941</td>\n",
              "      <td>-0.026931</td>\n",
              "    </tr>\n",
              "    <tr>\n",
              "      <th>bedrooms</th>\n",
              "      <td>-0.009741</td>\n",
              "      <td>0.182017</td>\n",
              "      <td>1.000000</td>\n",
              "      <td>0.546901</td>\n",
              "      <td>0.600499</td>\n",
              "      <td>0.079987</td>\n",
              "      <td>0.176616</td>\n",
              "      <td>0.000302</td>\n",
              "      <td>0.109337</td>\n",
              "      <td>0.030222</td>\n",
              "      <td>0.488764</td>\n",
              "      <td>0.333968</td>\n",
              "      <td>0.127379</td>\n",
              "      <td>-0.050081</td>\n",
              "    </tr>\n",
              "    <tr>\n",
              "      <th>bathrooms</th>\n",
              "      <td>-0.031625</td>\n",
              "      <td>0.302978</td>\n",
              "      <td>0.546901</td>\n",
              "      <td>1.000000</td>\n",
              "      <td>0.759814</td>\n",
              "      <td>0.102032</td>\n",
              "      <td>0.492346</td>\n",
              "      <td>0.081170</td>\n",
              "      <td>0.217710</td>\n",
              "      <td>-0.120381</td>\n",
              "      <td>0.685226</td>\n",
              "      <td>0.301719</td>\n",
              "      <td>0.448932</td>\n",
              "      <td>-0.207501</td>\n",
              "    </tr>\n",
              "    <tr>\n",
              "      <th>sqft_living</th>\n",
              "      <td>-0.039132</td>\n",
              "      <td>0.375156</td>\n",
              "      <td>0.600499</td>\n",
              "      <td>0.759814</td>\n",
              "      <td>1.000000</td>\n",
              "      <td>0.209988</td>\n",
              "      <td>0.337882</td>\n",
              "      <td>0.121225</td>\n",
              "      <td>0.315135</td>\n",
              "      <td>-0.061473</td>\n",
              "      <td>0.870365</td>\n",
              "      <td>0.454036</td>\n",
              "      <td>0.278092</td>\n",
              "      <td>-0.121630</td>\n",
              "    </tr>\n",
              "    <tr>\n",
              "      <th>sqft_lot</th>\n",
              "      <td>-0.002971</td>\n",
              "      <td>0.039913</td>\n",
              "      <td>0.079987</td>\n",
              "      <td>0.102032</td>\n",
              "      <td>0.209988</td>\n",
              "      <td>1.000000</td>\n",
              "      <td>-0.000275</td>\n",
              "      <td>0.016129</td>\n",
              "      <td>0.072247</td>\n",
              "      <td>0.012879</td>\n",
              "      <td>0.211597</td>\n",
              "      <td>0.043175</td>\n",
              "      <td>0.026662</td>\n",
              "      <td>-0.020523</td>\n",
              "    </tr>\n",
              "    <tr>\n",
              "      <th>floors</th>\n",
              "      <td>-0.027469</td>\n",
              "      <td>0.130024</td>\n",
              "      <td>0.176616</td>\n",
              "      <td>0.492346</td>\n",
              "      <td>0.337882</td>\n",
              "      <td>-0.000275</td>\n",
              "      <td>1.000000</td>\n",
              "      <td>0.021789</td>\n",
              "      <td>0.043062</td>\n",
              "      <td>-0.269163</td>\n",
              "      <td>0.521003</td>\n",
              "      <td>-0.257192</td>\n",
              "      <td>0.467004</td>\n",
              "      <td>-0.221614</td>\n",
              "    </tr>\n",
              "    <tr>\n",
              "      <th>waterfront</th>\n",
              "      <td>0.007141</td>\n",
              "      <td>0.137875</td>\n",
              "      <td>0.000302</td>\n",
              "      <td>0.081170</td>\n",
              "      <td>0.121225</td>\n",
              "      <td>0.016129</td>\n",
              "      <td>0.021789</td>\n",
              "      <td>1.000000</td>\n",
              "      <td>0.407072</td>\n",
              "      <td>0.004487</td>\n",
              "      <td>0.078615</td>\n",
              "      <td>0.103706</td>\n",
              "      <td>-0.033559</td>\n",
              "      <td>0.015622</td>\n",
              "    </tr>\n",
              "    <tr>\n",
              "      <th>view</th>\n",
              "      <td>-0.009527</td>\n",
              "      <td>0.220784</td>\n",
              "      <td>0.109337</td>\n",
              "      <td>0.217710</td>\n",
              "      <td>0.315135</td>\n",
              "      <td>0.072247</td>\n",
              "      <td>0.043062</td>\n",
              "      <td>0.407072</td>\n",
              "      <td>1.000000</td>\n",
              "      <td>0.057747</td>\n",
              "      <td>0.172158</td>\n",
              "      <td>0.327872</td>\n",
              "      <td>-0.070985</td>\n",
              "      <td>0.025204</td>\n",
              "    </tr>\n",
              "    <tr>\n",
              "      <th>condition</th>\n",
              "      <td>0.000106</td>\n",
              "      <td>0.037116</td>\n",
              "      <td>0.030222</td>\n",
              "      <td>-0.120381</td>\n",
              "      <td>-0.061473</td>\n",
              "      <td>0.012879</td>\n",
              "      <td>-0.269163</td>\n",
              "      <td>0.004487</td>\n",
              "      <td>0.057747</td>\n",
              "      <td>1.000000</td>\n",
              "      <td>-0.175838</td>\n",
              "      <td>0.193446</td>\n",
              "      <td>-0.396105</td>\n",
              "      <td>-0.187851</td>\n",
              "    </tr>\n",
              "    <tr>\n",
              "      <th>sqft_above</th>\n",
              "      <td>-0.024031</td>\n",
              "      <td>0.314669</td>\n",
              "      <td>0.488764</td>\n",
              "      <td>0.685226</td>\n",
              "      <td>0.870365</td>\n",
              "      <td>0.211597</td>\n",
              "      <td>0.521003</td>\n",
              "      <td>0.078615</td>\n",
              "      <td>0.172158</td>\n",
              "      <td>-0.175838</td>\n",
              "      <td>1.000000</td>\n",
              "      <td>-0.043550</td>\n",
              "      <td>0.406944</td>\n",
              "      <td>-0.159591</td>\n",
              "    </tr>\n",
              "    <tr>\n",
              "      <th>sqft_basement</th>\n",
              "      <td>-0.035911</td>\n",
              "      <td>0.191783</td>\n",
              "      <td>0.333968</td>\n",
              "      <td>0.301719</td>\n",
              "      <td>0.454036</td>\n",
              "      <td>0.043175</td>\n",
              "      <td>-0.257192</td>\n",
              "      <td>0.103706</td>\n",
              "      <td>0.327872</td>\n",
              "      <td>0.193446</td>\n",
              "      <td>-0.043550</td>\n",
              "      <td>1.000000</td>\n",
              "      <td>-0.172119</td>\n",
              "      <td>0.041994</td>\n",
              "    </tr>\n",
              "    <tr>\n",
              "      <th>yr_built</th>\n",
              "      <td>-0.026429</td>\n",
              "      <td>0.023941</td>\n",
              "      <td>0.127379</td>\n",
              "      <td>0.448932</td>\n",
              "      <td>0.278092</td>\n",
              "      <td>0.026662</td>\n",
              "      <td>0.467004</td>\n",
              "      <td>-0.033559</td>\n",
              "      <td>-0.070985</td>\n",
              "      <td>-0.396105</td>\n",
              "      <td>0.406944</td>\n",
              "      <td>-0.172119</td>\n",
              "      <td>1.000000</td>\n",
              "      <td>-0.341211</td>\n",
              "    </tr>\n",
              "    <tr>\n",
              "      <th>yr_renovated</th>\n",
              "      <td>0.019754</td>\n",
              "      <td>-0.026931</td>\n",
              "      <td>-0.050081</td>\n",
              "      <td>-0.207501</td>\n",
              "      <td>-0.121630</td>\n",
              "      <td>-0.020523</td>\n",
              "      <td>-0.221614</td>\n",
              "      <td>0.015622</td>\n",
              "      <td>0.025204</td>\n",
              "      <td>-0.187851</td>\n",
              "      <td>-0.159591</td>\n",
              "      <td>0.041994</td>\n",
              "      <td>-0.341211</td>\n",
              "      <td>1.000000</td>\n",
              "    </tr>\n",
              "  </tbody>\n",
              "</table>\n",
              "</div>"
            ],
            "text/plain": [
              "                     Id     price  bedrooms  bathrooms  sqft_living  sqft_lot  \\\n",
              "Id             1.000000  0.000575 -0.009741  -0.031625    -0.039132 -0.002971   \n",
              "price          0.000575  1.000000  0.182017   0.302978     0.375156  0.039913   \n",
              "bedrooms      -0.009741  0.182017  1.000000   0.546901     0.600499  0.079987   \n",
              "bathrooms     -0.031625  0.302978  0.546901   1.000000     0.759814  0.102032   \n",
              "sqft_living   -0.039132  0.375156  0.600499   0.759814     1.000000  0.209988   \n",
              "sqft_lot      -0.002971  0.039913  0.079987   0.102032     0.209988  1.000000   \n",
              "floors        -0.027469  0.130024  0.176616   0.492346     0.337882 -0.000275   \n",
              "waterfront     0.007141  0.137875  0.000302   0.081170     0.121225  0.016129   \n",
              "view          -0.009527  0.220784  0.109337   0.217710     0.315135  0.072247   \n",
              "condition      0.000106  0.037116  0.030222  -0.120381    -0.061473  0.012879   \n",
              "sqft_above    -0.024031  0.314669  0.488764   0.685226     0.870365  0.211597   \n",
              "sqft_basement -0.035911  0.191783  0.333968   0.301719     0.454036  0.043175   \n",
              "yr_built      -0.026429  0.023941  0.127379   0.448932     0.278092  0.026662   \n",
              "yr_renovated   0.019754 -0.026931 -0.050081  -0.207501    -0.121630 -0.020523   \n",
              "\n",
              "                 floors  waterfront      view  condition  sqft_above  \\\n",
              "Id            -0.027469    0.007141 -0.009527   0.000106   -0.024031   \n",
              "price          0.130024    0.137875  0.220784   0.037116    0.314669   \n",
              "bedrooms       0.176616    0.000302  0.109337   0.030222    0.488764   \n",
              "bathrooms      0.492346    0.081170  0.217710  -0.120381    0.685226   \n",
              "sqft_living    0.337882    0.121225  0.315135  -0.061473    0.870365   \n",
              "sqft_lot      -0.000275    0.016129  0.072247   0.012879    0.211597   \n",
              "floors         1.000000    0.021789  0.043062  -0.269163    0.521003   \n",
              "waterfront     0.021789    1.000000  0.407072   0.004487    0.078615   \n",
              "view           0.043062    0.407072  1.000000   0.057747    0.172158   \n",
              "condition     -0.269163    0.004487  0.057747   1.000000   -0.175838   \n",
              "sqft_above     0.521003    0.078615  0.172158  -0.175838    1.000000   \n",
              "sqft_basement -0.257192    0.103706  0.327872   0.193446   -0.043550   \n",
              "yr_built       0.467004   -0.033559 -0.070985  -0.396105    0.406944   \n",
              "yr_renovated  -0.221614    0.015622  0.025204  -0.187851   -0.159591   \n",
              "\n",
              "               sqft_basement  yr_built  yr_renovated  \n",
              "Id                 -0.035911 -0.026429      0.019754  \n",
              "price               0.191783  0.023941     -0.026931  \n",
              "bedrooms            0.333968  0.127379     -0.050081  \n",
              "bathrooms           0.301719  0.448932     -0.207501  \n",
              "sqft_living         0.454036  0.278092     -0.121630  \n",
              "sqft_lot            0.043175  0.026662     -0.020523  \n",
              "floors             -0.257192  0.467004     -0.221614  \n",
              "waterfront          0.103706 -0.033559      0.015622  \n",
              "view                0.327872 -0.070985      0.025204  \n",
              "condition           0.193446 -0.396105     -0.187851  \n",
              "sqft_above         -0.043550  0.406944     -0.159591  \n",
              "sqft_basement       1.000000 -0.172119      0.041994  \n",
              "yr_built           -0.172119  1.000000     -0.341211  \n",
              "yr_renovated        0.041994 -0.341211      1.000000  "
            ]
          },
          "metadata": {
            "tags": []
          },
          "execution_count": 21
        }
      ]
    },
    {
      "cell_type": "markdown",
      "metadata": {
        "id": "jab2aXTQYeSK",
        "colab_type": "text"
      },
      "source": [
        "# **1.\tDetermine, which features, are continuous vs categorical**"
      ]
    },
    {
      "cell_type": "code",
      "metadata": {
        "id": "oFEgB6seYbPs",
        "colab_type": "code",
        "colab": {
          "base_uri": "https://localhost:8080/",
          "height": 306
        },
        "outputId": "3fcb1639-cd4a-4599-8e8c-58f8450f78df"
      },
      "source": [
        "categorical_features = ['view','condition','waterfront','city','statezip']\n",
        "discreate_features = ['bedrooms','bathrooms','floors']\n",
        "continous_features = ['sqft_living','sqft_lot','sqft_above','sqft_basement','yr_built','yr_renovated']\n",
        "print(\"Categorical Features: \")\n",
        "for i in categorical_features:\n",
        "  print(\"\\t\",i)\n",
        "print(\"Discreate Features: \")\n",
        "for i in discreate_features:\n",
        "  print(\"\\t\",i)\n",
        "print(\"Continous Features: \")\n",
        "for i in continous_features:\n",
        "  print(\"\\t\",i)"
      ],
      "execution_count": 22,
      "outputs": [
        {
          "output_type": "stream",
          "text": [
            "Categorical Features: \n",
            "\t view\n",
            "\t condition\n",
            "\t waterfront\n",
            "\t city\n",
            "\t statezip\n",
            "Discreate Features: \n",
            "\t bedrooms\n",
            "\t bathrooms\n",
            "\t floors\n",
            "Continous Features: \n",
            "\t sqft_living\n",
            "\t sqft_lot\n",
            "\t sqft_above\n",
            "\t sqft_basement\n",
            "\t yr_built\n",
            "\t yr_renovated\n"
          ],
          "name": "stdout"
        }
      ]
    },
    {
      "cell_type": "markdown",
      "metadata": {
        "id": "NGMi7YohRmrU",
        "colab_type": "text"
      },
      "source": [
        "# **2.\tVisualize the univariate distribution of each continuous feature, and the distribution of the target**"
      ]
    },
    {
      "cell_type": "markdown",
      "metadata": {
        "id": "ZRjVzO2rc7rz",
        "colab_type": "text"
      },
      "source": [
        "## **Distribution of each continuous feature**\n",
        "### **Key take aways from disctribution graphs:**\n",
        "* More than half of the data doesn't have the year of rennovation values, that can be either due to no rennovations recorded for that house or no rennovations done\n",
        "* There are outliers in variables like \"sqft_lot\" with abnormal data values"
      ]
    },
    {
      "cell_type": "code",
      "metadata": {
        "id": "-L2RT8CBRdxx",
        "colab_type": "code",
        "colab": {
          "base_uri": "https://localhost:8080/",
          "height": 879
        },
        "outputId": "15403c22-d89c-44a1-b992-88cfeaafcb26"
      },
      "source": [
        "data[continous_features].hist(bins=100, figsize=(20,15))\n",
        "plt.show()"
      ],
      "execution_count": 23,
      "outputs": [
        {
          "output_type": "display_data",
          "data": {
            "image/png": "[encoded data removed]",
            "text/plain": [
              "<Figure size 1440x1080 with 6 Axes>"
            ]
          },
          "metadata": {
            "tags": [],
            "needs_background": "light"
          }
        }
      ]
    },
    {
      "cell_type": "markdown",
      "metadata": {
        "id": "MJqDcKdBcyVm",
        "colab_type": "text"
      },
      "source": [
        "## **Distribution of Prices**"
      ]
    },
    {
      "cell_type": "code",
      "metadata": {
        "id": "tQ5djzanaoYe",
        "colab_type": "code",
        "colab": {
          "base_uri": "https://localhost:8080/",
          "height": 281
        },
        "outputId": "4da62c01-4a30-4fea-ac6e-df46d45a38e6"
      },
      "source": [
        "data['price'].hist(bins=50)\n",
        "plt.title(\"Price Distribution\")\n",
        "plt.ticklabel_format(useOffset=False, style='plain') # removing the scientific scales on the axes\n",
        "plt.show()"
      ],
      "execution_count": 25,
      "outputs": [
        {
          "output_type": "display_data",
          "data": {
            "image/png": "[encoded data removed]",
            "text/plain": [
              "<Figure size 432x288 with 1 Axes>"
            ]
          },
          "metadata": {
            "tags": [],
            "needs_background": "light"
          }
        }
      ]
    },
    {
      "cell_type": "markdown",
      "metadata": {
        "id": "jByVvHgqmPYD",
        "colab_type": "text"
      },
      "source": [
        "# **3. Do you notice anything? Is there something that might require special treatment?**"
      ]
    },
    {
      "cell_type": "markdown",
      "metadata": {
        "id": "UF64iI0HA8jv",
        "colab_type": "text"
      },
      "source": [
        "Yes, I noticed that there are some outlier that could potentially affect the regression, removing the outliers could help make better predictions\n",
        "\n",
        "* Capping the price of the house variable to 1 million(1000000)\n",
        "* Capping Bathrooms to 5\n",
        "* Capping number of bedrooms to 4\n",
        "* Capping sqft_living to 5000\n",
        "* Capping sqft_above to 5000"
      ]
    },
    {
      "cell_type": "code",
      "metadata": {
        "id": "n5P2rXIVqYYg",
        "colab_type": "code",
        "colab": {}
      },
      "source": [
        "data_capp = data[\n",
        "     (data[\"price\"] <= 1000000) & \n",
        "     (data[\"bathrooms\"] <= 5) & \n",
        "     (data[\"bedrooms\"] <= 4) & \n",
        "     (data[\"sqft_living\"] <= 5000) & \n",
        "     (data[\"sqft_above\"] <= 5000)\n",
        "    ]"
      ],
      "execution_count": 26,
      "outputs": []
    },
    {
      "cell_type": "code",
      "metadata": {
        "id": "lU5vaytHl1yL",
        "colab_type": "code",
        "colab": {
          "base_uri": "https://localhost:8080/",
          "height": 34
        },
        "outputId": "19753567-149f-4121-f2d5-b185712d6159"
      },
      "source": [
        "print(data_capp.shape)"
      ],
      "execution_count": 27,
      "outputs": [
        {
          "output_type": "stream",
          "text": [
            "(2567, 18)\n"
          ],
          "name": "stdout"
        }
      ]
    },
    {
      "cell_type": "markdown",
      "metadata": {
        "id": "i0PytjBTQ8Jc",
        "colab_type": "text"
      },
      "source": [
        "# **4. Dependency of the price on each continuous feature.**\n",
        "\n"
      ]
    },
    {
      "cell_type": "markdown",
      "metadata": {
        "id": "qCWYVpKY8Hw9",
        "colab_type": "text"
      },
      "source": [
        "### **Visualizing dependancy of price on Continous Features**"
      ]
    },
    {
      "cell_type": "markdown",
      "metadata": {
        "id": "fnvpaL0P8Fr7",
        "colab_type": "text"
      },
      "source": [
        "* Looking at the scatter plots, we can see that there are few outliers in the data with abnormal data values which was also seen in the univariate distribution graphs\n",
        "\n",
        "* **Looking at the *yr_rennovated* data from both histogram and scatter plot, >50% of the data has 0s. This may be due to various reasons discussed above, hence we can consider to drop this column**"
      ]
    },
    {
      "cell_type": "code",
      "metadata": {
        "id": "XmFxlwaK3aK5",
        "colab_type": "code",
        "colab": {
          "base_uri": "https://localhost:8080/",
          "height": 729
        },
        "outputId": "349d41a5-1a4b-45dd-c128-d1774051ab7c"
      },
      "source": [
        "rows = len(continous_features)//3\n",
        "fig, axs = plt.subplots(rows, 3, sharey=True, tight_layout=True, figsize=(20,10))\n",
        "axs = axs.flatten()\n",
        "for i, var in enumerate(continous_features):\n",
        "  sns.regplot(x = var, y = \"price\", data = data, ax=axs[i])\n",
        "\n"
      ],
      "execution_count": 28,
      "outputs": [
        {
          "output_type": "display_data",
          "data": {
            "image/png": "[encoded data removed]",
            "text/plain": [
              "<Figure size 1440x720 with 6 Axes>"
            ]
          },
          "metadata": {
            "tags": [],
            "needs_background": "light"
          }
        }
      ]
    },
    {
      "cell_type": "markdown",
      "metadata": {
        "id": "YLfb5IwA8gO5",
        "colab_type": "text"
      },
      "source": [
        "## **Visualizing dependancy of price on Discrete Features**"
      ]
    },
    {
      "cell_type": "code",
      "metadata": {
        "id": "X7uK6HORdd-w",
        "colab_type": "code",
        "colab": {
          "base_uri": "https://localhost:8080/",
          "height": 729
        },
        "outputId": "0bdf8bbe-6740-4dc9-a7f0-a36531e5c404"
      },
      "source": [
        "#visualize_dependency(discreate_features,\"discrete\")\n",
        "\n",
        "rows = len(discreate_features)//3\n",
        "fig, axs = plt.subplots(rows, 3, sharey=True, tight_layout=True, figsize=(20,10))\n",
        "axs = axs.flatten()\n",
        "for i, var in enumerate(discreate_features):\n",
        "  sns.regplot(x = var, y = \"price\", data = data, ax=axs[i], x_estimator=np.median)"
      ],
      "execution_count": 29,
      "outputs": [
        {
          "output_type": "display_data",
          "data": {
            "image/png": "[encoded data removed]",
            "text/plain": [
              "<Figure size 1440x720 with 3 Axes>"
            ]
          },
          "metadata": {
            "tags": [],
            "needs_background": "light"
          }
        }
      ]
    },
    {
      "cell_type": "markdown",
      "metadata": {
        "id": "AZodVS618xw1",
        "colab_type": "text"
      },
      "source": [
        "## **Visualizing dependancy of price on Categorical Features**\n",
        "\n"
      ]
    },
    {
      "cell_type": "code",
      "metadata": {
        "id": "Le3orOFJ8r3u",
        "colab_type": "code",
        "colab": {
          "base_uri": "https://localhost:8080/",
          "height": 1000
        },
        "outputId": "39eceab7-eae8-40e7-f6da-80b05047d521"
      },
      "source": [
        "#visualize_dependency(categorical_features,\"categorical\")\n",
        "for var in categorical_features:\n",
        "  sns.catplot(x=var, y = \"price\", data =data, kind = 'box')"
      ],
      "execution_count": 30,
      "outputs": [
        {
          "output_type": "display_data",
          "data": {
            "image/png": "[encoded data removed]",
            "text/plain": [
              "<Figure size 360x360 with 1 Axes>"
            ]
          },
          "metadata": {
            "tags": [],
            "needs_background": "light"
          }
        },
        {
          "output_type": "display_data",
          "data": {
            "image/png": "[encoded data removed]",
            "text/plain": [
              "<Figure size 360x360 with 1 Axes>"
            ]
          },
          "metadata": {
            "tags": [],
            "needs_background": "light"
          }
        },
        {
          "output_type": "display_data",
          "data": {
            "image/png": "[encoded data removed]",
            "text/plain": [
              "<Figure size 360x360 with 1 Axes>"
            ]
          },
          "metadata": {
            "tags": [],
            "needs_background": "light"
          }
        },
        {
          "output_type": "display_data",
          "data": {
            "image/png": "[encoded data removed]",
            "text/plain": [
              "<Figure size 360x360 with 1 Axes>"
            ]
          },
          "metadata": {
            "tags": [],
            "needs_background": "light"
          }
        },
        {
          "output_type": "display_data",
          "data": {
            "image/png": "[encoded data removed]",
            "text/plain": [
              "<Figure size 360x360 with 1 Axes>"
            ]
          },
          "metadata": {
            "tags": [],
            "needs_background": "light"
          }
        }
      ]
    },
    {
      "cell_type": "markdown",
      "metadata": {
        "id": "s2-e7R3JhQfY",
        "colab_type": "text"
      },
      "source": [
        "# **5. Encode categorical variables (One hot encoding). Impute missing values (0’s in some columns might be missing values).**"
      ]
    },
    {
      "cell_type": "markdown",
      "metadata": {
        "id": "stZs-_-c9yx-",
        "colab_type": "text"
      },
      "source": [
        "## Creating a new variable called \"renovated_after_yr\" to determine the gap between year of built and year of rennovation. (for experimentation)"
      ]
    },
    {
      "cell_type": "code",
      "metadata": {
        "id": "hTAIgboL1Uc8",
        "colab_type": "code",
        "colab": {}
      },
      "source": [
        "data_capp['renovated_after_yr'] = data_capp['yr_built']-data_capp['yr_renovated']\n",
        "data_capp['renovated_after_yr'][data_capp['renovated_after_yr']>=0] = 0\n",
        "data_capp['renovated_after_yr'] = abs(data_capp['renovated_after_yr'])"
      ],
      "execution_count": null,
      "outputs": []
    },
    {
      "cell_type": "code",
      "metadata": {
        "id": "7gC7Y1Mo5R5-",
        "colab_type": "code",
        "colab": {
          "base_uri": "https://localhost:8080/",
          "height": 221
        },
        "outputId": "59db8453-cc65-4b3a-ce98-96b3338e1f4e"
      },
      "source": [
        "data_capp['renovated_after_yr']"
      ],
      "execution_count": 32,
      "outputs": [
        {
          "output_type": "execute_result",
          "data": {
            "text/plain": [
              "0       34\n",
              "1        0\n",
              "2        0\n",
              "3        0\n",
              "4        0\n",
              "        ..\n",
              "2994    40\n",
              "2995     0\n",
              "2996     8\n",
              "2998    27\n",
              "2999     0\n",
              "Name: renovated_after_yr, Length: 2567, dtype: int64"
            ]
          },
          "metadata": {
            "tags": []
          },
          "execution_count": 32
        }
      ]
    },
    {
      "cell_type": "markdown",
      "metadata": {
        "id": "kAlK556s9kHA",
        "colab_type": "text"
      },
      "source": [
        "## Finding numebr of unique values for each variable"
      ]
    },
    {
      "cell_type": "code",
      "metadata": {
        "id": "ZwbPow5q071I",
        "colab_type": "code",
        "colab": {
          "base_uri": "https://localhost:8080/",
          "height": 323
        },
        "outputId": "f4ac489b-91cc-4391-a070-9ef9a03f77ea"
      },
      "source": [
        "# finding numebr of unique values for each variable\n",
        "total_unique_values= data.nunique()\n",
        "for key,value in total_unique_values.items():\n",
        "    if value >0:\n",
        "        print(key,\":\",value)"
      ],
      "execution_count": 33,
      "outputs": [
        {
          "output_type": "stream",
          "text": [
            "Id : 3000\n",
            "price : 1326\n",
            "bedrooms : 10\n",
            "bathrooms : 23\n",
            "sqft_living : 481\n",
            "sqft_lot : 2183\n",
            "floors : 6\n",
            "waterfront : 2\n",
            "view : 5\n",
            "condition : 5\n",
            "sqft_above : 439\n",
            "sqft_basement : 187\n",
            "yr_built : 115\n",
            "yr_renovated : 58\n",
            "street : 2970\n",
            "city : 41\n",
            "statezip : 75\n",
            "country : 1\n"
          ],
          "name": "stdout"
        }
      ]
    },
    {
      "cell_type": "markdown",
      "metadata": {
        "id": "TU1k10EBCZLb",
        "colab_type": "text"
      },
      "source": [
        "## **Creating feature set(X) and target set(Y)**"
      ]
    },
    {
      "cell_type": "markdown",
      "metadata": {
        "id": "5argyxOMjuef",
        "colab_type": "text"
      },
      "source": [
        "**While creating the feature set we drop the unwanted columns like ID, Street and country**"
      ]
    },
    {
      "cell_type": "code",
      "metadata": {
        "id": "fSHSbw1znXj3",
        "colab_type": "code",
        "colab": {
          "base_uri": "https://localhost:8080/",
          "height": 51
        },
        "outputId": "89d288ce-f2a5-4e8f-d76d-22ad23709246"
      },
      "source": [
        "#with removed outliers dataset, data_capp\n",
        "#X = data_capp.drop(['price','Id','street','country'], axis=1)\n",
        "\n",
        "# removal of yr_renovated variable\n",
        "#X = data_capp.drop(['price','Id','street','country','yr_renovated'], axis=1)\n",
        "\n",
        "# removal of renovated_after_yr variable\n",
        "X = data_capp.drop(['price','Id','street','country','renovated_after_yr'], axis=1)\n",
        "\n",
        "# removal of renovated_after_yr & yr_renovated  variable\n",
        "#X = data_capp.drop(['price','Id','street','country','renovated_after_yr','yr_renovated'], axis=1)\n",
        "\n",
        "y = data_capp['price']\n",
        "\n",
        "#with complete dataset\n",
        "#X = data.drop(['price','Id','street','country'], axis=1)\n",
        "#y = data['price']\n",
        "\n",
        "print(\"shape of independent set:\",X.shape)\n",
        "print(\"shape of target set:\",y.shape)"
      ],
      "execution_count": 82,
      "outputs": [
        {
          "output_type": "stream",
          "text": [
            "shape of independent set: (2567, 14)\n",
            "shape of target set: (2567,)\n"
          ],
          "name": "stdout"
        }
      ]
    },
    {
      "cell_type": "markdown",
      "metadata": {
        "id": "HGgnArC_j32u",
        "colab_type": "text"
      },
      "source": [
        "### **Spliting the datasets**"
      ]
    },
    {
      "cell_type": "code",
      "metadata": {
        "id": "3zDNLWeqNp29",
        "colab_type": "code",
        "colab": {}
      },
      "source": [
        "from sklearn.model_selection import KFold, StratifiedKFold, ShuffleSplit, RepeatedStratifiedKFold\n",
        "kfold = KFold(n_splits=5)\n",
        "skfold = StratifiedKFold(n_splits=5, shuffle=True)\n",
        "ss = ShuffleSplit(n_splits=20, train_size=.4, test_size=.3)\n",
        "rs = RepeatedStratifiedKFold(n_splits=5, n_repeats=10)"
      ],
      "execution_count": 36,
      "outputs": []
    },
    {
      "cell_type": "code",
      "metadata": {
        "id": "7JNGVoHnjnI5",
        "colab_type": "code",
        "colab": {
          "base_uri": "https://localhost:8080/",
          "height": 34
        },
        "outputId": "1781e88d-322e-469f-b38e-ba7607514c9d"
      },
      "source": [
        "# separate into training and testing set\n",
        "from sklearn.model_selection import train_test_split\n",
        "X_train, X_test, y_train, y_test = train_test_split(\n",
        "    X,\n",
        "    y,  \n",
        "    test_size=0.2,  \n",
        "    random_state=42)\n",
        "\n",
        "X_train.shape, X_test.shape"
      ],
      "execution_count": 142,
      "outputs": [
        {
          "output_type": "execute_result",
          "data": {
            "text/plain": [
              "((2053, 14), (514, 14))"
            ]
          },
          "metadata": {
            "tags": []
          },
          "execution_count": 142
        }
      ]
    },
    {
      "cell_type": "markdown",
      "metadata": {
        "id": "JtELz2qWw_nu",
        "colab_type": "text"
      },
      "source": [
        "## **OneHot encoding categorical variables**"
      ]
    },
    {
      "cell_type": "markdown",
      "metadata": {
        "id": "vU_se-uoa3MS",
        "colab_type": "text"
      },
      "source": [
        "### **Importing modules for feature engineering** "
      ]
    },
    {
      "cell_type": "code",
      "metadata": {
        "id": "TS0qe_p376LN",
        "colab_type": "code",
        "colab": {}
      },
      "source": [
        "# import relevant modules for feature engineering\n",
        "from sklearn.pipeline import Pipeline\n",
        "from feature_engine.categorical_encoders import OneHotCategoricalEncoder\n",
        "from feature_engine.categorical_encoders import RareLabelCategoricalEncoder\n",
        "from sklearn.neighbors import KNeighborsRegressor\n",
        "from sklearn.neighbors import KDTree\n",
        "from sklearn.neighbors import BallTree\n",
        "from sklearn.model_selection import GridSearchCV\n",
        "from sklearn.preprocessing import PolynomialFeatures\n",
        "from sklearn.preprocessing import StandardScaler\n",
        "from sklearn.linear_model import Ridge\n",
        "from sklearn.preprocessing import MinMaxScaler\n",
        "from sklearn.linear_model import Lasso\n",
        "from sklearn.tree import DecisionTreeRegressor\n"
      ],
      "execution_count": 101,
      "outputs": []
    },
    {
      "cell_type": "code",
      "metadata": {
        "id": "LtLDGxRoz_Mz",
        "colab_type": "code",
        "colab": {
          "base_uri": "https://localhost:8080/",
          "height": 51
        },
        "outputId": "f28a96ea-0897-4e06-bb2e-ff2b80f27869"
      },
      "source": [
        "#One hot encoding \"city\" and \"statezip\" categorical variables\n",
        "ohe_enc = OneHotCategoricalEncoder(variables = ['city','statezip'], top_categories=None, drop_last=True)\n",
        "ohe_enc.fit(X_train)"
      ],
      "execution_count": 143,
      "outputs": [
        {
          "output_type": "execute_result",
          "data": {
            "text/plain": [
              "OneHotCategoricalEncoder(drop_last=True, top_categories=None,\n",
              "                         variables=['city', 'statezip'])"
            ]
          },
          "metadata": {
            "tags": []
          },
          "execution_count": 143
        }
      ]
    },
    {
      "cell_type": "code",
      "metadata": {
        "id": "Svf6oCC60dGG",
        "colab_type": "code",
        "colab": {
          "base_uri": "https://localhost:8080/",
          "height": 258
        },
        "outputId": "6a76511f-6381-4779-8335-b9848b2921f9"
      },
      "source": [
        "X_train_enc = ohe_enc.transform(X_train)\n",
        "X_test_enc = ohe_enc.transform(X_test)\n",
        "X_train_enc.head()"
      ],
      "execution_count": 144,
      "outputs": [
        {
          "output_type": "execute_result",
          "data": {
            "text/html": [
              "<div>\n",
              "<style scoped>\n",
              "    .dataframe tbody tr th:only-of-type {\n",
              "        vertical-align: middle;\n",
              "    }\n",
              "\n",
              "    .dataframe tbody tr th {\n",
              "        vertical-align: top;\n",
              "    }\n",
              "\n",
              "    .dataframe thead th {\n",
              "        text-align: right;\n",
              "    }\n",
              "</style>\n",
              "<table border=\"1\" class=\"dataframe\">\n",
              "  <thead>\n",
              "    <tr style=\"text-align: right;\">\n",
              "      <th></th>\n",
              "      <th>bedrooms</th>\n",
              "      <th>bathrooms</th>\n",
              "      <th>sqft_living</th>\n",
              "      <th>sqft_lot</th>\n",
              "      <th>floors</th>\n",
              "      <th>waterfront</th>\n",
              "      <th>view</th>\n",
              "      <th>condition</th>\n",
              "      <th>sqft_above</th>\n",
              "      <th>sqft_basement</th>\n",
              "      <th>yr_built</th>\n",
              "      <th>yr_renovated</th>\n",
              "      <th>city_Woodinville</th>\n",
              "      <th>city_Seattle</th>\n",
              "      <th>city_Kenmore</th>\n",
              "      <th>city_Shoreline</th>\n",
              "      <th>city_Redmond</th>\n",
              "      <th>city_Renton</th>\n",
              "      <th>city_Auburn</th>\n",
              "      <th>city_Snoqualmie</th>\n",
              "      <th>city_Burien</th>\n",
              "      <th>city_Kent</th>\n",
              "      <th>city_Bellevue</th>\n",
              "      <th>city_Federal Way</th>\n",
              "      <th>city_Enumclaw</th>\n",
              "      <th>city_Mercer Island</th>\n",
              "      <th>city_Bothell</th>\n",
              "      <th>city_Kirkland</th>\n",
              "      <th>city_Issaquah</th>\n",
              "      <th>city_North Bend</th>\n",
              "      <th>city_Des Moines</th>\n",
              "      <th>city_Maple Valley</th>\n",
              "      <th>city_Covington</th>\n",
              "      <th>city_Tukwila</th>\n",
              "      <th>city_Duvall</th>\n",
              "      <th>city_Carnation</th>\n",
              "      <th>city_Vashon</th>\n",
              "      <th>city_Sammamish</th>\n",
              "      <th>city_Lake Forest Park</th>\n",
              "      <th>city_SeaTac</th>\n",
              "      <th>city_Newcastle</th>\n",
              "      <th>city_Ravensdale</th>\n",
              "      <th>city_Fall City</th>\n",
              "      <th>city_Normandy Park</th>\n",
              "      <th>city_Clyde Hill</th>\n",
              "      <th>city_Black Diamond</th>\n",
              "      <th>city_Pacific</th>\n",
              "      <th>city_Skykomish</th>\n",
              "      <th>city_Algona</th>\n",
              "      <th>city_Preston</th>\n",
              "      <th>statezip_WA 98072</th>\n",
              "      <th>statezip_WA 98108</th>\n",
              "      <th>statezip_WA 98133</th>\n",
              "      <th>statezip_WA 98028</th>\n",
              "      <th>statezip_WA 98106</th>\n",
              "      <th>statezip_WA 98053</th>\n",
              "      <th>statezip_WA 98056</th>\n",
              "      <th>statezip_WA 98001</th>\n",
              "      <th>statezip_WA 98077</th>\n",
              "      <th>statezip_WA 98178</th>\n",
              "      <th>statezip_WA 98103</th>\n",
              "      <th>statezip_WA 98065</th>\n",
              "      <th>statezip_WA 98146</th>\n",
              "      <th>statezip_WA 98042</th>\n",
              "      <th>statezip_WA 98115</th>\n",
              "      <th>statezip_WA 98004</th>\n",
              "      <th>statezip_WA 98155</th>\n",
              "      <th>statezip_WA 98117</th>\n",
              "      <th>statezip_WA 98126</th>\n",
              "      <th>statezip_WA 98023</th>\n",
              "      <th>statezip_WA 98118</th>\n",
              "      <th>statezip_WA 98022</th>\n",
              "      <th>statezip_WA 98119</th>\n",
              "      <th>statezip_WA 98148</th>\n",
              "      <th>statezip_WA 98040</th>\n",
              "      <th>statezip_WA 98092</th>\n",
              "      <th>statezip_WA 98058</th>\n",
              "      <th>statezip_WA 98011</th>\n",
              "      <th>statezip_WA 98144</th>\n",
              "      <th>statezip_WA 98033</th>\n",
              "      <th>statezip_WA 98029</th>\n",
              "      <th>statezip_WA 98003</th>\n",
              "      <th>statezip_WA 98027</th>\n",
              "      <th>statezip_WA 98059</th>\n",
              "      <th>statezip_WA 98136</th>\n",
              "      <th>statezip_WA 98177</th>\n",
              "      <th>statezip_WA 98030</th>\n",
              "      <th>statezip_WA 98006</th>\n",
              "      <th>statezip_WA 98045</th>\n",
              "      <th>statezip_WA 98031</th>\n",
              "      <th>statezip_WA 98105</th>\n",
              "      <th>statezip_WA 98008</th>\n",
              "      <th>statezip_WA 98198</th>\n",
              "      <th>statezip_WA 98034</th>\n",
              "      <th>statezip_WA 98107</th>\n",
              "      <th>statezip_WA 98038</th>\n",
              "      <th>statezip_WA 98166</th>\n",
              "      <th>statezip_WA 98199</th>\n",
              "      <th>statezip_WA 98102</th>\n",
              "      <th>statezip_WA 98122</th>\n",
              "      <th>statezip_WA 98125</th>\n",
              "      <th>statezip_WA 98002</th>\n",
              "      <th>statezip_WA 98032</th>\n",
              "      <th>statezip_WA 98168</th>\n",
              "      <th>statezip_WA 98019</th>\n",
              "      <th>statezip_WA 98052</th>\n",
              "      <th>statezip_WA 98014</th>\n",
              "      <th>statezip_WA 98007</th>\n",
              "      <th>statezip_WA 98070</th>\n",
              "      <th>statezip_WA 98057</th>\n",
              "      <th>statezip_WA 98074</th>\n",
              "      <th>statezip_WA 98112</th>\n",
              "      <th>statezip_WA 98055</th>\n",
              "      <th>statezip_WA 98116</th>\n",
              "      <th>statezip_WA 98051</th>\n",
              "      <th>statezip_WA 98024</th>\n",
              "      <th>statezip_WA 98005</th>\n",
              "      <th>statezip_WA 98075</th>\n",
              "      <th>statezip_WA 98010</th>\n",
              "      <th>statezip_WA 98109</th>\n",
              "      <th>statezip_WA 98188</th>\n",
              "      <th>statezip_WA 98047</th>\n",
              "      <th>statezip_WA 98288</th>\n",
              "      <th>statezip_WA 98050</th>\n",
              "    </tr>\n",
              "  </thead>\n",
              "  <tbody>\n",
              "    <tr>\n",
              "      <th>423</th>\n",
              "      <td>3</td>\n",
              "      <td>2.5</td>\n",
              "      <td>2670</td>\n",
              "      <td>47480</td>\n",
              "      <td>2.0</td>\n",
              "      <td>0</td>\n",
              "      <td>3</td>\n",
              "      <td>3</td>\n",
              "      <td>2670</td>\n",
              "      <td>0</td>\n",
              "      <td>1981</td>\n",
              "      <td>2013</td>\n",
              "      <td>1</td>\n",
              "      <td>0</td>\n",
              "      <td>0</td>\n",
              "      <td>0</td>\n",
              "      <td>0</td>\n",
              "      <td>0</td>\n",
              "      <td>0</td>\n",
              "      <td>0</td>\n",
              "      <td>0</td>\n",
              "      <td>0</td>\n",
              "      <td>0</td>\n",
              "      <td>0</td>\n",
              "      <td>0</td>\n",
              "      <td>0</td>\n",
              "      <td>0</td>\n",
              "      <td>0</td>\n",
              "      <td>0</td>\n",
              "      <td>0</td>\n",
              "      <td>0</td>\n",
              "      <td>0</td>\n",
              "      <td>0</td>\n",
              "      <td>0</td>\n",
              "      <td>0</td>\n",
              "      <td>0</td>\n",
              "      <td>0</td>\n",
              "      <td>0</td>\n",
              "      <td>0</td>\n",
              "      <td>0</td>\n",
              "      <td>0</td>\n",
              "      <td>0</td>\n",
              "      <td>0</td>\n",
              "      <td>0</td>\n",
              "      <td>0</td>\n",
              "      <td>0</td>\n",
              "      <td>0</td>\n",
              "      <td>0</td>\n",
              "      <td>0</td>\n",
              "      <td>0</td>\n",
              "      <td>1</td>\n",
              "      <td>0</td>\n",
              "      <td>0</td>\n",
              "      <td>0</td>\n",
              "      <td>0</td>\n",
              "      <td>0</td>\n",
              "      <td>0</td>\n",
              "      <td>0</td>\n",
              "      <td>0</td>\n",
              "      <td>0</td>\n",
              "      <td>0</td>\n",
              "      <td>0</td>\n",
              "      <td>0</td>\n",
              "      <td>0</td>\n",
              "      <td>0</td>\n",
              "      <td>0</td>\n",
              "      <td>0</td>\n",
              "      <td>0</td>\n",
              "      <td>0</td>\n",
              "      <td>0</td>\n",
              "      <td>0</td>\n",
              "      <td>0</td>\n",
              "      <td>0</td>\n",
              "      <td>0</td>\n",
              "      <td>0</td>\n",
              "      <td>0</td>\n",
              "      <td>0</td>\n",
              "      <td>0</td>\n",
              "      <td>0</td>\n",
              "      <td>0</td>\n",
              "      <td>0</td>\n",
              "      <td>0</td>\n",
              "      <td>0</td>\n",
              "      <td>0</td>\n",
              "      <td>0</td>\n",
              "      <td>0</td>\n",
              "      <td>0</td>\n",
              "      <td>0</td>\n",
              "      <td>0</td>\n",
              "      <td>0</td>\n",
              "      <td>0</td>\n",
              "      <td>0</td>\n",
              "      <td>0</td>\n",
              "      <td>0</td>\n",
              "      <td>0</td>\n",
              "      <td>0</td>\n",
              "      <td>0</td>\n",
              "      <td>0</td>\n",
              "      <td>0</td>\n",
              "      <td>0</td>\n",
              "      <td>0</td>\n",
              "      <td>0</td>\n",
              "      <td>0</td>\n",
              "      <td>0</td>\n",
              "      <td>0</td>\n",
              "      <td>0</td>\n",
              "      <td>0</td>\n",
              "      <td>0</td>\n",
              "      <td>0</td>\n",
              "      <td>0</td>\n",
              "      <td>0</td>\n",
              "      <td>0</td>\n",
              "      <td>0</td>\n",
              "      <td>0</td>\n",
              "      <td>0</td>\n",
              "      <td>0</td>\n",
              "      <td>0</td>\n",
              "      <td>0</td>\n",
              "      <td>0</td>\n",
              "      <td>0</td>\n",
              "      <td>0</td>\n",
              "      <td>0</td>\n",
              "      <td>0</td>\n",
              "      <td>0</td>\n",
              "    </tr>\n",
              "    <tr>\n",
              "      <th>2371</th>\n",
              "      <td>3</td>\n",
              "      <td>1.5</td>\n",
              "      <td>1640</td>\n",
              "      <td>7222</td>\n",
              "      <td>2.0</td>\n",
              "      <td>0</td>\n",
              "      <td>0</td>\n",
              "      <td>4</td>\n",
              "      <td>1640</td>\n",
              "      <td>0</td>\n",
              "      <td>1908</td>\n",
              "      <td>0</td>\n",
              "      <td>0</td>\n",
              "      <td>1</td>\n",
              "      <td>0</td>\n",
              "      <td>0</td>\n",
              "      <td>0</td>\n",
              "      <td>0</td>\n",
              "      <td>0</td>\n",
              "      <td>0</td>\n",
              "      <td>0</td>\n",
              "      <td>0</td>\n",
              "      <td>0</td>\n",
              "      <td>0</td>\n",
              "      <td>0</td>\n",
              "      <td>0</td>\n",
              "      <td>0</td>\n",
              "      <td>0</td>\n",
              "      <td>0</td>\n",
              "      <td>0</td>\n",
              "      <td>0</td>\n",
              "      <td>0</td>\n",
              "      <td>0</td>\n",
              "      <td>0</td>\n",
              "      <td>0</td>\n",
              "      <td>0</td>\n",
              "      <td>0</td>\n",
              "      <td>0</td>\n",
              "      <td>0</td>\n",
              "      <td>0</td>\n",
              "      <td>0</td>\n",
              "      <td>0</td>\n",
              "      <td>0</td>\n",
              "      <td>0</td>\n",
              "      <td>0</td>\n",
              "      <td>0</td>\n",
              "      <td>0</td>\n",
              "      <td>0</td>\n",
              "      <td>0</td>\n",
              "      <td>0</td>\n",
              "      <td>0</td>\n",
              "      <td>1</td>\n",
              "      <td>0</td>\n",
              "      <td>0</td>\n",
              "      <td>0</td>\n",
              "      <td>0</td>\n",
              "      <td>0</td>\n",
              "      <td>0</td>\n",
              "      <td>0</td>\n",
              "      <td>0</td>\n",
              "      <td>0</td>\n",
              "      <td>0</td>\n",
              "      <td>0</td>\n",
              "      <td>0</td>\n",
              "      <td>0</td>\n",
              "      <td>0</td>\n",
              "      <td>0</td>\n",
              "      <td>0</td>\n",
              "      <td>0</td>\n",
              "      <td>0</td>\n",
              "      <td>0</td>\n",
              "      <td>0</td>\n",
              "      <td>0</td>\n",
              "      <td>0</td>\n",
              "      <td>0</td>\n",
              "      <td>0</td>\n",
              "      <td>0</td>\n",
              "      <td>0</td>\n",
              "      <td>0</td>\n",
              "      <td>0</td>\n",
              "      <td>0</td>\n",
              "      <td>0</td>\n",
              "      <td>0</td>\n",
              "      <td>0</td>\n",
              "      <td>0</td>\n",
              "      <td>0</td>\n",
              "      <td>0</td>\n",
              "      <td>0</td>\n",
              "      <td>0</td>\n",
              "      <td>0</td>\n",
              "      <td>0</td>\n",
              "      <td>0</td>\n",
              "      <td>0</td>\n",
              "      <td>0</td>\n",
              "      <td>0</td>\n",
              "      <td>0</td>\n",
              "      <td>0</td>\n",
              "      <td>0</td>\n",
              "      <td>0</td>\n",
              "      <td>0</td>\n",
              "      <td>0</td>\n",
              "      <td>0</td>\n",
              "      <td>0</td>\n",
              "      <td>0</td>\n",
              "      <td>0</td>\n",
              "      <td>0</td>\n",
              "      <td>0</td>\n",
              "      <td>0</td>\n",
              "      <td>0</td>\n",
              "      <td>0</td>\n",
              "      <td>0</td>\n",
              "      <td>0</td>\n",
              "      <td>0</td>\n",
              "      <td>0</td>\n",
              "      <td>0</td>\n",
              "      <td>0</td>\n",
              "      <td>0</td>\n",
              "      <td>0</td>\n",
              "      <td>0</td>\n",
              "      <td>0</td>\n",
              "      <td>0</td>\n",
              "      <td>0</td>\n",
              "      <td>0</td>\n",
              "      <td>0</td>\n",
              "    </tr>\n",
              "    <tr>\n",
              "      <th>1428</th>\n",
              "      <td>3</td>\n",
              "      <td>1.5</td>\n",
              "      <td>1260</td>\n",
              "      <td>1270</td>\n",
              "      <td>2.0</td>\n",
              "      <td>0</td>\n",
              "      <td>0</td>\n",
              "      <td>3</td>\n",
              "      <td>1040</td>\n",
              "      <td>220</td>\n",
              "      <td>2005</td>\n",
              "      <td>0</td>\n",
              "      <td>0</td>\n",
              "      <td>1</td>\n",
              "      <td>0</td>\n",
              "      <td>0</td>\n",
              "      <td>0</td>\n",
              "      <td>0</td>\n",
              "      <td>0</td>\n",
              "      <td>0</td>\n",
              "      <td>0</td>\n",
              "      <td>0</td>\n",
              "      <td>0</td>\n",
              "      <td>0</td>\n",
              "      <td>0</td>\n",
              "      <td>0</td>\n",
              "      <td>0</td>\n",
              "      <td>0</td>\n",
              "      <td>0</td>\n",
              "      <td>0</td>\n",
              "      <td>0</td>\n",
              "      <td>0</td>\n",
              "      <td>0</td>\n",
              "      <td>0</td>\n",
              "      <td>0</td>\n",
              "      <td>0</td>\n",
              "      <td>0</td>\n",
              "      <td>0</td>\n",
              "      <td>0</td>\n",
              "      <td>0</td>\n",
              "      <td>0</td>\n",
              "      <td>0</td>\n",
              "      <td>0</td>\n",
              "      <td>0</td>\n",
              "      <td>0</td>\n",
              "      <td>0</td>\n",
              "      <td>0</td>\n",
              "      <td>0</td>\n",
              "      <td>0</td>\n",
              "      <td>0</td>\n",
              "      <td>0</td>\n",
              "      <td>0</td>\n",
              "      <td>1</td>\n",
              "      <td>0</td>\n",
              "      <td>0</td>\n",
              "      <td>0</td>\n",
              "      <td>0</td>\n",
              "      <td>0</td>\n",
              "      <td>0</td>\n",
              "      <td>0</td>\n",
              "      <td>0</td>\n",
              "      <td>0</td>\n",
              "      <td>0</td>\n",
              "      <td>0</td>\n",
              "      <td>0</td>\n",
              "      <td>0</td>\n",
              "      <td>0</td>\n",
              "      <td>0</td>\n",
              "      <td>0</td>\n",
              "      <td>0</td>\n",
              "      <td>0</td>\n",
              "      <td>0</td>\n",
              "      <td>0</td>\n",
              "      <td>0</td>\n",
              "      <td>0</td>\n",
              "      <td>0</td>\n",
              "      <td>0</td>\n",
              "      <td>0</td>\n",
              "      <td>0</td>\n",
              "      <td>0</td>\n",
              "      <td>0</td>\n",
              "      <td>0</td>\n",
              "      <td>0</td>\n",
              "      <td>0</td>\n",
              "      <td>0</td>\n",
              "      <td>0</td>\n",
              "      <td>0</td>\n",
              "      <td>0</td>\n",
              "      <td>0</td>\n",
              "      <td>0</td>\n",
              "      <td>0</td>\n",
              "      <td>0</td>\n",
              "      <td>0</td>\n",
              "      <td>0</td>\n",
              "      <td>0</td>\n",
              "      <td>0</td>\n",
              "      <td>0</td>\n",
              "      <td>0</td>\n",
              "      <td>0</td>\n",
              "      <td>0</td>\n",
              "      <td>0</td>\n",
              "      <td>0</td>\n",
              "      <td>0</td>\n",
              "      <td>0</td>\n",
              "      <td>0</td>\n",
              "      <td>0</td>\n",
              "      <td>0</td>\n",
              "      <td>0</td>\n",
              "      <td>0</td>\n",
              "      <td>0</td>\n",
              "      <td>0</td>\n",
              "      <td>0</td>\n",
              "      <td>0</td>\n",
              "      <td>0</td>\n",
              "      <td>0</td>\n",
              "      <td>0</td>\n",
              "      <td>0</td>\n",
              "      <td>0</td>\n",
              "      <td>0</td>\n",
              "      <td>0</td>\n",
              "      <td>0</td>\n",
              "      <td>0</td>\n",
              "      <td>0</td>\n",
              "      <td>0</td>\n",
              "    </tr>\n",
              "    <tr>\n",
              "      <th>2265</th>\n",
              "      <td>2</td>\n",
              "      <td>1.5</td>\n",
              "      <td>1068</td>\n",
              "      <td>1758</td>\n",
              "      <td>2.0</td>\n",
              "      <td>0</td>\n",
              "      <td>0</td>\n",
              "      <td>3</td>\n",
              "      <td>1068</td>\n",
              "      <td>0</td>\n",
              "      <td>1990</td>\n",
              "      <td>2009</td>\n",
              "      <td>0</td>\n",
              "      <td>0</td>\n",
              "      <td>1</td>\n",
              "      <td>0</td>\n",
              "      <td>0</td>\n",
              "      <td>0</td>\n",
              "      <td>0</td>\n",
              "      <td>0</td>\n",
              "      <td>0</td>\n",
              "      <td>0</td>\n",
              "      <td>0</td>\n",
              "      <td>0</td>\n",
              "      <td>0</td>\n",
              "      <td>0</td>\n",
              "      <td>0</td>\n",
              "      <td>0</td>\n",
              "      <td>0</td>\n",
              "      <td>0</td>\n",
              "      <td>0</td>\n",
              "      <td>0</td>\n",
              "      <td>0</td>\n",
              "      <td>0</td>\n",
              "      <td>0</td>\n",
              "      <td>0</td>\n",
              "      <td>0</td>\n",
              "      <td>0</td>\n",
              "      <td>0</td>\n",
              "      <td>0</td>\n",
              "      <td>0</td>\n",
              "      <td>0</td>\n",
              "      <td>0</td>\n",
              "      <td>0</td>\n",
              "      <td>0</td>\n",
              "      <td>0</td>\n",
              "      <td>0</td>\n",
              "      <td>0</td>\n",
              "      <td>0</td>\n",
              "      <td>0</td>\n",
              "      <td>0</td>\n",
              "      <td>0</td>\n",
              "      <td>0</td>\n",
              "      <td>1</td>\n",
              "      <td>0</td>\n",
              "      <td>0</td>\n",
              "      <td>0</td>\n",
              "      <td>0</td>\n",
              "      <td>0</td>\n",
              "      <td>0</td>\n",
              "      <td>0</td>\n",
              "      <td>0</td>\n",
              "      <td>0</td>\n",
              "      <td>0</td>\n",
              "      <td>0</td>\n",
              "      <td>0</td>\n",
              "      <td>0</td>\n",
              "      <td>0</td>\n",
              "      <td>0</td>\n",
              "      <td>0</td>\n",
              "      <td>0</td>\n",
              "      <td>0</td>\n",
              "      <td>0</td>\n",
              "      <td>0</td>\n",
              "      <td>0</td>\n",
              "      <td>0</td>\n",
              "      <td>0</td>\n",
              "      <td>0</td>\n",
              "      <td>0</td>\n",
              "      <td>0</td>\n",
              "      <td>0</td>\n",
              "      <td>0</td>\n",
              "      <td>0</td>\n",
              "      <td>0</td>\n",
              "      <td>0</td>\n",
              "      <td>0</td>\n",
              "      <td>0</td>\n",
              "      <td>0</td>\n",
              "      <td>0</td>\n",
              "      <td>0</td>\n",
              "      <td>0</td>\n",
              "      <td>0</td>\n",
              "      <td>0</td>\n",
              "      <td>0</td>\n",
              "      <td>0</td>\n",
              "      <td>0</td>\n",
              "      <td>0</td>\n",
              "      <td>0</td>\n",
              "      <td>0</td>\n",
              "      <td>0</td>\n",
              "      <td>0</td>\n",
              "      <td>0</td>\n",
              "      <td>0</td>\n",
              "      <td>0</td>\n",
              "      <td>0</td>\n",
              "      <td>0</td>\n",
              "      <td>0</td>\n",
              "      <td>0</td>\n",
              "      <td>0</td>\n",
              "      <td>0</td>\n",
              "      <td>0</td>\n",
              "      <td>0</td>\n",
              "      <td>0</td>\n",
              "      <td>0</td>\n",
              "      <td>0</td>\n",
              "      <td>0</td>\n",
              "      <td>0</td>\n",
              "      <td>0</td>\n",
              "      <td>0</td>\n",
              "      <td>0</td>\n",
              "      <td>0</td>\n",
              "      <td>0</td>\n",
              "      <td>0</td>\n",
              "      <td>0</td>\n",
              "    </tr>\n",
              "    <tr>\n",
              "      <th>1579</th>\n",
              "      <td>4</td>\n",
              "      <td>2.5</td>\n",
              "      <td>2000</td>\n",
              "      <td>5962</td>\n",
              "      <td>2.0</td>\n",
              "      <td>0</td>\n",
              "      <td>0</td>\n",
              "      <td>3</td>\n",
              "      <td>2000</td>\n",
              "      <td>0</td>\n",
              "      <td>1999</td>\n",
              "      <td>0</td>\n",
              "      <td>0</td>\n",
              "      <td>0</td>\n",
              "      <td>0</td>\n",
              "      <td>1</td>\n",
              "      <td>0</td>\n",
              "      <td>0</td>\n",
              "      <td>0</td>\n",
              "      <td>0</td>\n",
              "      <td>0</td>\n",
              "      <td>0</td>\n",
              "      <td>0</td>\n",
              "      <td>0</td>\n",
              "      <td>0</td>\n",
              "      <td>0</td>\n",
              "      <td>0</td>\n",
              "      <td>0</td>\n",
              "      <td>0</td>\n",
              "      <td>0</td>\n",
              "      <td>0</td>\n",
              "      <td>0</td>\n",
              "      <td>0</td>\n",
              "      <td>0</td>\n",
              "      <td>0</td>\n",
              "      <td>0</td>\n",
              "      <td>0</td>\n",
              "      <td>0</td>\n",
              "      <td>0</td>\n",
              "      <td>0</td>\n",
              "      <td>0</td>\n",
              "      <td>0</td>\n",
              "      <td>0</td>\n",
              "      <td>0</td>\n",
              "      <td>0</td>\n",
              "      <td>0</td>\n",
              "      <td>0</td>\n",
              "      <td>0</td>\n",
              "      <td>0</td>\n",
              "      <td>0</td>\n",
              "      <td>0</td>\n",
              "      <td>0</td>\n",
              "      <td>1</td>\n",
              "      <td>0</td>\n",
              "      <td>0</td>\n",
              "      <td>0</td>\n",
              "      <td>0</td>\n",
              "      <td>0</td>\n",
              "      <td>0</td>\n",
              "      <td>0</td>\n",
              "      <td>0</td>\n",
              "      <td>0</td>\n",
              "      <td>0</td>\n",
              "      <td>0</td>\n",
              "      <td>0</td>\n",
              "      <td>0</td>\n",
              "      <td>0</td>\n",
              "      <td>0</td>\n",
              "      <td>0</td>\n",
              "      <td>0</td>\n",
              "      <td>0</td>\n",
              "      <td>0</td>\n",
              "      <td>0</td>\n",
              "      <td>0</td>\n",
              "      <td>0</td>\n",
              "      <td>0</td>\n",
              "      <td>0</td>\n",
              "      <td>0</td>\n",
              "      <td>0</td>\n",
              "      <td>0</td>\n",
              "      <td>0</td>\n",
              "      <td>0</td>\n",
              "      <td>0</td>\n",
              "      <td>0</td>\n",
              "      <td>0</td>\n",
              "      <td>0</td>\n",
              "      <td>0</td>\n",
              "      <td>0</td>\n",
              "      <td>0</td>\n",
              "      <td>0</td>\n",
              "      <td>0</td>\n",
              "      <td>0</td>\n",
              "      <td>0</td>\n",
              "      <td>0</td>\n",
              "      <td>0</td>\n",
              "      <td>0</td>\n",
              "      <td>0</td>\n",
              "      <td>0</td>\n",
              "      <td>0</td>\n",
              "      <td>0</td>\n",
              "      <td>0</td>\n",
              "      <td>0</td>\n",
              "      <td>0</td>\n",
              "      <td>0</td>\n",
              "      <td>0</td>\n",
              "      <td>0</td>\n",
              "      <td>0</td>\n",
              "      <td>0</td>\n",
              "      <td>0</td>\n",
              "      <td>0</td>\n",
              "      <td>0</td>\n",
              "      <td>0</td>\n",
              "      <td>0</td>\n",
              "      <td>0</td>\n",
              "      <td>0</td>\n",
              "      <td>0</td>\n",
              "      <td>0</td>\n",
              "      <td>0</td>\n",
              "      <td>0</td>\n",
              "      <td>0</td>\n",
              "      <td>0</td>\n",
              "      <td>0</td>\n",
              "      <td>0</td>\n",
              "      <td>0</td>\n",
              "    </tr>\n",
              "  </tbody>\n",
              "</table>\n",
              "</div>"
            ],
            "text/plain": [
              "      bedrooms  bathrooms  sqft_living  sqft_lot  floors  waterfront  view  \\\n",
              "423          3        2.5         2670     47480     2.0           0     3   \n",
              "2371         3        1.5         1640      7222     2.0           0     0   \n",
              "1428         3        1.5         1260      1270     2.0           0     0   \n",
              "2265         2        1.5         1068      1758     2.0           0     0   \n",
              "1579         4        2.5         2000      5962     2.0           0     0   \n",
              "\n",
              "      condition  sqft_above  sqft_basement  yr_built  yr_renovated  \\\n",
              "423           3        2670              0      1981          2013   \n",
              "2371          4        1640              0      1908             0   \n",
              "1428          3        1040            220      2005             0   \n",
              "2265          3        1068              0      1990          2009   \n",
              "1579          3        2000              0      1999             0   \n",
              "\n",
              "      city_Woodinville  city_Seattle  city_Kenmore  city_Shoreline  \\\n",
              "423                  1             0             0               0   \n",
              "2371                 0             1             0               0   \n",
              "1428                 0             1             0               0   \n",
              "2265                 0             0             1               0   \n",
              "1579                 0             0             0               1   \n",
              "\n",
              "      city_Redmond  city_Renton  city_Auburn  city_Snoqualmie  city_Burien  \\\n",
              "423              0            0            0                0            0   \n",
              "2371             0            0            0                0            0   \n",
              "1428             0            0            0                0            0   \n",
              "2265             0            0            0                0            0   \n",
              "1579             0            0            0                0            0   \n",
              "\n",
              "      city_Kent  city_Bellevue  city_Federal Way  city_Enumclaw  \\\n",
              "423           0              0                 0              0   \n",
              "2371          0              0                 0              0   \n",
              "1428          0              0                 0              0   \n",
              "2265          0              0                 0              0   \n",
              "1579          0              0                 0              0   \n",
              "\n",
              "      city_Mercer Island  city_Bothell  city_Kirkland  city_Issaquah  \\\n",
              "423                    0             0              0              0   \n",
              "2371                   0             0              0              0   \n",
              "1428                   0             0              0              0   \n",
              "2265                   0             0              0              0   \n",
              "1579                   0             0              0              0   \n",
              "\n",
              "      city_North Bend  city_Des Moines  city_Maple Valley  city_Covington  \\\n",
              "423                 0                0                  0               0   \n",
              "2371                0                0                  0               0   \n",
              "1428                0                0                  0               0   \n",
              "2265                0                0                  0               0   \n",
              "1579                0                0                  0               0   \n",
              "\n",
              "      city_Tukwila  city_Duvall  city_Carnation  city_Vashon  city_Sammamish  \\\n",
              "423              0            0               0            0               0   \n",
              "2371             0            0               0            0               0   \n",
              "1428             0            0               0            0               0   \n",
              "2265             0            0               0            0               0   \n",
              "1579             0            0               0            0               0   \n",
              "\n",
              "      city_Lake Forest Park  city_SeaTac  city_Newcastle  city_Ravensdale  \\\n",
              "423                       0            0               0                0   \n",
              "2371                      0            0               0                0   \n",
              "1428                      0            0               0                0   \n",
              "2265                      0            0               0                0   \n",
              "1579                      0            0               0                0   \n",
              "\n",
              "      city_Fall City  city_Normandy Park  city_Clyde Hill  city_Black Diamond  \\\n",
              "423                0                   0                0                   0   \n",
              "2371               0                   0                0                   0   \n",
              "1428               0                   0                0                   0   \n",
              "2265               0                   0                0                   0   \n",
              "1579               0                   0                0                   0   \n",
              "\n",
              "      city_Pacific  city_Skykomish  city_Algona  city_Preston  \\\n",
              "423              0               0            0             0   \n",
              "2371             0               0            0             0   \n",
              "1428             0               0            0             0   \n",
              "2265             0               0            0             0   \n",
              "1579             0               0            0             0   \n",
              "\n",
              "      statezip_WA 98072  statezip_WA 98108  statezip_WA 98133  \\\n",
              "423                   1                  0                  0   \n",
              "2371                  0                  1                  0   \n",
              "1428                  0                  0                  1   \n",
              "2265                  0                  0                  0   \n",
              "1579                  0                  0                  1   \n",
              "\n",
              "      statezip_WA 98028  statezip_WA 98106  statezip_WA 98053  \\\n",
              "423                   0                  0                  0   \n",
              "2371                  0                  0                  0   \n",
              "1428                  0                  0                  0   \n",
              "2265                  1                  0                  0   \n",
              "1579                  0                  0                  0   \n",
              "\n",
              "      statezip_WA 98056  statezip_WA 98001  statezip_WA 98077  \\\n",
              "423                   0                  0                  0   \n",
              "2371                  0                  0                  0   \n",
              "1428                  0                  0                  0   \n",
              "2265                  0                  0                  0   \n",
              "1579                  0                  0                  0   \n",
              "\n",
              "      statezip_WA 98178  statezip_WA 98103  statezip_WA 98065  \\\n",
              "423                   0                  0                  0   \n",
              "2371                  0                  0                  0   \n",
              "1428                  0                  0                  0   \n",
              "2265                  0                  0                  0   \n",
              "1579                  0                  0                  0   \n",
              "\n",
              "      statezip_WA 98146  statezip_WA 98042  statezip_WA 98115  \\\n",
              "423                   0                  0                  0   \n",
              "2371                  0                  0                  0   \n",
              "1428                  0                  0                  0   \n",
              "2265                  0                  0                  0   \n",
              "1579                  0                  0                  0   \n",
              "\n",
              "      statezip_WA 98004  statezip_WA 98155  statezip_WA 98117  \\\n",
              "423                   0                  0                  0   \n",
              "2371                  0                  0                  0   \n",
              "1428                  0                  0                  0   \n",
              "2265                  0                  0                  0   \n",
              "1579                  0                  0                  0   \n",
              "\n",
              "      statezip_WA 98126  statezip_WA 98023  statezip_WA 98118  \\\n",
              "423                   0                  0                  0   \n",
              "2371                  0                  0                  0   \n",
              "1428                  0                  0                  0   \n",
              "2265                  0                  0                  0   \n",
              "1579                  0                  0                  0   \n",
              "\n",
              "      statezip_WA 98022  statezip_WA 98119  statezip_WA 98148  \\\n",
              "423                   0                  0                  0   \n",
              "2371                  0                  0                  0   \n",
              "1428                  0                  0                  0   \n",
              "2265                  0                  0                  0   \n",
              "1579                  0                  0                  0   \n",
              "\n",
              "      statezip_WA 98040  statezip_WA 98092  statezip_WA 98058  \\\n",
              "423                   0                  0                  0   \n",
              "2371                  0                  0                  0   \n",
              "1428                  0                  0                  0   \n",
              "2265                  0                  0                  0   \n",
              "1579                  0                  0                  0   \n",
              "\n",
              "      statezip_WA 98011  statezip_WA 98144  statezip_WA 98033  \\\n",
              "423                   0                  0                  0   \n",
              "2371                  0                  0                  0   \n",
              "1428                  0                  0                  0   \n",
              "2265                  0                  0                  0   \n",
              "1579                  0                  0                  0   \n",
              "\n",
              "      statezip_WA 98029  statezip_WA 98003  statezip_WA 98027  \\\n",
              "423                   0                  0                  0   \n",
              "2371                  0                  0                  0   \n",
              "1428                  0                  0                  0   \n",
              "2265                  0                  0                  0   \n",
              "1579                  0                  0                  0   \n",
              "\n",
              "      statezip_WA 98059  statezip_WA 98136  statezip_WA 98177  \\\n",
              "423                   0                  0                  0   \n",
              "2371                  0                  0                  0   \n",
              "1428                  0                  0                  0   \n",
              "2265                  0                  0                  0   \n",
              "1579                  0                  0                  0   \n",
              "\n",
              "      statezip_WA 98030  statezip_WA 98006  statezip_WA 98045  \\\n",
              "423                   0                  0                  0   \n",
              "2371                  0                  0                  0   \n",
              "1428                  0                  0                  0   \n",
              "2265                  0                  0                  0   \n",
              "1579                  0                  0                  0   \n",
              "\n",
              "      statezip_WA 98031  statezip_WA 98105  statezip_WA 98008  \\\n",
              "423                   0                  0                  0   \n",
              "2371                  0                  0                  0   \n",
              "1428                  0                  0                  0   \n",
              "2265                  0                  0                  0   \n",
              "1579                  0                  0                  0   \n",
              "\n",
              "      statezip_WA 98198  statezip_WA 98034  statezip_WA 98107  \\\n",
              "423                   0                  0                  0   \n",
              "2371                  0                  0                  0   \n",
              "1428                  0                  0                  0   \n",
              "2265                  0                  0                  0   \n",
              "1579                  0                  0                  0   \n",
              "\n",
              "      statezip_WA 98038  statezip_WA 98166  statezip_WA 98199  \\\n",
              "423                   0                  0                  0   \n",
              "2371                  0                  0                  0   \n",
              "1428                  0                  0                  0   \n",
              "2265                  0                  0                  0   \n",
              "1579                  0                  0                  0   \n",
              "\n",
              "      statezip_WA 98102  statezip_WA 98122  statezip_WA 98125  \\\n",
              "423                   0                  0                  0   \n",
              "2371                  0                  0                  0   \n",
              "1428                  0                  0                  0   \n",
              "2265                  0                  0                  0   \n",
              "1579                  0                  0                  0   \n",
              "\n",
              "      statezip_WA 98002  statezip_WA 98032  statezip_WA 98168  \\\n",
              "423                   0                  0                  0   \n",
              "2371                  0                  0                  0   \n",
              "1428                  0                  0                  0   \n",
              "2265                  0                  0                  0   \n",
              "1579                  0                  0                  0   \n",
              "\n",
              "      statezip_WA 98019  statezip_WA 98052  statezip_WA 98014  \\\n",
              "423                   0                  0                  0   \n",
              "2371                  0                  0                  0   \n",
              "1428                  0                  0                  0   \n",
              "2265                  0                  0                  0   \n",
              "1579                  0                  0                  0   \n",
              "\n",
              "      statezip_WA 98007  statezip_WA 98070  statezip_WA 98057  \\\n",
              "423                   0                  0                  0   \n",
              "2371                  0                  0                  0   \n",
              "1428                  0                  0                  0   \n",
              "2265                  0                  0                  0   \n",
              "1579                  0                  0                  0   \n",
              "\n",
              "      statezip_WA 98074  statezip_WA 98112  statezip_WA 98055  \\\n",
              "423                   0                  0                  0   \n",
              "2371                  0                  0                  0   \n",
              "1428                  0                  0                  0   \n",
              "2265                  0                  0                  0   \n",
              "1579                  0                  0                  0   \n",
              "\n",
              "      statezip_WA 98116  statezip_WA 98051  statezip_WA 98024  \\\n",
              "423                   0                  0                  0   \n",
              "2371                  0                  0                  0   \n",
              "1428                  0                  0                  0   \n",
              "2265                  0                  0                  0   \n",
              "1579                  0                  0                  0   \n",
              "\n",
              "      statezip_WA 98005  statezip_WA 98075  statezip_WA 98010  \\\n",
              "423                   0                  0                  0   \n",
              "2371                  0                  0                  0   \n",
              "1428                  0                  0                  0   \n",
              "2265                  0                  0                  0   \n",
              "1579                  0                  0                  0   \n",
              "\n",
              "      statezip_WA 98109  statezip_WA 98188  statezip_WA 98047  \\\n",
              "423                   0                  0                  0   \n",
              "2371                  0                  0                  0   \n",
              "1428                  0                  0                  0   \n",
              "2265                  0                  0                  0   \n",
              "1579                  0                  0                  0   \n",
              "\n",
              "      statezip_WA 98288  statezip_WA 98050  \n",
              "423                   0                  0  \n",
              "2371                  0                  0  \n",
              "1428                  0                  0  \n",
              "2265                  0                  0  \n",
              "1579                  0                  0  "
            ]
          },
          "metadata": {
            "tags": []
          },
          "execution_count": 144
        }
      ]
    },
    {
      "cell_type": "markdown",
      "metadata": {
        "id": "3jlZypQ6qaJq",
        "colab_type": "text"
      },
      "source": [
        "# **6. Use KNN regression as your model. Try at different  variations of KNN model available in sk-learn (ball_tree, kdd_tree, brute search).**"
      ]
    },
    {
      "cell_type": "markdown",
      "metadata": {
        "id": "0pm25bA76pfY",
        "colab_type": "text"
      },
      "source": [
        "### **KNeighborsRegressor**"
      ]
    },
    {
      "cell_type": "code",
      "metadata": {
        "id": "JlXl87TOJd2P",
        "colab_type": "code",
        "colab": {
          "base_uri": "https://localhost:8080/",
          "height": 238
        },
        "outputId": "bd7beccd-7dbd-499e-a304-250255b80889"
      },
      "source": [
        "scaler = StandardScaler().fit(X_train_enc)\n",
        "scaler.transform(X_train_enc)\n",
        "scaler = StandardScaler().fit(X_test_enc)\n",
        "scaler.transform(X_test_enc)"
      ],
      "execution_count": 145,
      "outputs": [
        {
          "output_type": "execute_result",
          "data": {
            "text/plain": [
              "array([[-0.33591551,  0.68787844, -0.36521755, ..., -0.04415108,\n",
              "         0.        ,  0.        ],\n",
              "       [-0.33591551,  1.07899517, -0.55231046, ..., -0.04415108,\n",
              "         0.        ,  0.        ],\n",
              "       [-1.86388517,  0.68787844,  0.29680349, ..., -0.04415108,\n",
              "         0.        ,  0.        ],\n",
              "       ...,\n",
              "       [ 1.19205415,  0.29676172,  0.31119525, ..., -0.04415108,\n",
              "         0.        ,  0.        ],\n",
              "       [ 1.19205415,  0.68787844,  1.86550552, ..., -0.04415108,\n",
              "         0.        ,  0.        ],\n",
              "       [ 1.19205415, -0.09435501,  0.84369043, ..., -0.04415108,\n",
              "         0.        ,  0.        ]])"
            ]
          },
          "metadata": {
            "tags": []
          },
          "execution_count": 145
        }
      ]
    },
    {
      "cell_type": "code",
      "metadata": {
        "id": "fEO_FGUM1vFy",
        "colab_type": "code",
        "colab": {
          "base_uri": "https://localhost:8080/",
          "height": 68
        },
        "outputId": "e9952d2e-4e0b-40d2-f038-31485c98337f"
      },
      "source": [
        "# building a basic KNNRegressor with N=9\n",
        "model = KNeighborsRegressor(n_neighbors=10)\n",
        "model.fit(X_train_enc,y_train)"
      ],
      "execution_count": 146,
      "outputs": [
        {
          "output_type": "execute_result",
          "data": {
            "text/plain": [
              "KNeighborsRegressor(algorithm='auto', leaf_size=30, metric='minkowski',\n",
              "                    metric_params=None, n_jobs=None, n_neighbors=10, p=2,\n",
              "                    weights='uniform')"
            ]
          },
          "metadata": {
            "tags": []
          },
          "execution_count": 146
        }
      ]
    },
    {
      "cell_type": "code",
      "metadata": {
        "id": "FQZj8ySeI0eC",
        "colab_type": "code",
        "colab": {
          "base_uri": "https://localhost:8080/",
          "height": 68
        },
        "outputId": "54793d96-0349-48bd-eed4-81d05c8a59ee"
      },
      "source": [
        "from sklearn.model_selection import cross_val_score\n",
        "neighbors = np.arange(1, 15, 2)\n",
        "cross_val_scores = []\n",
        "\n",
        "for i in neighbors:\n",
        "    knn = KNeighborsRegressor(n_neighbors=i)\n",
        "    scores = cross_val_score(knn, X_train_enc, y_train, cv=15)\n",
        "    cross_val_scores.append(np.mean(scores))\n",
        "    \n",
        "print(f\"best cross-validation score: {np.max(cross_val_scores):.3}\")\n",
        "best_n_neighbors = neighbors[np.argmax(cross_val_scores)]\n",
        "print(f\"best n_neighbors: {best_n_neighbors}\")\n",
        "\n",
        "knn = KNeighborsRegressor(n_neighbors=best_n_neighbors)\n",
        "knn.fit(X_train_enc, y_train)\n",
        "print(f\"test-set score: {knn.score(X_test_enc, y_test):.3f}\")"
      ],
      "execution_count": 147,
      "outputs": [
        {
          "output_type": "stream",
          "text": [
            "best cross-validation score: 0.368\n",
            "best n_neighbors: 13\n",
            "test-set score: 0.349\n"
          ],
          "name": "stdout"
        }
      ]
    },
    {
      "cell_type": "code",
      "metadata": {
        "id": "VmgdyHeA2g7S",
        "colab_type": "code",
        "colab": {
          "base_uri": "https://localhost:8080/",
          "height": 51
        },
        "outputId": "cc0180c3-9260-4df7-d974-31279f3b69eb"
      },
      "source": [
        "print(\"Train set score: {:.2f}\".format(model.score(X_train_enc, y_train)))\n",
        "print(\"Train set score: {:.2f}\".format(model.score(X_test_enc, y_test)))"
      ],
      "execution_count": 148,
      "outputs": [
        {
          "output_type": "stream",
          "text": [
            "Train set score: 0.48\n",
            "Train set score: 0.35\n"
          ],
          "name": "stdout"
        }
      ]
    },
    {
      "cell_type": "markdown",
      "metadata": {
        "id": "gXBTocZS7CZM",
        "colab_type": "text"
      },
      "source": [
        "### **Ball_Tree**"
      ]
    },
    {
      "cell_type": "code",
      "metadata": {
        "id": "EkqjsWf28GxB",
        "colab_type": "code",
        "colab": {}
      },
      "source": [
        "# building a basic KNNRegressor with N=9\n",
        "model = KDTree(X_train_enc, leaf_size=30)\n"
      ],
      "execution_count": 149,
      "outputs": []
    },
    {
      "cell_type": "markdown",
      "metadata": {
        "id": "OJ9RnUtz45C7",
        "colab_type": "text"
      },
      "source": [
        "# **7, 8. Now create a single pipeline where the last step is KNN regression. Creating a pipeline using GridSearchCV**"
      ]
    },
    {
      "cell_type": "code",
      "metadata": {
        "id": "M3F-sQKS0yst",
        "colab_type": "code",
        "colab": {}
      },
      "source": [
        "# code snippet reference from course work\n",
        "house_pipeline = Pipeline([\n",
        "\n",
        "    # categorical encoding \n",
        "    ('encoder_rare_label',\n",
        "     RareLabelCategoricalEncoder(tol=0.01, # minimum frequency to be considred frequent\n",
        "                                    n_categories=4, # min the minimum number of categories a variable should have for the encoder    \n",
        "                                    variables=['city','statezip'])),\n",
        "    ('categorical_encoder',\n",
        "     OneHotCategoricalEncoder( top_categories=None,\n",
        "                               variables=['city','statezip'], # we can select which variables to encode\n",
        "                               drop_last=True)),\n",
        "    ('scaler', StandardScaler()),\n",
        "    # Logistic Regression\n",
        "    ('knn', KNeighborsRegressor())\n",
        "])"
      ],
      "execution_count": 150,
      "outputs": []
    },
    {
      "cell_type": "code",
      "metadata": {
        "id": "1KfmPIfK1DLt",
        "colab_type": "code",
        "colab": {}
      },
      "source": [
        "# code snippet reference from course work\n",
        "param_grid = {\n",
        "    'encoder_rare_label__tol': [0.01,0.1, 0.2],\n",
        "    'categorical_encoder__top_categories': [None,2,3],\n",
        "    #scaler\n",
        "    'scaler': [StandardScaler(), MinMaxScaler(),PolynomialFeatures(), Ridge(), 'passthrough'],\n",
        "    #'knn__n_neighbors':[4,5,6,7,8,9,10,11]\n",
        "    'knn__n_neighbors': np.arange(1, 15, 2)\n",
        "\n",
        "}\n"
      ],
      "execution_count": 152,
      "outputs": []
    },
    {
      "cell_type": "code",
      "metadata": {
        "id": "0UqhcS_Oruc5",
        "colab_type": "code",
        "colab": {}
      },
      "source": [
        "grid_search = GridSearchCV(house_pipeline, param_grid,\n",
        "                           cv=5, iid=False, n_jobs=-1)"
      ],
      "execution_count": 159,
      "outputs": []
    },
    {
      "cell_type": "code",
      "metadata": {
        "id": "BbmPeOsypYnk",
        "colab_type": "code",
        "colab": {
          "base_uri": "https://localhost:8080/",
          "height": 561
        },
        "outputId": "262abd67-1c72-46f9-be38-16190189c44e"
      },
      "source": [
        "grid_search.fit(X_train, y_train)"
      ],
      "execution_count": 160,
      "outputs": [
        {
          "output_type": "stream",
          "text": [
            "/usr/local/lib/python3.6/dist-packages/sklearn/model_selection/_search.py:823: FutureWarning: The parameter 'iid' is deprecated in 0.22 and will be removed in 0.24.\n",
            "  \"removed in 0.24.\", FutureWarning\n"
          ],
          "name": "stderr"
        },
        {
          "output_type": "execute_result",
          "data": {
            "text/plain": [
              "GridSearchCV(cv=5, error_score=nan,\n",
              "             estimator=Pipeline(memory=None,\n",
              "                                steps=[('encoder_rare_label',\n",
              "                                        RareLabelCategoricalEncoder(max_n_categories=None,\n",
              "                                                                    n_categories=4,\n",
              "                                                                    replace_with='Rare',\n",
              "                                                                    tol=0.01,\n",
              "                                                                    variables=['city',\n",
              "                                                                               'statezip'])),\n",
              "                                       ('categorical_encoder',\n",
              "                                        OneHotCategoricalEncoder(drop_last=True,\n",
              "                                                                 top_categories=None,\n",
              "                                                                 variables=['city',\n",
              "                                                                            'statezip'])),\n",
              "                                       ('scaler',\n",
              "                                        Stand...\n",
              "                                                   with_std=True),\n",
              "                                    MinMaxScaler(copy=True,\n",
              "                                                 feature_range=(0, 1)),\n",
              "                                    PolynomialFeatures(degree=2,\n",
              "                                                       include_bias=True,\n",
              "                                                       interaction_only=False,\n",
              "                                                       order='C'),\n",
              "                                    Ridge(alpha=1.0, copy_X=True,\n",
              "                                          fit_intercept=True, max_iter=None,\n",
              "                                          normalize=False, random_state=None,\n",
              "                                          solver='auto', tol=0.001),\n",
              "                                    'passthrough']},\n",
              "             pre_dispatch='2*n_jobs', refit=True, return_train_score=False,\n",
              "             scoring=None, verbose=0)"
            ]
          },
          "metadata": {
            "tags": []
          },
          "execution_count": 160
        }
      ]
    },
    {
      "cell_type": "code",
      "metadata": {
        "id": "RBsp-SXIr2jZ",
        "colab_type": "code",
        "colab": {
          "base_uri": "https://localhost:8080/",
          "height": 85
        },
        "outputId": "77f09d83-1df4-49fe-c7be-aac237254fb9"
      },
      "source": [
        "grid_search.best_params_"
      ],
      "execution_count": 161,
      "outputs": [
        {
          "output_type": "execute_result",
          "data": {
            "text/plain": [
              "{'categorical_encoder__top_categories': None,\n",
              " 'encoder_rare_label__tol': 0.01,\n",
              " 'knn__n_neighbors': 5,\n",
              " 'scaler': StandardScaler(copy=True, with_mean=True, with_std=True)}"
            ]
          },
          "metadata": {
            "tags": []
          },
          "execution_count": 161
        }
      ]
    },
    {
      "cell_type": "code",
      "metadata": {
        "id": "lahufs1isCM8",
        "colab_type": "code",
        "colab": {
          "base_uri": "https://localhost:8080/",
          "height": 34
        },
        "outputId": "695e2caa-26dd-4990-dcee-dcdf1ed639da"
      },
      "source": [
        "print(\"Validation score: {:.2f}\".format(grid_search.score(X_train, y_train)))"
      ],
      "execution_count": 162,
      "outputs": [
        {
          "output_type": "stream",
          "text": [
            "Validation score: 0.78\n"
          ],
          "name": "stdout"
        }
      ]
    },
    {
      "cell_type": "code",
      "metadata": {
        "id": "wv4wcbvpsE45",
        "colab_type": "code",
        "colab": {
          "base_uri": "https://localhost:8080/",
          "height": 34
        },
        "outputId": "907a999f-38a1-42bb-c476-b5d876d5354c"
      },
      "source": [
        "print(\"Test score: {:.2f}\".format(grid_search.score(X_test, y_test)))"
      ],
      "execution_count": 163,
      "outputs": [
        {
          "output_type": "stream",
          "text": [
            "Test score: 0.65\n"
          ],
          "name": "stdout"
        }
      ]
    },
    {
      "cell_type": "markdown",
      "metadata": {
        "id": "dQ1QyxMIhMuj",
        "colab_type": "text"
      },
      "source": [
        "# **9. Changing Parameters and hyperparameters**"
      ]
    },
    {
      "cell_type": "markdown",
      "metadata": {
        "id": "9IQIyAuxhbZY",
        "colab_type": "text"
      },
      "source": [
        "There seems to be no significant difference when the random seed is shuffled, but there is change in Validaiton score and Test Score\n",
        "\n",
        "***cv=13, N=np.arange(8, 15, 2) - For first 3 tuning parameters***\n",
        "1. **test_size=0.2, random_seed = 15, Validation score: 0.71, Test score: 0.64**\n",
        "\n",
        "  **Best Parameters**\n",
        "```\n",
        "{'categorical_encoder__top_categories': None,\n",
        " 'encoder_rare_label__tol': 0.01,\n",
        " 'knn__n_neighbors': 8,\n",
        " 'scaler': StandardScaler(copy=True, with_mean=True, with_std=True)}\n",
        "```\n",
        "\n",
        "\n",
        "2. **test_size=0.2, random_seed = 42, Validation score: 0.73, Test score: 0.64**\n",
        "\n",
        "  **Best Parameters**\n",
        "```\n",
        "{'categorical_encoder__top_categories': None,\n",
        " 'encoder_rare_label__tol': 0.01,\n",
        " 'knn__n_neighbors': 8,\n",
        " 'scaler': StandardScaler(copy=True, with_mean=True, with_std=True)}\n",
        "```\n",
        "\n",
        "3. **test_size=0.3, random_seed = 0, Validation score: 0.73, Test score: 0.64**\n",
        "\n",
        "  **Best Parameters**\n",
        "```\n",
        "{'categorical_encoder__top_categories': None,\n",
        " 'encoder_rare_label__tol': 0.01,\n",
        " 'knn__n_neighbors': 8,\n",
        " 'scaler': StandardScaler(copy=True, with_mean=True, with_std=True)}\n",
        "```\n",
        "***cv=10, N=np.arange(1, 15, 2)***\n",
        "\n",
        "4. **test_size=0.2, random_seed = 42, Validation score: 0.78, Test score: 0.65**\n",
        "\n",
        "  **Best Parameters**\n",
        "```\n",
        "{'categorical_encoder__top_categories': None,\n",
        " 'encoder_rare_label__tol': 0.01,\n",
        " 'knn__n_neighbors': 5,\n",
        " 'scaler': StandardScaler(copy=True, with_mean=True, with_std=True)}\n",
        "```\n",
        "\n",
        "\n",
        "\n",
        "\n"
      ]
    },
    {
      "cell_type": "markdown",
      "metadata": {
        "id": "WfR5m003g9bW",
        "colab_type": "text"
      },
      "source": [
        "# **10. Generating submission**"
      ]
    },
    {
      "cell_type": "code",
      "metadata": {
        "id": "wID5AsHEd5QS",
        "colab_type": "code",
        "colab": {
          "base_uri": "https://localhost:8080/",
          "height": 289
        },
        "outputId": "89346ad3-a152-4a9c-edf6-963cbdbd5f56"
      },
      "source": [
        "make_prediction.head()"
      ],
      "execution_count": 93,
      "outputs": [
        {
          "output_type": "execute_result",
          "data": {
            "text/html": [
              "<div>\n",
              "<style scoped>\n",
              "    .dataframe tbody tr th:only-of-type {\n",
              "        vertical-align: middle;\n",
              "    }\n",
              "\n",
              "    .dataframe tbody tr th {\n",
              "        vertical-align: top;\n",
              "    }\n",
              "\n",
              "    .dataframe thead th {\n",
              "        text-align: right;\n",
              "    }\n",
              "</style>\n",
              "<table border=\"1\" class=\"dataframe\">\n",
              "  <thead>\n",
              "    <tr style=\"text-align: right;\">\n",
              "      <th></th>\n",
              "      <th>Id</th>\n",
              "      <th>bedrooms</th>\n",
              "      <th>bathrooms</th>\n",
              "      <th>sqft_living</th>\n",
              "      <th>sqft_lot</th>\n",
              "      <th>floors</th>\n",
              "      <th>waterfront</th>\n",
              "      <th>view</th>\n",
              "      <th>condition</th>\n",
              "      <th>sqft_above</th>\n",
              "      <th>sqft_basement</th>\n",
              "      <th>yr_built</th>\n",
              "      <th>yr_renovated</th>\n",
              "      <th>street</th>\n",
              "      <th>city</th>\n",
              "      <th>statezip</th>\n",
              "      <th>country</th>\n",
              "    </tr>\n",
              "  </thead>\n",
              "  <tbody>\n",
              "    <tr>\n",
              "      <th>0</th>\n",
              "      <td>3000</td>\n",
              "      <td>2</td>\n",
              "      <td>1.00</td>\n",
              "      <td>1210</td>\n",
              "      <td>9400</td>\n",
              "      <td>1.0</td>\n",
              "      <td>0</td>\n",
              "      <td>0</td>\n",
              "      <td>2</td>\n",
              "      <td>1210</td>\n",
              "      <td>0</td>\n",
              "      <td>1949</td>\n",
              "      <td>0</td>\n",
              "      <td>7542 21st Ave SW</td>\n",
              "      <td>Seattle</td>\n",
              "      <td>WA 98106</td>\n",
              "      <td>USA</td>\n",
              "    </tr>\n",
              "    <tr>\n",
              "      <th>1</th>\n",
              "      <td>3001</td>\n",
              "      <td>3</td>\n",
              "      <td>1.75</td>\n",
              "      <td>1620</td>\n",
              "      <td>3975</td>\n",
              "      <td>1.0</td>\n",
              "      <td>0</td>\n",
              "      <td>0</td>\n",
              "      <td>5</td>\n",
              "      <td>940</td>\n",
              "      <td>680</td>\n",
              "      <td>1926</td>\n",
              "      <td>0</td>\n",
              "      <td>6729 Dibble Ave NW</td>\n",
              "      <td>Seattle</td>\n",
              "      <td>WA 98117</td>\n",
              "      <td>USA</td>\n",
              "    </tr>\n",
              "    <tr>\n",
              "      <th>2</th>\n",
              "      <td>3002</td>\n",
              "      <td>3</td>\n",
              "      <td>1.00</td>\n",
              "      <td>1520</td>\n",
              "      <td>213444</td>\n",
              "      <td>1.5</td>\n",
              "      <td>0</td>\n",
              "      <td>3</td>\n",
              "      <td>5</td>\n",
              "      <td>1520</td>\n",
              "      <td>0</td>\n",
              "      <td>1988</td>\n",
              "      <td>0</td>\n",
              "      <td>10500 185th Ave SE</td>\n",
              "      <td>Renton</td>\n",
              "      <td>WA 98059</td>\n",
              "      <td>USA</td>\n",
              "    </tr>\n",
              "    <tr>\n",
              "      <th>3</th>\n",
              "      <td>3003</td>\n",
              "      <td>4</td>\n",
              "      <td>2.50</td>\n",
              "      <td>2910</td>\n",
              "      <td>5776</td>\n",
              "      <td>2.0</td>\n",
              "      <td>0</td>\n",
              "      <td>2</td>\n",
              "      <td>3</td>\n",
              "      <td>2910</td>\n",
              "      <td>0</td>\n",
              "      <td>1998</td>\n",
              "      <td>2006</td>\n",
              "      <td>6907 Fairway Ave SE</td>\n",
              "      <td>Snoqualmie</td>\n",
              "      <td>WA 98065</td>\n",
              "      <td>USA</td>\n",
              "    </tr>\n",
              "    <tr>\n",
              "      <th>4</th>\n",
              "      <td>3004</td>\n",
              "      <td>4</td>\n",
              "      <td>2.50</td>\n",
              "      <td>2683</td>\n",
              "      <td>40386</td>\n",
              "      <td>2.0</td>\n",
              "      <td>0</td>\n",
              "      <td>0</td>\n",
              "      <td>4</td>\n",
              "      <td>2683</td>\n",
              "      <td>0</td>\n",
              "      <td>1987</td>\n",
              "      <td>0</td>\n",
              "      <td>10821 151st Ave NE</td>\n",
              "      <td>Redmond</td>\n",
              "      <td>WA 98052</td>\n",
              "      <td>USA</td>\n",
              "    </tr>\n",
              "  </tbody>\n",
              "</table>\n",
              "</div>"
            ],
            "text/plain": [
              "     Id  bedrooms  bathrooms  sqft_living  sqft_lot  floors  waterfront  view  \\\n",
              "0  3000         2       1.00         1210      9400     1.0           0     0   \n",
              "1  3001         3       1.75         1620      3975     1.0           0     0   \n",
              "2  3002         3       1.00         1520    213444     1.5           0     3   \n",
              "3  3003         4       2.50         2910      5776     2.0           0     2   \n",
              "4  3004         4       2.50         2683     40386     2.0           0     0   \n",
              "\n",
              "   condition  sqft_above  sqft_basement  yr_built  yr_renovated  \\\n",
              "0          2        1210              0      1949             0   \n",
              "1          5         940            680      1926             0   \n",
              "2          5        1520              0      1988             0   \n",
              "3          3        2910              0      1998          2006   \n",
              "4          4        2683              0      1987             0   \n",
              "\n",
              "                street        city  statezip country  \n",
              "0     7542 21st Ave SW     Seattle  WA 98106     USA  \n",
              "1   6729 Dibble Ave NW     Seattle  WA 98117     USA  \n",
              "2   10500 185th Ave SE      Renton  WA 98059     USA  \n",
              "3  6907 Fairway Ave SE  Snoqualmie  WA 98065     USA  \n",
              "4   10821 151st Ave NE     Redmond  WA 98052     USA  "
            ]
          },
          "metadata": {
            "tags": []
          },
          "execution_count": 93
        }
      ]
    },
    {
      "cell_type": "code",
      "metadata": {
        "id": "-h06pbdkeZiU",
        "colab_type": "code",
        "colab": {
          "base_uri": "https://localhost:8080/",
          "height": 85
        },
        "outputId": "16670437-43b1-49b0-adf2-252784ae1bb5"
      },
      "source": [
        "X_train.columns"
      ],
      "execution_count": 164,
      "outputs": [
        {
          "output_type": "execute_result",
          "data": {
            "text/plain": [
              "Index(['bedrooms', 'bathrooms', 'sqft_living', 'sqft_lot', 'floors',\n",
              "       'waterfront', 'view', 'condition', 'sqft_above', 'sqft_basement',\n",
              "       'yr_built', 'yr_renovated', 'city', 'statezip'],\n",
              "      dtype='object')"
            ]
          },
          "metadata": {
            "tags": []
          },
          "execution_count": 164
        }
      ]
    },
    {
      "cell_type": "code",
      "metadata": {
        "id": "61tnIZ7leb4w",
        "colab_type": "code",
        "colab": {
          "base_uri": "https://localhost:8080/",
          "height": 85
        },
        "outputId": "33606ca2-9bdc-49ea-cf06-74fa3a358197"
      },
      "source": [
        "make_prediction.columns"
      ],
      "execution_count": 165,
      "outputs": [
        {
          "output_type": "execute_result",
          "data": {
            "text/plain": [
              "Index(['Id', 'bedrooms', 'bathrooms', 'sqft_living', 'sqft_lot', 'floors',\n",
              "       'waterfront', 'view', 'condition', 'sqft_above', 'sqft_basement',\n",
              "       'yr_built', 'yr_renovated', 'street', 'city', 'statezip', 'country'],\n",
              "      dtype='object')"
            ]
          },
          "metadata": {
            "tags": []
          },
          "execution_count": 165
        }
      ]
    },
    {
      "cell_type": "code",
      "metadata": {
        "id": "W_jZdSmFKNfd",
        "colab_type": "code",
        "colab": {}
      },
      "source": [
        "X_make_prediction = make_prediction.drop(['Id','street','country'], axis=1)"
      ],
      "execution_count": 166,
      "outputs": []
    },
    {
      "cell_type": "code",
      "metadata": {
        "id": "LP5Cf-DNe8LD",
        "colab_type": "code",
        "colab": {
          "base_uri": "https://localhost:8080/",
          "height": 85
        },
        "outputId": "957d222d-f788-41ca-9417-f986511b542a"
      },
      "source": [
        "X_make_prediction.columns"
      ],
      "execution_count": 167,
      "outputs": [
        {
          "output_type": "execute_result",
          "data": {
            "text/plain": [
              "Index(['bedrooms', 'bathrooms', 'sqft_living', 'sqft_lot', 'floors',\n",
              "       'waterfront', 'view', 'condition', 'sqft_above', 'sqft_basement',\n",
              "       'yr_built', 'yr_renovated', 'city', 'statezip'],\n",
              "      dtype='object')"
            ]
          },
          "metadata": {
            "tags": []
          },
          "execution_count": 167
        }
      ]
    },
    {
      "cell_type": "code",
      "metadata": {
        "id": "M8CvsLrrKrgL",
        "colab_type": "code",
        "colab": {
          "base_uri": "https://localhost:8080/",
          "height": 34
        },
        "outputId": "76beb086-6f23-49d5-8758-bab2159b320c"
      },
      "source": [
        "make_prediction_labels = grid_search.predict(X_make_prediction)\n",
        "make_prediction_labels.shape"
      ],
      "execution_count": 168,
      "outputs": [
        {
          "output_type": "execute_result",
          "data": {
            "text/plain": [
              "(1552,)"
            ]
          },
          "metadata": {
            "tags": []
          },
          "execution_count": 168
        }
      ]
    },
    {
      "cell_type": "code",
      "metadata": {
        "id": "JaLudpo8gGoV",
        "colab_type": "code",
        "colab": {}
      },
      "source": [
        "pd.DataFrame({'Id': make_prediction.Id, 'price': make_prediction_labels}).to_csv('RXD190017_solutions.csv', index =False)  "
      ],
      "execution_count": 171,
      "outputs": []
    },
    {
      "cell_type": "code",
      "metadata": {
        "id": "M-a1M59ugSUp",
        "colab_type": "code",
        "colab": {}
      },
      "source": [
        ""
      ],
      "execution_count": null,
      "outputs": []
    }
  ]
}