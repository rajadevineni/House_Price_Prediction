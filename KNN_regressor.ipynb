{
  "nbformat": 4,
  "nbformat_minor": 0,
  "metadata": {
    "colab": {
      "name": "Untitled",
      "provenance": [],
      "collapsed_sections": [],
      "authorship_tag": "ABX9TyMiqCyXUZHz/DSaboZ3anKl",
      "include_colab_link": true
    },
    "kernelspec": {
      "name": "python3",
      "display_name": "Python 3"
    }
  },
  "cells": [
    {
      "cell_type": "markdown",
      "metadata": {
        "id": "view-in-github",
        "colab_type": "text"
      },
      "source": [
        "<a href=\"https://colab.research.google.com/github/rajadevineni/House_Price_Prediction/blob/master/KNN_regressor.ipynb\" target=\"_parent\"><img src=\"https://colab.research.google.com/assets/colab-badge.svg\" alt=\"Open In Colab\"/></a>"
      ]
    },
    {
      "cell_type": "code",
      "metadata": {
        "id": "ijwwyPSyOWpG",
        "colab_type": "code",
        "colab": {}
      },
      "source": [
        "import pandas as pd\n",
        "import matplotlib.pyplot as plt"
      ],
      "execution_count": 1,
      "outputs": []
    },
    {
      "cell_type": "markdown",
      "metadata": {
        "id": "cEJQcVIt8UZo",
        "colab_type": "text"
      },
      "source": [
        "# **Loading the Data**"
      ]
    },
    {
      "cell_type": "code",
      "metadata": {
        "id": "O-daqlwZPQro",
        "colab_type": "code",
        "colab": {}
      },
      "source": [
        "data =  pd.read_csv(\"data.csv\")\n",
        "make_prediction= pd.read_csv(\"make_prediction.csv\")"
      ],
      "execution_count": 2,
      "outputs": []
    },
    {
      "cell_type": "code",
      "metadata": {
        "id": "Yk33SBWkQdGW",
        "colab_type": "code",
        "colab": {
          "base_uri": "https://localhost:8080/",
          "height": 51
        },
        "outputId": "f0fd3e54-82f9-411d-eb4f-35249189a904"
      },
      "source": [
        "print(data.shape)\n",
        "print(make_prediction.shape)"
      ],
      "execution_count": 3,
      "outputs": [
        {
          "output_type": "stream",
          "text": [
            "(3000, 18)\n",
            "(1552, 17)\n"
          ],
          "name": "stdout"
        }
      ]
    },
    {
      "cell_type": "code",
      "metadata": {
        "id": "EAI1--aAQ6xR",
        "colab_type": "code",
        "colab": {
          "base_uri": "https://localhost:8080/",
          "height": 1000
        },
        "outputId": "4ff95f42-902b-4344-c6ad-1ab617ebed3a"
      },
      "source": [
        "pd.set_option('display.max_columns', 999)\n",
        "data.head(20)"
      ],
      "execution_count": 37,
      "outputs": [
        {
          "output_type": "execute_result",
          "data": {
            "text/html": [
              "<div>\n",
              "<style scoped>\n",
              "    .dataframe tbody tr th:only-of-type {\n",
              "        vertical-align: middle;\n",
              "    }\n",
              "\n",
              "    .dataframe tbody tr th {\n",
              "        vertical-align: top;\n",
              "    }\n",
              "\n",
              "    .dataframe thead th {\n",
              "        text-align: right;\n",
              "    }\n",
              "</style>\n",
              "<table border=\"1\" class=\"dataframe\">\n",
              "  <thead>\n",
              "    <tr style=\"text-align: right;\">\n",
              "      <th></th>\n",
              "      <th>Id</th>\n",
              "      <th>price</th>\n",
              "      <th>bedrooms</th>\n",
              "      <th>bathrooms</th>\n",
              "      <th>sqft_living</th>\n",
              "      <th>sqft_lot</th>\n",
              "      <th>floors</th>\n",
              "      <th>waterfront</th>\n",
              "      <th>view</th>\n",
              "      <th>condition</th>\n",
              "      <th>sqft_above</th>\n",
              "      <th>sqft_basement</th>\n",
              "      <th>yr_built</th>\n",
              "      <th>yr_renovated</th>\n",
              "      <th>street</th>\n",
              "      <th>city</th>\n",
              "      <th>statezip</th>\n",
              "      <th>country</th>\n",
              "    </tr>\n",
              "  </thead>\n",
              "  <tbody>\n",
              "    <tr>\n",
              "      <th>0</th>\n",
              "      <td>1</td>\n",
              "      <td>591000.0</td>\n",
              "      <td>3</td>\n",
              "      <td>1.75</td>\n",
              "      <td>1680</td>\n",
              "      <td>2400</td>\n",
              "      <td>1.0</td>\n",
              "      <td>0</td>\n",
              "      <td>0</td>\n",
              "      <td>5</td>\n",
              "      <td>870</td>\n",
              "      <td>810</td>\n",
              "      <td>1922</td>\n",
              "      <td>1956</td>\n",
              "      <td>1600-1608 25th Ave</td>\n",
              "      <td>Seattle</td>\n",
              "      <td>WA 98122</td>\n",
              "      <td>USA</td>\n",
              "    </tr>\n",
              "    <tr>\n",
              "      <th>1</th>\n",
              "      <td>2</td>\n",
              "      <td>415000.0</td>\n",
              "      <td>4</td>\n",
              "      <td>2.25</td>\n",
              "      <td>3060</td>\n",
              "      <td>48787</td>\n",
              "      <td>2.0</td>\n",
              "      <td>0</td>\n",
              "      <td>0</td>\n",
              "      <td>3</td>\n",
              "      <td>3060</td>\n",
              "      <td>0</td>\n",
              "      <td>1992</td>\n",
              "      <td>0</td>\n",
              "      <td>31701-31799 SE 291st St</td>\n",
              "      <td>Ravensdale</td>\n",
              "      <td>WA 98051</td>\n",
              "      <td>USA</td>\n",
              "    </tr>\n",
              "    <tr>\n",
              "      <th>2</th>\n",
              "      <td>3</td>\n",
              "      <td>402000.0</td>\n",
              "      <td>3</td>\n",
              "      <td>2.50</td>\n",
              "      <td>1960</td>\n",
              "      <td>8000</td>\n",
              "      <td>1.0</td>\n",
              "      <td>0</td>\n",
              "      <td>0</td>\n",
              "      <td>4</td>\n",
              "      <td>1290</td>\n",
              "      <td>670</td>\n",
              "      <td>1977</td>\n",
              "      <td>0</td>\n",
              "      <td>12207 NE 139th Pl</td>\n",
              "      <td>Kirkland</td>\n",
              "      <td>WA 98034</td>\n",
              "      <td>USA</td>\n",
              "    </tr>\n",
              "    <tr>\n",
              "      <th>3</th>\n",
              "      <td>4</td>\n",
              "      <td>542525.0</td>\n",
              "      <td>4</td>\n",
              "      <td>2.50</td>\n",
              "      <td>2650</td>\n",
              "      <td>5600</td>\n",
              "      <td>2.0</td>\n",
              "      <td>0</td>\n",
              "      <td>0</td>\n",
              "      <td>3</td>\n",
              "      <td>2650</td>\n",
              "      <td>0</td>\n",
              "      <td>2014</td>\n",
              "      <td>0</td>\n",
              "      <td>13516 164th Ave SE</td>\n",
              "      <td>Renton</td>\n",
              "      <td>WA 98059</td>\n",
              "      <td>USA</td>\n",
              "    </tr>\n",
              "    <tr>\n",
              "      <th>4</th>\n",
              "      <td>5</td>\n",
              "      <td>515000.0</td>\n",
              "      <td>3</td>\n",
              "      <td>2.50</td>\n",
              "      <td>2010</td>\n",
              "      <td>7200</td>\n",
              "      <td>2.0</td>\n",
              "      <td>0</td>\n",
              "      <td>0</td>\n",
              "      <td>3</td>\n",
              "      <td>2010</td>\n",
              "      <td>0</td>\n",
              "      <td>1994</td>\n",
              "      <td>0</td>\n",
              "      <td>8818 NE 150th St</td>\n",
              "      <td>Kenmore</td>\n",
              "      <td>WA 98028</td>\n",
              "      <td>USA</td>\n",
              "    </tr>\n",
              "    <tr>\n",
              "      <th>5</th>\n",
              "      <td>6</td>\n",
              "      <td>692000.0</td>\n",
              "      <td>4</td>\n",
              "      <td>3.25</td>\n",
              "      <td>5010</td>\n",
              "      <td>34460</td>\n",
              "      <td>2.0</td>\n",
              "      <td>0</td>\n",
              "      <td>0</td>\n",
              "      <td>3</td>\n",
              "      <td>5010</td>\n",
              "      <td>0</td>\n",
              "      <td>1988</td>\n",
              "      <td>2000</td>\n",
              "      <td>6265 160th Ave SE</td>\n",
              "      <td>Bellevue</td>\n",
              "      <td>WA 98006</td>\n",
              "      <td>USA</td>\n",
              "    </tr>\n",
              "    <tr>\n",
              "      <th>6</th>\n",
              "      <td>7</td>\n",
              "      <td>650000.0</td>\n",
              "      <td>3</td>\n",
              "      <td>1.75</td>\n",
              "      <td>2920</td>\n",
              "      <td>9370</td>\n",
              "      <td>1.0</td>\n",
              "      <td>0</td>\n",
              "      <td>0</td>\n",
              "      <td>4</td>\n",
              "      <td>1620</td>\n",
              "      <td>1300</td>\n",
              "      <td>1981</td>\n",
              "      <td>0</td>\n",
              "      <td>14245 SE 60th St</td>\n",
              "      <td>Bellevue</td>\n",
              "      <td>WA 98006</td>\n",
              "      <td>USA</td>\n",
              "    </tr>\n",
              "    <tr>\n",
              "      <th>7</th>\n",
              "      <td>8</td>\n",
              "      <td>295000.0</td>\n",
              "      <td>4</td>\n",
              "      <td>2.00</td>\n",
              "      <td>980</td>\n",
              "      <td>10640</td>\n",
              "      <td>1.0</td>\n",
              "      <td>0</td>\n",
              "      <td>0</td>\n",
              "      <td>5</td>\n",
              "      <td>980</td>\n",
              "      <td>0</td>\n",
              "      <td>1978</td>\n",
              "      <td>0</td>\n",
              "      <td>17026 426th Ave SE</td>\n",
              "      <td>North Bend</td>\n",
              "      <td>WA 98045</td>\n",
              "      <td>USA</td>\n",
              "    </tr>\n",
              "    <tr>\n",
              "      <th>8</th>\n",
              "      <td>9</td>\n",
              "      <td>784000.0</td>\n",
              "      <td>3</td>\n",
              "      <td>3.50</td>\n",
              "      <td>3950</td>\n",
              "      <td>111078</td>\n",
              "      <td>1.5</td>\n",
              "      <td>0</td>\n",
              "      <td>0</td>\n",
              "      <td>3</td>\n",
              "      <td>2460</td>\n",
              "      <td>1490</td>\n",
              "      <td>1989</td>\n",
              "      <td>0</td>\n",
              "      <td>19851 NE Redmond Rd</td>\n",
              "      <td>Redmond</td>\n",
              "      <td>WA 98053</td>\n",
              "      <td>USA</td>\n",
              "    </tr>\n",
              "    <tr>\n",
              "      <th>9</th>\n",
              "      <td>10</td>\n",
              "      <td>706000.0</td>\n",
              "      <td>3</td>\n",
              "      <td>2.75</td>\n",
              "      <td>1900</td>\n",
              "      <td>6400</td>\n",
              "      <td>1.0</td>\n",
              "      <td>0</td>\n",
              "      <td>0</td>\n",
              "      <td>5</td>\n",
              "      <td>1410</td>\n",
              "      <td>490</td>\n",
              "      <td>1942</td>\n",
              "      <td>0</td>\n",
              "      <td>4324 NE 56th St</td>\n",
              "      <td>Seattle</td>\n",
              "      <td>WA 98105</td>\n",
              "      <td>USA</td>\n",
              "    </tr>\n",
              "    <tr>\n",
              "      <th>10</th>\n",
              "      <td>11</td>\n",
              "      <td>346500.0</td>\n",
              "      <td>2</td>\n",
              "      <td>1.75</td>\n",
              "      <td>1610</td>\n",
              "      <td>6300</td>\n",
              "      <td>1.0</td>\n",
              "      <td>0</td>\n",
              "      <td>0</td>\n",
              "      <td>3</td>\n",
              "      <td>1010</td>\n",
              "      <td>600</td>\n",
              "      <td>1941</td>\n",
              "      <td>1994</td>\n",
              "      <td>5404 Columbia Dr S</td>\n",
              "      <td>Seattle</td>\n",
              "      <td>WA 98108</td>\n",
              "      <td>USA</td>\n",
              "    </tr>\n",
              "    <tr>\n",
              "      <th>11</th>\n",
              "      <td>12</td>\n",
              "      <td>566000.0</td>\n",
              "      <td>3</td>\n",
              "      <td>2.25</td>\n",
              "      <td>1660</td>\n",
              "      <td>10140</td>\n",
              "      <td>1.0</td>\n",
              "      <td>0</td>\n",
              "      <td>0</td>\n",
              "      <td>4</td>\n",
              "      <td>1370</td>\n",
              "      <td>290</td>\n",
              "      <td>1980</td>\n",
              "      <td>0</td>\n",
              "      <td>9828 159th Pl NE</td>\n",
              "      <td>Redmond</td>\n",
              "      <td>WA 98052</td>\n",
              "      <td>USA</td>\n",
              "    </tr>\n",
              "    <tr>\n",
              "      <th>12</th>\n",
              "      <td>13</td>\n",
              "      <td>1815000.0</td>\n",
              "      <td>5</td>\n",
              "      <td>3.00</td>\n",
              "      <td>3880</td>\n",
              "      <td>13000</td>\n",
              "      <td>2.0</td>\n",
              "      <td>0</td>\n",
              "      <td>0</td>\n",
              "      <td>3</td>\n",
              "      <td>3880</td>\n",
              "      <td>0</td>\n",
              "      <td>1972</td>\n",
              "      <td>2003</td>\n",
              "      <td>7845 SE 62nd St</td>\n",
              "      <td>Mercer Island</td>\n",
              "      <td>WA 98040</td>\n",
              "      <td>USA</td>\n",
              "    </tr>\n",
              "    <tr>\n",
              "      <th>13</th>\n",
              "      <td>14</td>\n",
              "      <td>515000.0</td>\n",
              "      <td>3</td>\n",
              "      <td>2.50</td>\n",
              "      <td>3370</td>\n",
              "      <td>19585</td>\n",
              "      <td>2.0</td>\n",
              "      <td>0</td>\n",
              "      <td>0</td>\n",
              "      <td>3</td>\n",
              "      <td>3200</td>\n",
              "      <td>170</td>\n",
              "      <td>1951</td>\n",
              "      <td>1994</td>\n",
              "      <td>15043 Densmore Ave N</td>\n",
              "      <td>Shoreline</td>\n",
              "      <td>WA 98133</td>\n",
              "      <td>USA</td>\n",
              "    </tr>\n",
              "    <tr>\n",
              "      <th>14</th>\n",
              "      <td>15</td>\n",
              "      <td>310000.0</td>\n",
              "      <td>3</td>\n",
              "      <td>2.50</td>\n",
              "      <td>2540</td>\n",
              "      <td>4775</td>\n",
              "      <td>2.0</td>\n",
              "      <td>0</td>\n",
              "      <td>0</td>\n",
              "      <td>3</td>\n",
              "      <td>2540</td>\n",
              "      <td>0</td>\n",
              "      <td>2006</td>\n",
              "      <td>0</td>\n",
              "      <td>21720 SE 299th Way</td>\n",
              "      <td>Kent</td>\n",
              "      <td>WA 98042</td>\n",
              "      <td>USA</td>\n",
              "    </tr>\n",
              "    <tr>\n",
              "      <th>15</th>\n",
              "      <td>16</td>\n",
              "      <td>221000.0</td>\n",
              "      <td>3</td>\n",
              "      <td>2.25</td>\n",
              "      <td>1640</td>\n",
              "      <td>7350</td>\n",
              "      <td>1.0</td>\n",
              "      <td>0</td>\n",
              "      <td>0</td>\n",
              "      <td>3</td>\n",
              "      <td>1140</td>\n",
              "      <td>500</td>\n",
              "      <td>1984</td>\n",
              "      <td>0</td>\n",
              "      <td>37724 26th Dr S</td>\n",
              "      <td>Federal Way</td>\n",
              "      <td>WA 98003</td>\n",
              "      <td>USA</td>\n",
              "    </tr>\n",
              "    <tr>\n",
              "      <th>16</th>\n",
              "      <td>17</td>\n",
              "      <td>152000.0</td>\n",
              "      <td>3</td>\n",
              "      <td>1.00</td>\n",
              "      <td>1090</td>\n",
              "      <td>3264</td>\n",
              "      <td>1.0</td>\n",
              "      <td>0</td>\n",
              "      <td>0</td>\n",
              "      <td>4</td>\n",
              "      <td>1090</td>\n",
              "      <td>0</td>\n",
              "      <td>1969</td>\n",
              "      <td>0</td>\n",
              "      <td>11845 SE 319th Pl</td>\n",
              "      <td>Auburn</td>\n",
              "      <td>WA 98092</td>\n",
              "      <td>USA</td>\n",
              "    </tr>\n",
              "    <tr>\n",
              "      <th>17</th>\n",
              "      <td>18</td>\n",
              "      <td>725000.0</td>\n",
              "      <td>6</td>\n",
              "      <td>1.75</td>\n",
              "      <td>2380</td>\n",
              "      <td>4080</td>\n",
              "      <td>2.0</td>\n",
              "      <td>0</td>\n",
              "      <td>0</td>\n",
              "      <td>3</td>\n",
              "      <td>2380</td>\n",
              "      <td>0</td>\n",
              "      <td>1917</td>\n",
              "      <td>2009</td>\n",
              "      <td>4554 Latona Ave NE</td>\n",
              "      <td>Seattle</td>\n",
              "      <td>WA 98105</td>\n",
              "      <td>USA</td>\n",
              "    </tr>\n",
              "    <tr>\n",
              "      <th>18</th>\n",
              "      <td>19</td>\n",
              "      <td>622500.0</td>\n",
              "      <td>4</td>\n",
              "      <td>2.50</td>\n",
              "      <td>2980</td>\n",
              "      <td>8107</td>\n",
              "      <td>2.0</td>\n",
              "      <td>0</td>\n",
              "      <td>0</td>\n",
              "      <td>3</td>\n",
              "      <td>2980</td>\n",
              "      <td>0</td>\n",
              "      <td>2000</td>\n",
              "      <td>0</td>\n",
              "      <td>34823 Rhododendron Dr SE</td>\n",
              "      <td>Snoqualmie</td>\n",
              "      <td>WA 98065</td>\n",
              "      <td>USA</td>\n",
              "    </tr>\n",
              "    <tr>\n",
              "      <th>19</th>\n",
              "      <td>20</td>\n",
              "      <td>360000.0</td>\n",
              "      <td>4</td>\n",
              "      <td>2.50</td>\n",
              "      <td>2380</td>\n",
              "      <td>5000</td>\n",
              "      <td>2.0</td>\n",
              "      <td>0</td>\n",
              "      <td>0</td>\n",
              "      <td>3</td>\n",
              "      <td>2380</td>\n",
              "      <td>0</td>\n",
              "      <td>2005</td>\n",
              "      <td>0</td>\n",
              "      <td>22840 SE 269th St</td>\n",
              "      <td>Maple Valley</td>\n",
              "      <td>WA 98038</td>\n",
              "      <td>USA</td>\n",
              "    </tr>\n",
              "  </tbody>\n",
              "</table>\n",
              "</div>"
            ],
            "text/plain": [
              "    Id      price  bedrooms  bathrooms  sqft_living  sqft_lot  floors  \\\n",
              "0    1   591000.0         3       1.75         1680      2400     1.0   \n",
              "1    2   415000.0         4       2.25         3060     48787     2.0   \n",
              "2    3   402000.0         3       2.50         1960      8000     1.0   \n",
              "3    4   542525.0         4       2.50         2650      5600     2.0   \n",
              "4    5   515000.0         3       2.50         2010      7200     2.0   \n",
              "5    6   692000.0         4       3.25         5010     34460     2.0   \n",
              "6    7   650000.0         3       1.75         2920      9370     1.0   \n",
              "7    8   295000.0         4       2.00          980     10640     1.0   \n",
              "8    9   784000.0         3       3.50         3950    111078     1.5   \n",
              "9   10   706000.0         3       2.75         1900      6400     1.0   \n",
              "10  11   346500.0         2       1.75         1610      6300     1.0   \n",
              "11  12   566000.0         3       2.25         1660     10140     1.0   \n",
              "12  13  1815000.0         5       3.00         3880     13000     2.0   \n",
              "13  14   515000.0         3       2.50         3370     19585     2.0   \n",
              "14  15   310000.0         3       2.50         2540      4775     2.0   \n",
              "15  16   221000.0         3       2.25         1640      7350     1.0   \n",
              "16  17   152000.0         3       1.00         1090      3264     1.0   \n",
              "17  18   725000.0         6       1.75         2380      4080     2.0   \n",
              "18  19   622500.0         4       2.50         2980      8107     2.0   \n",
              "19  20   360000.0         4       2.50         2380      5000     2.0   \n",
              "\n",
              "    waterfront  view  condition  sqft_above  sqft_basement  yr_built  \\\n",
              "0            0     0          5         870            810      1922   \n",
              "1            0     0          3        3060              0      1992   \n",
              "2            0     0          4        1290            670      1977   \n",
              "3            0     0          3        2650              0      2014   \n",
              "4            0     0          3        2010              0      1994   \n",
              "5            0     0          3        5010              0      1988   \n",
              "6            0     0          4        1620           1300      1981   \n",
              "7            0     0          5         980              0      1978   \n",
              "8            0     0          3        2460           1490      1989   \n",
              "9            0     0          5        1410            490      1942   \n",
              "10           0     0          3        1010            600      1941   \n",
              "11           0     0          4        1370            290      1980   \n",
              "12           0     0          3        3880              0      1972   \n",
              "13           0     0          3        3200            170      1951   \n",
              "14           0     0          3        2540              0      2006   \n",
              "15           0     0          3        1140            500      1984   \n",
              "16           0     0          4        1090              0      1969   \n",
              "17           0     0          3        2380              0      1917   \n",
              "18           0     0          3        2980              0      2000   \n",
              "19           0     0          3        2380              0      2005   \n",
              "\n",
              "    yr_renovated                    street           city  statezip country  \n",
              "0           1956        1600-1608 25th Ave        Seattle  WA 98122     USA  \n",
              "1              0   31701-31799 SE 291st St     Ravensdale  WA 98051     USA  \n",
              "2              0         12207 NE 139th Pl       Kirkland  WA 98034     USA  \n",
              "3              0        13516 164th Ave SE         Renton  WA 98059     USA  \n",
              "4              0          8818 NE 150th St        Kenmore  WA 98028     USA  \n",
              "5           2000         6265 160th Ave SE       Bellevue  WA 98006     USA  \n",
              "6              0          14245 SE 60th St       Bellevue  WA 98006     USA  \n",
              "7              0        17026 426th Ave SE     North Bend  WA 98045     USA  \n",
              "8              0       19851 NE Redmond Rd        Redmond  WA 98053     USA  \n",
              "9              0           4324 NE 56th St        Seattle  WA 98105     USA  \n",
              "10          1994        5404 Columbia Dr S        Seattle  WA 98108     USA  \n",
              "11             0          9828 159th Pl NE        Redmond  WA 98052     USA  \n",
              "12          2003           7845 SE 62nd St  Mercer Island  WA 98040     USA  \n",
              "13          1994      15043 Densmore Ave N      Shoreline  WA 98133     USA  \n",
              "14             0        21720 SE 299th Way           Kent  WA 98042     USA  \n",
              "15             0           37724 26th Dr S    Federal Way  WA 98003     USA  \n",
              "16             0         11845 SE 319th Pl         Auburn  WA 98092     USA  \n",
              "17          2009        4554 Latona Ave NE        Seattle  WA 98105     USA  \n",
              "18             0  34823 Rhododendron Dr SE     Snoqualmie  WA 98065     USA  \n",
              "19             0         22840 SE 269th St   Maple Valley  WA 98038     USA  "
            ]
          },
          "metadata": {
            "tags": []
          },
          "execution_count": 37
        }
      ]
    },
    {
      "cell_type": "code",
      "metadata": {
        "id": "eJZufzT_nMeY",
        "colab_type": "code",
        "colab": {}
      },
      "source": [
        "make_prediction.head()"
      ],
      "execution_count": null,
      "outputs": []
    },
    {
      "cell_type": "markdown",
      "metadata": {
        "id": "82DRw1aSn0k2",
        "colab_type": "text"
      },
      "source": [
        "# **Visualizing Data**"
      ]
    },
    {
      "cell_type": "code",
      "metadata": {
        "id": "7rCXmuFmnQi2",
        "colab_type": "code",
        "colab": {
          "base_uri": "https://localhost:8080/",
          "height": 297
        },
        "outputId": "a5d37d0b-04fb-4567-e01c-46f73500233f"
      },
      "source": [
        "data.describe()"
      ],
      "execution_count": 6,
      "outputs": [
        {
          "output_type": "execute_result",
          "data": {
            "text/html": [
              "<div>\n",
              "<style scoped>\n",
              "    .dataframe tbody tr th:only-of-type {\n",
              "        vertical-align: middle;\n",
              "    }\n",
              "\n",
              "    .dataframe tbody tr th {\n",
              "        vertical-align: top;\n",
              "    }\n",
              "\n",
              "    .dataframe thead th {\n",
              "        text-align: right;\n",
              "    }\n",
              "</style>\n",
              "<table border=\"1\" class=\"dataframe\">\n",
              "  <thead>\n",
              "    <tr style=\"text-align: right;\">\n",
              "      <th></th>\n",
              "      <th>Id</th>\n",
              "      <th>price</th>\n",
              "      <th>bedrooms</th>\n",
              "      <th>bathrooms</th>\n",
              "      <th>sqft_living</th>\n",
              "      <th>sqft_lot</th>\n",
              "      <th>floors</th>\n",
              "      <th>waterfront</th>\n",
              "      <th>view</th>\n",
              "      <th>condition</th>\n",
              "      <th>sqft_above</th>\n",
              "      <th>sqft_basement</th>\n",
              "      <th>yr_built</th>\n",
              "      <th>yr_renovated</th>\n",
              "    </tr>\n",
              "  </thead>\n",
              "  <tbody>\n",
              "    <tr>\n",
              "      <th>count</th>\n",
              "      <td>3000.000000</td>\n",
              "      <td>3.000000e+03</td>\n",
              "      <td>3000.000000</td>\n",
              "      <td>3000.000000</td>\n",
              "      <td>3000.000000</td>\n",
              "      <td>3.000000e+03</td>\n",
              "      <td>3000.000000</td>\n",
              "      <td>3000.000000</td>\n",
              "      <td>3000.000000</td>\n",
              "      <td>3000.000000</td>\n",
              "      <td>3000.000000</td>\n",
              "      <td>3000.000000</td>\n",
              "      <td>3000.000000</td>\n",
              "      <td>3000.000000</td>\n",
              "    </tr>\n",
              "    <tr>\n",
              "      <th>mean</th>\n",
              "      <td>1500.500000</td>\n",
              "      <td>5.593498e+05</td>\n",
              "      <td>3.397000</td>\n",
              "      <td>2.158250</td>\n",
              "      <td>2134.094000</td>\n",
              "      <td>1.464680e+04</td>\n",
              "      <td>1.511333</td>\n",
              "      <td>0.008333</td>\n",
              "      <td>0.242000</td>\n",
              "      <td>3.447000</td>\n",
              "      <td>1821.023333</td>\n",
              "      <td>313.070667</td>\n",
              "      <td>1971.042667</td>\n",
              "      <td>792.034333</td>\n",
              "    </tr>\n",
              "    <tr>\n",
              "      <th>std</th>\n",
              "      <td>866.169729</td>\n",
              "      <td>6.346427e+05</td>\n",
              "      <td>0.910128</td>\n",
              "      <td>0.770071</td>\n",
              "      <td>946.966058</td>\n",
              "      <td>3.634340e+04</td>\n",
              "      <td>0.541420</td>\n",
              "      <td>0.090921</td>\n",
              "      <td>0.783352</td>\n",
              "      <td>0.674297</td>\n",
              "      <td>844.532322</td>\n",
              "      <td>466.736261</td>\n",
              "      <td>29.622874</td>\n",
              "      <td>976.379493</td>\n",
              "    </tr>\n",
              "    <tr>\n",
              "      <th>min</th>\n",
              "      <td>1.000000</td>\n",
              "      <td>7.800000e+03</td>\n",
              "      <td>0.000000</td>\n",
              "      <td>0.000000</td>\n",
              "      <td>370.000000</td>\n",
              "      <td>6.380000e+02</td>\n",
              "      <td>1.000000</td>\n",
              "      <td>0.000000</td>\n",
              "      <td>0.000000</td>\n",
              "      <td>1.000000</td>\n",
              "      <td>370.000000</td>\n",
              "      <td>0.000000</td>\n",
              "      <td>1900.000000</td>\n",
              "      <td>0.000000</td>\n",
              "    </tr>\n",
              "    <tr>\n",
              "      <th>25%</th>\n",
              "      <td>750.750000</td>\n",
              "      <td>3.250000e+05</td>\n",
              "      <td>3.000000</td>\n",
              "      <td>1.750000</td>\n",
              "      <td>1460.000000</td>\n",
              "      <td>5.000000e+03</td>\n",
              "      <td>1.000000</td>\n",
              "      <td>0.000000</td>\n",
              "      <td>0.000000</td>\n",
              "      <td>3.000000</td>\n",
              "      <td>1190.000000</td>\n",
              "      <td>0.000000</td>\n",
              "      <td>1951.000000</td>\n",
              "      <td>0.000000</td>\n",
              "    </tr>\n",
              "    <tr>\n",
              "      <th>50%</th>\n",
              "      <td>1500.500000</td>\n",
              "      <td>4.642500e+05</td>\n",
              "      <td>3.000000</td>\n",
              "      <td>2.250000</td>\n",
              "      <td>1975.000000</td>\n",
              "      <td>7.651000e+03</td>\n",
              "      <td>1.500000</td>\n",
              "      <td>0.000000</td>\n",
              "      <td>0.000000</td>\n",
              "      <td>3.000000</td>\n",
              "      <td>1590.000000</td>\n",
              "      <td>0.000000</td>\n",
              "      <td>1976.000000</td>\n",
              "      <td>0.000000</td>\n",
              "    </tr>\n",
              "    <tr>\n",
              "      <th>75%</th>\n",
              "      <td>2250.250000</td>\n",
              "      <td>6.575000e+05</td>\n",
              "      <td>4.000000</td>\n",
              "      <td>2.500000</td>\n",
              "      <td>2630.000000</td>\n",
              "      <td>1.090125e+04</td>\n",
              "      <td>2.000000</td>\n",
              "      <td>0.000000</td>\n",
              "      <td>0.000000</td>\n",
              "      <td>4.000000</td>\n",
              "      <td>2303.000000</td>\n",
              "      <td>620.000000</td>\n",
              "      <td>1997.000000</td>\n",
              "      <td>1999.000000</td>\n",
              "    </tr>\n",
              "    <tr>\n",
              "      <th>max</th>\n",
              "      <td>3000.000000</td>\n",
              "      <td>2.659000e+07</td>\n",
              "      <td>9.000000</td>\n",
              "      <td>8.000000</td>\n",
              "      <td>13540.000000</td>\n",
              "      <td>1.074218e+06</td>\n",
              "      <td>3.500000</td>\n",
              "      <td>1.000000</td>\n",
              "      <td>4.000000</td>\n",
              "      <td>5.000000</td>\n",
              "      <td>9410.000000</td>\n",
              "      <td>4820.000000</td>\n",
              "      <td>2014.000000</td>\n",
              "      <td>2014.000000</td>\n",
              "    </tr>\n",
              "  </tbody>\n",
              "</table>\n",
              "</div>"
            ],
            "text/plain": [
              "                Id         price     bedrooms    bathrooms   sqft_living  \\\n",
              "count  3000.000000  3.000000e+03  3000.000000  3000.000000   3000.000000   \n",
              "mean   1500.500000  5.593498e+05     3.397000     2.158250   2134.094000   \n",
              "std     866.169729  6.346427e+05     0.910128     0.770071    946.966058   \n",
              "min       1.000000  7.800000e+03     0.000000     0.000000    370.000000   \n",
              "25%     750.750000  3.250000e+05     3.000000     1.750000   1460.000000   \n",
              "50%    1500.500000  4.642500e+05     3.000000     2.250000   1975.000000   \n",
              "75%    2250.250000  6.575000e+05     4.000000     2.500000   2630.000000   \n",
              "max    3000.000000  2.659000e+07     9.000000     8.000000  13540.000000   \n",
              "\n",
              "           sqft_lot       floors   waterfront         view    condition  \\\n",
              "count  3.000000e+03  3000.000000  3000.000000  3000.000000  3000.000000   \n",
              "mean   1.464680e+04     1.511333     0.008333     0.242000     3.447000   \n",
              "std    3.634340e+04     0.541420     0.090921     0.783352     0.674297   \n",
              "min    6.380000e+02     1.000000     0.000000     0.000000     1.000000   \n",
              "25%    5.000000e+03     1.000000     0.000000     0.000000     3.000000   \n",
              "50%    7.651000e+03     1.500000     0.000000     0.000000     3.000000   \n",
              "75%    1.090125e+04     2.000000     0.000000     0.000000     4.000000   \n",
              "max    1.074218e+06     3.500000     1.000000     4.000000     5.000000   \n",
              "\n",
              "        sqft_above  sqft_basement     yr_built  yr_renovated  \n",
              "count  3000.000000    3000.000000  3000.000000   3000.000000  \n",
              "mean   1821.023333     313.070667  1971.042667    792.034333  \n",
              "std     844.532322     466.736261    29.622874    976.379493  \n",
              "min     370.000000       0.000000  1900.000000      0.000000  \n",
              "25%    1190.000000       0.000000  1951.000000      0.000000  \n",
              "50%    1590.000000       0.000000  1976.000000      0.000000  \n",
              "75%    2303.000000     620.000000  1997.000000   1999.000000  \n",
              "max    9410.000000    4820.000000  2014.000000   2014.000000  "
            ]
          },
          "metadata": {
            "tags": []
          },
          "execution_count": 6
        }
      ]
    },
    {
      "cell_type": "code",
      "metadata": {
        "id": "fSHSbw1znXj3",
        "colab_type": "code",
        "colab": {
          "base_uri": "https://localhost:8080/",
          "height": 34
        },
        "outputId": "23e78cf4-83cf-43d0-d268-7e9ffe2ad21d"
      },
      "source": [
        "X = data.drop(['price','Id','street','country'], axis=1)\n",
        "y = data['price']\n",
        "\n",
        "X.shape, y.shape\n"
      ],
      "execution_count": 40,
      "outputs": [
        {
          "output_type": "execute_result",
          "data": {
            "text/plain": [
              "((3000, 14), (3000,))"
            ]
          },
          "metadata": {
            "tags": []
          },
          "execution_count": 40
        }
      ]
    },
    {
      "cell_type": "markdown",
      "metadata": {
        "id": "jab2aXTQYeSK",
        "colab_type": "text"
      },
      "source": [
        "## **1.\tDetermine, which features, are continuous vs categorical**"
      ]
    },
    {
      "cell_type": "code",
      "metadata": {
        "id": "dyCUaGIlZrUw",
        "colab_type": "code",
        "colab": {
          "base_uri": "https://localhost:8080/",
          "height": 85
        },
        "outputId": "7f099844-bc99-47f7-8247-7b8e86013505"
      },
      "source": [
        "print(\"View:\",set(X.view))\n",
        "print(\"Floors:\",set(X.floors))\n",
        "print(\"Waterfront:\",set(X.waterfront))\n",
        "print(\"Condition:\",set(X.condition))"
      ],
      "execution_count": 50,
      "outputs": [
        {
          "output_type": "stream",
          "text": [
            "View: {0, 1, 2, 3, 4}\n",
            "Floors: {1.0, 2.5, 2.0, 3.0, 1.5, 3.5}\n",
            "Waterfront: {0, 1}\n",
            "Condition: {1, 2, 3, 4, 5}\n"
          ],
          "name": "stdout"
        }
      ]
    },
    {
      "cell_type": "code",
      "metadata": {
        "id": "oFEgB6seYbPs",
        "colab_type": "code",
        "colab": {}
      },
      "source": [
        "cont_feat = ['bedrooms',\t'bathrooms',\t'sqft_living',\t'sqft_lot',\t'floors',\t'waterfront',\t'view',\t'condition',\t'sqft_above',\t'sqft_basement', 'yr_built',\t'yr_renovated']"
      ],
      "execution_count": 60,
      "outputs": []
    },
    {
      "cell_type": "markdown",
      "metadata": {
        "id": "NGMi7YohRmrU",
        "colab_type": "text"
      },
      "source": [
        "### **Distribution of Bathrooms**"
      ]
    },
    {
      "cell_type": "code",
      "metadata": {
        "id": "uqeC-hSg6ZGb",
        "colab_type": "code",
        "colab": {
          "base_uri": "https://localhost:8080/",
          "height": 295
        },
        "outputId": "42339f95-0cda-4882-cc86-15a93a8f3b19"
      },
      "source": [
        "plt.hist(X.bedrooms, bins =10, )\n",
        "plt.gca().set(title='Bedrooms Distribution', ylabel='Frequency', xlabel='Number of Bedrooms');"
      ],
      "execution_count": 35,
      "outputs": [
        {
          "output_type": "display_data",
          "data": {
            "image/png": "[encoded data removed]",
            "text/plain": [
              "<Figure size 432x288 with 1 Axes>"
            ]
          },
          "metadata": {
            "tags": [],
            "needs_background": "light"
          }
        }
      ]
    },
    {
      "cell_type": "code",
      "metadata": {
        "id": "MBCQMMnq6kz3",
        "colab_type": "code",
        "colab": {
          "base_uri": "https://localhost:8080/",
          "height": 295
        },
        "outputId": "7c4e1218-b375-451b-8ad5-a0e9760a7e93"
      },
      "source": [
        "plt.hist(X.bathrooms, bins =32)\n",
        "plt.gca().set(title='Bathrooms Distribution', ylabel='Frequency', xlabel='Number of Bathrooms');"
      ],
      "execution_count": 36,
      "outputs": [
        {
          "output_type": "display_data",
          "data": {
            "image/png": "[encoded data removed]",
            "text/plain": [
              "<Figure size 432x288 with 1 Axes>"
            ]
          },
          "metadata": {
            "tags": [],
            "needs_background": "light"
          }
        }
      ]
    },
    {
      "cell_type": "code",
      "metadata": {
        "id": "PUyLxINwRRkN",
        "colab_type": "code",
        "colab": {
          "base_uri": "https://localhost:8080/",
          "height": 314
        },
        "outputId": "ec944c3e-169a-48f8-f9ec-19ab3f552369"
      },
      "source": [
        "fig, axs = plt.subplots(3, 4, sharey=True, tight_layout=True)\n",
        "axs[0].hist(X.bathrooms)\n",
        "axs[0].set_title('Bathrooms Distribution')\n",
        "axs[0].set_xlabel('Bathrooms')\n",
        "axs[0].set_ylabel('Frequency')"
      ],
      "execution_count": 57,
      "outputs": [
        {
          "output_type": "execute_result",
          "data": {
            "text/plain": [
              "Text(0, 0.5, 'Frequency')"
            ]
          },
          "metadata": {
            "tags": []
          },
          "execution_count": 57
        },
        {
          "output_type": "display_data",
          "data": {
            "image/png": "[encoded data removed]",
            "text/plain": [
              "<Figure size 432x288 with 2 Axes>"
            ]
          },
          "metadata": {
            "tags": [],
            "needs_background": "light"
          }
        }
      ]
    },
    {
      "cell_type": "code",
      "metadata": {
        "id": "bnZ2NbMcZZSr",
        "colab_type": "code",
        "colab": {
          "base_uri": "https://localhost:8080/",
          "height": 34
        },
        "outputId": "9be192b4-10fc-4796-9fc9-e45d7893e5d1"
      },
      "source": [
        "print(axs[1])"
      ],
      "execution_count": 59,
      "outputs": [
        {
          "output_type": "stream",
          "text": [
            "AxesSubplot(0.558579,0.145139;0.398047x0.761806)\n"
          ],
          "name": "stdout"
        }
      ]
    },
    {
      "cell_type": "code",
      "metadata": {
        "id": "jHdEaxzWeLZH",
        "colab_type": "code",
        "colab": {
          "base_uri": "https://localhost:8080/",
          "height": 1000
        },
        "outputId": "6535eb1c-1ba0-4dc0-fedb-dc0f9f1f86ee"
      },
      "source": [
        "fig, axs = plt.subplots(3, 4, sharey=True, tight_layout=True, figsize=(15,15))\n",
        "axs = axs.ravel()\n",
        "for i in range(12):\n",
        "    axs[i].hist(X[cont_feat[i]])\n",
        "    axs[i].set_title(str(cont_feat[i])+ \"Distribution\")\n",
        "    axs[i].set_xlabel(cont_feat[i])\n",
        "    axs[i].set_ylabel('Frequency')"
      ],
      "execution_count": 63,
      "outputs": [
        {
          "output_type": "display_data",
          "data": {
            "image/png": "[encoded data removed]",
            "text/plain": [
              "<Figure size 1080x1080 with 12 Axes>"
            ]
          },
          "metadata": {
            "tags": [],
            "needs_background": "light"
          }
        }
      ]
    },
    {
      "cell_type": "code",
      "metadata": {
        "id": "oC20XEvNfZFH",
        "colab_type": "code",
        "colab": {}
      },
      "source": [
        ""
      ],
      "execution_count": null,
      "outputs": []
    }
  ]
}